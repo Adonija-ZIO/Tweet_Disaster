{
 "cells": [
  {
   "cell_type": "markdown",
   "id": "6daa4102",
   "metadata": {
    "papermill": {
     "duration": 0.01516,
     "end_time": "2023-05-06T23:49:34.761061",
     "exception": false,
     "start_time": "2023-05-06T23:49:34.745901",
     "status": "completed"
    },
    "tags": []
   },
   "source": [
    "# NLP with Disaster Tweets - USE"
   ]
  },
  {
   "cell_type": "markdown",
   "id": "729c32f1",
   "metadata": {
    "papermill": {
     "duration": 0.014481,
     "end_time": "2023-05-06T23:49:34.790470",
     "exception": false,
     "start_time": "2023-05-06T23:49:34.775989",
     "status": "completed"
    },
    "tags": []
   },
   "source": [
    "# Exploratory Data Analysis "
   ]
  },
  {
   "cell_type": "markdown",
   "id": "99590fc5",
   "metadata": {
    "papermill": {
     "duration": 0.01432,
     "end_time": "2023-05-06T23:49:34.820438",
     "exception": false,
     "start_time": "2023-05-06T23:49:34.806118",
     "status": "completed"
    },
    "tags": []
   },
   "source": [
    "####  Imports"
   ]
  },
  {
   "cell_type": "code",
   "execution_count": 1,
   "id": "c43fc5f4",
   "metadata": {
    "execution": {
     "iopub.execute_input": "2023-05-06T23:49:34.852140Z",
     "iopub.status.busy": "2023-05-06T23:49:34.851423Z",
     "iopub.status.idle": "2023-05-06T23:49:47.091112Z",
     "shell.execute_reply": "2023-05-06T23:49:47.089623Z"
    },
    "papermill": {
     "duration": 12.257586,
     "end_time": "2023-05-06T23:49:47.093088",
     "exception": false,
     "start_time": "2023-05-06T23:49:34.835502",
     "status": "completed"
    },
    "tags": []
   },
   "outputs": [
    {
     "name": "stdout",
     "output_type": "stream",
     "text": [
      "Collecting pandarallel\r\n",
      "  Downloading pandarallel-1.6.5.tar.gz (14 kB)\r\n",
      "  Preparing metadata (setup.py) ... \u001b[?25l-\b \b\\\b \bdone\r\n",
      "\u001b[?25hRequirement already satisfied: dill>=0.3.1 in /opt/conda/lib/python3.10/site-packages (from pandarallel) (0.3.6)\r\n",
      "Requirement already satisfied: pandas>=1 in /opt/conda/lib/python3.10/site-packages (from pandarallel) (1.5.3)\r\n",
      "Requirement already satisfied: psutil in /opt/conda/lib/python3.10/site-packages (from pandarallel) (5.9.4)\r\n",
      "Requirement already satisfied: python-dateutil>=2.8.1 in /opt/conda/lib/python3.10/site-packages (from pandas>=1->pandarallel) (2.8.2)\r\n",
      "Requirement already satisfied: pytz>=2020.1 in /opt/conda/lib/python3.10/site-packages (from pandas>=1->pandarallel) (2023.3)\r\n",
      "Requirement already satisfied: numpy>=1.21.0 in /opt/conda/lib/python3.10/site-packages (from pandas>=1->pandarallel) (1.23.5)\r\n",
      "Requirement already satisfied: six>=1.5 in /opt/conda/lib/python3.10/site-packages (from python-dateutil>=2.8.1->pandas>=1->pandarallel) (1.16.0)\r\n",
      "Building wheels for collected packages: pandarallel\r\n",
      "  Building wheel for pandarallel (setup.py) ... \u001b[?25l-\b \b\\\b \bdone\r\n",
      "\u001b[?25h  Created wheel for pandarallel: filename=pandarallel-1.6.5-py3-none-any.whl size=16693 sha256=b9ca535c8efc9b7688f28b6045bfad04c634d06da3f9a09ceef18ab73b9259a4\r\n",
      "  Stored in directory: /root/.cache/pip/wheels/50/4f/1e/34e057bb868842209f1623f195b74fd7eda229308a7352d47f\r\n",
      "Successfully built pandarallel\r\n",
      "Installing collected packages: pandarallel\r\n",
      "Successfully installed pandarallel-1.6.5\r\n",
      "\u001b[33mWARNING: Running pip as the 'root' user can result in broken permissions and conflicting behaviour with the system package manager. It is recommended to use a virtual environment instead: https://pip.pypa.io/warnings/venv\u001b[0m\u001b[33m\r\n",
      "\u001b[0mNote: you may need to restart the kernel to use updated packages.\n"
     ]
    }
   ],
   "source": [
    "pip install pandarallel"
   ]
  },
  {
   "cell_type": "code",
   "execution_count": 2,
   "id": "cf752cbb",
   "metadata": {
    "execution": {
     "iopub.execute_input": "2023-05-06T23:49:47.127675Z",
     "iopub.status.busy": "2023-05-06T23:49:47.126801Z",
     "iopub.status.idle": "2023-05-06T23:49:56.579584Z",
     "shell.execute_reply": "2023-05-06T23:49:56.578225Z"
    },
    "papermill": {
     "duration": 9.473034,
     "end_time": "2023-05-06T23:49:56.581741",
     "exception": false,
     "start_time": "2023-05-06T23:49:47.108707",
     "status": "completed"
    },
    "tags": []
   },
   "outputs": [
    {
     "name": "stdout",
     "output_type": "stream",
     "text": [
      "Collecting nlpaug\r\n",
      "  Downloading nlpaug-1.1.11-py3-none-any.whl (410 kB)\r\n",
      "\u001b[2K     \u001b[90m━━━━━━━━━━━━━━━━━━━━━━━━━━━━━━━━━━━━━━━\u001b[0m \u001b[32m410.5/410.5 kB\u001b[0m \u001b[31m8.6 MB/s\u001b[0m eta \u001b[36m0:00:00\u001b[0m\r\n",
      "\u001b[?25hCollecting gdown>=4.0.0\r\n",
      "  Downloading gdown-4.7.1-py3-none-any.whl (15 kB)\r\n",
      "Requirement already satisfied: requests>=2.22.0 in /opt/conda/lib/python3.10/site-packages (from nlpaug) (2.28.2)\r\n",
      "Requirement already satisfied: pandas>=1.2.0 in /opt/conda/lib/python3.10/site-packages (from nlpaug) (1.5.3)\r\n",
      "Requirement already satisfied: numpy>=1.16.2 in /opt/conda/lib/python3.10/site-packages (from nlpaug) (1.23.5)\r\n",
      "Requirement already satisfied: six in /opt/conda/lib/python3.10/site-packages (from gdown>=4.0.0->nlpaug) (1.16.0)\r\n",
      "Requirement already satisfied: beautifulsoup4 in /opt/conda/lib/python3.10/site-packages (from gdown>=4.0.0->nlpaug) (4.12.2)\r\n",
      "Requirement already satisfied: tqdm in /opt/conda/lib/python3.10/site-packages (from gdown>=4.0.0->nlpaug) (4.64.1)\r\n",
      "Requirement already satisfied: filelock in /opt/conda/lib/python3.10/site-packages (from gdown>=4.0.0->nlpaug) (3.11.0)\r\n",
      "Requirement already satisfied: python-dateutil>=2.8.1 in /opt/conda/lib/python3.10/site-packages (from pandas>=1.2.0->nlpaug) (2.8.2)\r\n",
      "Requirement already satisfied: pytz>=2020.1 in /opt/conda/lib/python3.10/site-packages (from pandas>=1.2.0->nlpaug) (2023.3)\r\n",
      "Requirement already satisfied: urllib3<1.27,>=1.21.1 in /opt/conda/lib/python3.10/site-packages (from requests>=2.22.0->nlpaug) (1.26.15)\r\n",
      "Requirement already satisfied: charset-normalizer<4,>=2 in /opt/conda/lib/python3.10/site-packages (from requests>=2.22.0->nlpaug) (2.1.1)\r\n",
      "Requirement already satisfied: certifi>=2017.4.17 in /opt/conda/lib/python3.10/site-packages (from requests>=2.22.0->nlpaug) (2022.12.7)\r\n",
      "Requirement already satisfied: idna<4,>=2.5 in /opt/conda/lib/python3.10/site-packages (from requests>=2.22.0->nlpaug) (3.4)\r\n",
      "Requirement already satisfied: soupsieve>1.2 in /opt/conda/lib/python3.10/site-packages (from beautifulsoup4->gdown>=4.0.0->nlpaug) (2.4)\r\n",
      "Requirement already satisfied: PySocks!=1.5.7,>=1.5.6 in /opt/conda/lib/python3.10/site-packages (from requests>=2.22.0->nlpaug) (1.7.1)\r\n",
      "Installing collected packages: gdown, nlpaug\r\n",
      "Successfully installed gdown-4.7.1 nlpaug-1.1.11\r\n",
      "\u001b[33mWARNING: Running pip as the 'root' user can result in broken permissions and conflicting behaviour with the system package manager. It is recommended to use a virtual environment instead: https://pip.pypa.io/warnings/venv\u001b[0m\u001b[33m\r\n",
      "\u001b[0mNote: you may need to restart the kernel to use updated packages.\n"
     ]
    }
   ],
   "source": [
    "pip install nlpaug"
   ]
  },
  {
   "cell_type": "code",
   "execution_count": 3,
   "id": "dfa10058",
   "metadata": {
    "_cell_guid": "b1076dfc-b9ad-4769-8c92-a6c4dae69d19",
    "_uuid": "8f2839f25d086af736a60e9eeb907d3b93b6e0e5",
    "execution": {
     "iopub.execute_input": "2023-05-06T23:49:56.619078Z",
     "iopub.status.busy": "2023-05-06T23:49:56.618736Z",
     "iopub.status.idle": "2023-05-06T23:50:14.518995Z",
     "shell.execute_reply": "2023-05-06T23:50:14.517685Z"
    },
    "papermill": {
     "duration": 17.922011,
     "end_time": "2023-05-06T23:50:14.521377",
     "exception": false,
     "start_time": "2023-05-06T23:49:56.599366",
     "status": "completed"
    },
    "tags": []
   },
   "outputs": [
    {
     "name": "stdout",
     "output_type": "stream",
     "text": [
      "/kaggle/input/nlp-getting-started/sample_submission.csv\n",
      "/kaggle/input/nlp-getting-started/train.csv\n",
      "/kaggle/input/nlp-getting-started/test.csv\n"
     ]
    },
    {
     "name": "stderr",
     "output_type": "stream",
     "text": [
      "/opt/conda/lib/python3.10/site-packages/scipy/__init__.py:146: UserWarning: A NumPy version >=1.16.5 and <1.23.0 is required for this version of SciPy (detected version 1.23.5\n",
      "  warnings.warn(f\"A NumPy version >={np_minversion} and <{np_maxversion}\"\n"
     ]
    },
    {
     "name": "stdout",
     "output_type": "stream",
     "text": [
      "[nltk_data] Downloading package wordnet2022 to /usr/share/nltk_data...\n",
      "[nltk_data]   Unzipping corpora/wordnet2022.zip.\n"
     ]
    }
   ],
   "source": [
    "# This Python 3 environment comes with many helpful analytics libraries installed\n",
    "# It is defined by the kaggle/python Docker image: https://github.com/kaggle/docker-python\n",
    "# For example, here's several helpful packages to load\n",
    "\n",
    "import numpy as np # linear algebra\n",
    "import pandas as pd # data processing, CSV file I/O (e.g. pd.read_csv)\n",
    "\n",
    "# Input data files are available in the read-only \"../input/\" directory\n",
    "# For example, running this (by clicking run or pressing Shift+Enter) will list all files under the input directory\n",
    "\n",
    "import os\n",
    "for dirname, _, filenames in os.walk('/kaggle/input'):\n",
    "    for filename in filenames:\n",
    "        print(os.path.join(dirname, filename))\n",
    "\n",
    "# You can write up to 20GB to the current directory (/kaggle/working/) that gets preserved as output when you create a version using \"Save & Run All\" \n",
    "# You can also write temporary files to /kaggle/temp/, but they won't be saved outside of the current session\n",
    "import matplotlib.pyplot as plt\n",
    "import seaborn as sns\n",
    "\n",
    "#NLP\n",
    "\n",
    "import nltk\n",
    "from nltk.stem import WordNetLemmatizer, PorterStemmer\n",
    "from nltk.tokenize import word_tokenize, wordpunct_tokenize, RegexpTokenizer\n",
    "from nltk.corpus import words, stopwords\n",
    "\n",
    "from wordcloud import WordCloud\n",
    "from PIL import Image\n",
    "\n",
    "#import plotly as px\n",
    "from pandarallel import pandarallel\n",
    "from sklearn.model_selection import train_test_split\n",
    "import tensorflow as tf\n",
    "import tensorflow_hub as hub\n",
    "\n",
    "\n",
    "import nlpaug.augmenter.word as naw\n",
    "nltk.download('wordnet2022')\n",
    "! cp -rf /usr/share/nltk_data/corpora/wordnet2022 /usr/share/nltk_data/corpora/wordnet # temp fix for lookup error."
   ]
  },
  {
   "cell_type": "code",
   "execution_count": 4,
   "id": "04039bbf",
   "metadata": {
    "execution": {
     "iopub.execute_input": "2023-05-06T23:50:14.555697Z",
     "iopub.status.busy": "2023-05-06T23:50:14.555359Z",
     "iopub.status.idle": "2023-05-06T23:50:15.261430Z",
     "shell.execute_reply": "2023-05-06T23:50:15.260325Z"
    },
    "papermill": {
     "duration": 0.725542,
     "end_time": "2023-05-06T23:50:15.263462",
     "exception": false,
     "start_time": "2023-05-06T23:50:14.537920",
     "status": "completed"
    },
    "tags": []
   },
   "outputs": [
    {
     "name": "stdout",
     "output_type": "stream",
     "text": [
      "[nltk_data] Downloading package omw-1.4 to /usr/share/nltk_data...\n",
      "[nltk_data] Downloading package wordnet to /usr/share/nltk_data...\n",
      "[nltk_data]   Unzipping corpora/wordnet.zip.\n",
      "[nltk_data] Downloading package stopwords to /usr/share/nltk_data...\n",
      "[nltk_data]   Package stopwords is already up-to-date!\n",
      "[nltk_data] Downloading package words to /usr/share/nltk_data...\n",
      "[nltk_data]   Package words is already up-to-date!\n"
     ]
    },
    {
     "data": {
      "text/plain": [
       "True"
      ]
     },
     "execution_count": 4,
     "metadata": {},
     "output_type": "execute_result"
    }
   ],
   "source": [
    "# download\n",
    "\n",
    "nltk.download('omw-1.4')\n",
    "nltk.download('wordnet')\n",
    "nltk.download('stopwords')\n",
    "nltk.download('words')\n"
   ]
  },
  {
   "cell_type": "markdown",
   "id": "70f64ba0",
   "metadata": {
    "papermill": {
     "duration": 0.016564,
     "end_time": "2023-05-06T23:50:15.297072",
     "exception": false,
     "start_time": "2023-05-06T23:50:15.280508",
     "status": "completed"
    },
    "tags": []
   },
   "source": [
    "#### Load data"
   ]
  },
  {
   "cell_type": "code",
   "execution_count": 5,
   "id": "d5111d60",
   "metadata": {
    "execution": {
     "iopub.execute_input": "2023-05-06T23:50:15.331323Z",
     "iopub.status.busy": "2023-05-06T23:50:15.331031Z",
     "iopub.status.idle": "2023-05-06T23:50:15.402559Z",
     "shell.execute_reply": "2023-05-06T23:50:15.401666Z"
    },
    "papermill": {
     "duration": 0.090996,
     "end_time": "2023-05-06T23:50:15.404530",
     "exception": false,
     "start_time": "2023-05-06T23:50:15.313534",
     "status": "completed"
    },
    "tags": []
   },
   "outputs": [
    {
     "name": "stdout",
     "output_type": "stream",
     "text": [
      "Training Set Shape = (7613, 5)\n",
      "Training Set Memory Usage = 0.20 MB\n",
      "Test Set Shape = (3263, 4)\n",
      "Test Set Memory Usage = 0.08 MB\n"
     ]
    }
   ],
   "source": [
    "df_train = pd.read_csv(\"/kaggle/input/nlp-getting-started/train.csv\", dtype={'id': np.int16, 'target': np.int8})\n",
    "df_test = pd.read_csv(\"/kaggle/input/nlp-getting-started/test.csv\", dtype={'id': np.int16})\n",
    "\n",
    "print('Training Set Shape = {}'.format(df_train.shape))\n",
    "print('Training Set Memory Usage = {:.2f} MB'.format(df_train.memory_usage().sum() / 1024**2))\n",
    "print('Test Set Shape = {}'.format(df_test.shape))\n",
    "print('Test Set Memory Usage = {:.2f} MB'.format(df_test.memory_usage().sum() / 1024**2))"
   ]
  },
  {
   "cell_type": "markdown",
   "id": "620b864c",
   "metadata": {
    "papermill": {
     "duration": 0.0162,
     "end_time": "2023-05-06T23:50:15.437679",
     "exception": false,
     "start_time": "2023-05-06T23:50:15.421479",
     "status": "completed"
    },
    "tags": []
   },
   "source": [
    "## First tour"
   ]
  },
  {
   "cell_type": "code",
   "execution_count": 6,
   "id": "46a58c18",
   "metadata": {
    "execution": {
     "iopub.execute_input": "2023-05-06T23:50:15.472576Z",
     "iopub.status.busy": "2023-05-06T23:50:15.471164Z",
     "iopub.status.idle": "2023-05-06T23:50:15.488675Z",
     "shell.execute_reply": "2023-05-06T23:50:15.487760Z"
    },
    "papermill": {
     "duration": 0.036617,
     "end_time": "2023-05-06T23:50:15.490633",
     "exception": false,
     "start_time": "2023-05-06T23:50:15.454016",
     "status": "completed"
    },
    "tags": []
   },
   "outputs": [
    {
     "data": {
      "text/html": [
       "<div>\n",
       "<style scoped>\n",
       "    .dataframe tbody tr th:only-of-type {\n",
       "        vertical-align: middle;\n",
       "    }\n",
       "\n",
       "    .dataframe tbody tr th {\n",
       "        vertical-align: top;\n",
       "    }\n",
       "\n",
       "    .dataframe thead th {\n",
       "        text-align: right;\n",
       "    }\n",
       "</style>\n",
       "<table border=\"1\" class=\"dataframe\">\n",
       "  <thead>\n",
       "    <tr style=\"text-align: right;\">\n",
       "      <th></th>\n",
       "      <th>id</th>\n",
       "      <th>keyword</th>\n",
       "      <th>location</th>\n",
       "      <th>text</th>\n",
       "      <th>target</th>\n",
       "    </tr>\n",
       "  </thead>\n",
       "  <tbody>\n",
       "    <tr>\n",
       "      <th>0</th>\n",
       "      <td>1</td>\n",
       "      <td>NaN</td>\n",
       "      <td>NaN</td>\n",
       "      <td>Our Deeds are the Reason of this #earthquake M...</td>\n",
       "      <td>1</td>\n",
       "    </tr>\n",
       "    <tr>\n",
       "      <th>1</th>\n",
       "      <td>4</td>\n",
       "      <td>NaN</td>\n",
       "      <td>NaN</td>\n",
       "      <td>Forest fire near La Ronge Sask. Canada</td>\n",
       "      <td>1</td>\n",
       "    </tr>\n",
       "    <tr>\n",
       "      <th>2</th>\n",
       "      <td>5</td>\n",
       "      <td>NaN</td>\n",
       "      <td>NaN</td>\n",
       "      <td>All residents asked to 'shelter in place' are ...</td>\n",
       "      <td>1</td>\n",
       "    </tr>\n",
       "    <tr>\n",
       "      <th>3</th>\n",
       "      <td>6</td>\n",
       "      <td>NaN</td>\n",
       "      <td>NaN</td>\n",
       "      <td>13,000 people receive #wildfires evacuation or...</td>\n",
       "      <td>1</td>\n",
       "    </tr>\n",
       "    <tr>\n",
       "      <th>4</th>\n",
       "      <td>7</td>\n",
       "      <td>NaN</td>\n",
       "      <td>NaN</td>\n",
       "      <td>Just got sent this photo from Ruby #Alaska as ...</td>\n",
       "      <td>1</td>\n",
       "    </tr>\n",
       "    <tr>\n",
       "      <th>...</th>\n",
       "      <td>...</td>\n",
       "      <td>...</td>\n",
       "      <td>...</td>\n",
       "      <td>...</td>\n",
       "      <td>...</td>\n",
       "    </tr>\n",
       "    <tr>\n",
       "      <th>7608</th>\n",
       "      <td>10869</td>\n",
       "      <td>NaN</td>\n",
       "      <td>NaN</td>\n",
       "      <td>Two giant cranes holding a bridge collapse int...</td>\n",
       "      <td>1</td>\n",
       "    </tr>\n",
       "    <tr>\n",
       "      <th>7609</th>\n",
       "      <td>10870</td>\n",
       "      <td>NaN</td>\n",
       "      <td>NaN</td>\n",
       "      <td>@aria_ahrary @TheTawniest The out of control w...</td>\n",
       "      <td>1</td>\n",
       "    </tr>\n",
       "    <tr>\n",
       "      <th>7610</th>\n",
       "      <td>10871</td>\n",
       "      <td>NaN</td>\n",
       "      <td>NaN</td>\n",
       "      <td>M1.94 [01:04 UTC]?5km S of Volcano Hawaii. htt...</td>\n",
       "      <td>1</td>\n",
       "    </tr>\n",
       "    <tr>\n",
       "      <th>7611</th>\n",
       "      <td>10872</td>\n",
       "      <td>NaN</td>\n",
       "      <td>NaN</td>\n",
       "      <td>Police investigating after an e-bike collided ...</td>\n",
       "      <td>1</td>\n",
       "    </tr>\n",
       "    <tr>\n",
       "      <th>7612</th>\n",
       "      <td>10873</td>\n",
       "      <td>NaN</td>\n",
       "      <td>NaN</td>\n",
       "      <td>The Latest: More Homes Razed by Northern Calif...</td>\n",
       "      <td>1</td>\n",
       "    </tr>\n",
       "  </tbody>\n",
       "</table>\n",
       "<p>7613 rows × 5 columns</p>\n",
       "</div>"
      ],
      "text/plain": [
       "         id keyword location  \\\n",
       "0         1     NaN      NaN   \n",
       "1         4     NaN      NaN   \n",
       "2         5     NaN      NaN   \n",
       "3         6     NaN      NaN   \n",
       "4         7     NaN      NaN   \n",
       "...     ...     ...      ...   \n",
       "7608  10869     NaN      NaN   \n",
       "7609  10870     NaN      NaN   \n",
       "7610  10871     NaN      NaN   \n",
       "7611  10872     NaN      NaN   \n",
       "7612  10873     NaN      NaN   \n",
       "\n",
       "                                                   text  target  \n",
       "0     Our Deeds are the Reason of this #earthquake M...       1  \n",
       "1                Forest fire near La Ronge Sask. Canada       1  \n",
       "2     All residents asked to 'shelter in place' are ...       1  \n",
       "3     13,000 people receive #wildfires evacuation or...       1  \n",
       "4     Just got sent this photo from Ruby #Alaska as ...       1  \n",
       "...                                                 ...     ...  \n",
       "7608  Two giant cranes holding a bridge collapse int...       1  \n",
       "7609  @aria_ahrary @TheTawniest The out of control w...       1  \n",
       "7610  M1.94 [01:04 UTC]?5km S of Volcano Hawaii. htt...       1  \n",
       "7611  Police investigating after an e-bike collided ...       1  \n",
       "7612  The Latest: More Homes Razed by Northern Calif...       1  \n",
       "\n",
       "[7613 rows x 5 columns]"
      ]
     },
     "execution_count": 6,
     "metadata": {},
     "output_type": "execute_result"
    }
   ],
   "source": [
    "df_train"
   ]
  },
  {
   "cell_type": "code",
   "execution_count": 7,
   "id": "e4dd0610",
   "metadata": {
    "execution": {
     "iopub.execute_input": "2023-05-06T23:50:15.526266Z",
     "iopub.status.busy": "2023-05-06T23:50:15.525984Z",
     "iopub.status.idle": "2023-05-06T23:50:15.542169Z",
     "shell.execute_reply": "2023-05-06T23:50:15.541183Z"
    },
    "papermill": {
     "duration": 0.036279,
     "end_time": "2023-05-06T23:50:15.544048",
     "exception": false,
     "start_time": "2023-05-06T23:50:15.507769",
     "status": "completed"
    },
    "tags": []
   },
   "outputs": [
    {
     "data": {
      "text/plain": [
       "id          7613\n",
       "keyword      221\n",
       "location    3341\n",
       "text        7503\n",
       "target         2\n",
       "dtype: int64"
      ]
     },
     "execution_count": 7,
     "metadata": {},
     "output_type": "execute_result"
    }
   ],
   "source": [
    "tmp = df_train.nunique()\n",
    "tmp"
   ]
  },
  {
   "cell_type": "code",
   "execution_count": 8,
   "id": "361ba861",
   "metadata": {
    "execution": {
     "iopub.execute_input": "2023-05-06T23:50:15.579125Z",
     "iopub.status.busy": "2023-05-06T23:50:15.578834Z",
     "iopub.status.idle": "2023-05-06T23:50:15.591251Z",
     "shell.execute_reply": "2023-05-06T23:50:15.590198Z"
    },
    "papermill": {
     "duration": 0.032606,
     "end_time": "2023-05-06T23:50:15.593433",
     "exception": false,
     "start_time": "2023-05-06T23:50:15.560827",
     "status": "completed"
    },
    "tags": []
   },
   "outputs": [
    {
     "data": {
      "text/plain": [
       "id          0.000000\n",
       "text        0.000000\n",
       "target      0.000000\n",
       "keyword     0.008013\n",
       "location    0.332720\n",
       "dtype: float64"
      ]
     },
     "execution_count": 8,
     "metadata": {},
     "output_type": "execute_result"
    }
   ],
   "source": [
    "df_train.isna().mean().sort_values()"
   ]
  },
  {
   "cell_type": "code",
   "execution_count": 9,
   "id": "db6b77cb",
   "metadata": {
    "execution": {
     "iopub.execute_input": "2023-05-06T23:50:15.631736Z",
     "iopub.status.busy": "2023-05-06T23:50:15.630215Z",
     "iopub.status.idle": "2023-05-06T23:50:16.224759Z",
     "shell.execute_reply": "2023-05-06T23:50:16.223883Z"
    },
    "papermill": {
     "duration": 0.615062,
     "end_time": "2023-05-06T23:50:16.226795",
     "exception": false,
     "start_time": "2023-05-06T23:50:15.611733",
     "status": "completed"
    },
    "tags": []
   },
   "outputs": [
    {
     "data": {
      "text/plain": [
       "<AxesSubplot: >"
      ]
     },
     "execution_count": 9,
     "metadata": {},
     "output_type": "execute_result"
    },
    {
     "data": {
      "image/png": "[encoded data removed]",
      "text/plain": [
       "<Figure size 2000x600 with 2 Axes>"
      ]
     },
     "metadata": {},
     "output_type": "display_data"
    }
   ],
   "source": [
    "fig, ax = plt.subplots(1, 1, figsize=(20, 6))\n",
    "sns.heatmap(df_train.isna())"
   ]
  },
  {
   "cell_type": "code",
   "execution_count": 10,
   "id": "63b37130",
   "metadata": {
    "execution": {
     "iopub.execute_input": "2023-05-06T23:50:16.266449Z",
     "iopub.status.busy": "2023-05-06T23:50:16.265565Z",
     "iopub.status.idle": "2023-05-06T23:50:16.279465Z",
     "shell.execute_reply": "2023-05-06T23:50:16.278420Z"
    },
    "papermill": {
     "duration": 0.036252,
     "end_time": "2023-05-06T23:50:16.281641",
     "exception": false,
     "start_time": "2023-05-06T23:50:16.245389",
     "status": "completed"
    },
    "tags": []
   },
   "outputs": [
    {
     "data": {
      "text/plain": [
       "0"
      ]
     },
     "execution_count": 10,
     "metadata": {},
     "output_type": "execute_result"
    }
   ],
   "source": [
    "df_train.duplicated().sum()"
   ]
  },
  {
   "cell_type": "code",
   "execution_count": 11,
   "id": "3cc45569",
   "metadata": {
    "execution": {
     "iopub.execute_input": "2023-05-06T23:50:16.324913Z",
     "iopub.status.busy": "2023-05-06T23:50:16.324598Z",
     "iopub.status.idle": "2023-05-06T23:50:16.332144Z",
     "shell.execute_reply": "2023-05-06T23:50:16.331231Z"
    },
    "papermill": {
     "duration": 0.030022,
     "end_time": "2023-05-06T23:50:16.334031",
     "exception": false,
     "start_time": "2023-05-06T23:50:16.304009",
     "status": "completed"
    },
    "tags": []
   },
   "outputs": [
    {
     "data": {
      "text/plain": [
       "110"
      ]
     },
     "execution_count": 11,
     "metadata": {},
     "output_type": "execute_result"
    }
   ],
   "source": [
    "df_train.duplicated(subset=\"text\").sum()"
   ]
  },
  {
   "cell_type": "code",
   "execution_count": 12,
   "id": "984b003e",
   "metadata": {
    "execution": {
     "iopub.execute_input": "2023-05-06T23:50:16.373346Z",
     "iopub.status.busy": "2023-05-06T23:50:16.372692Z",
     "iopub.status.idle": "2023-05-06T23:50:16.380895Z",
     "shell.execute_reply": "2023-05-06T23:50:16.379841Z"
    },
    "papermill": {
     "duration": 0.029696,
     "end_time": "2023-05-06T23:50:16.382790",
     "exception": false,
     "start_time": "2023-05-06T23:50:16.353094",
     "status": "completed"
    },
    "tags": []
   },
   "outputs": [
    {
     "name": "stdout",
     "output_type": "stream",
     "text": [
      "col: id -> duplicated: 0\n",
      "col: keyword -> duplicated: 7391\n",
      "col: location -> duplicated: 4271\n",
      "col: text -> duplicated: 110\n",
      "col: target -> duplicated: 7611\n"
     ]
    }
   ],
   "source": [
    "for col in df_train.columns :\n",
    "    n = df_train.duplicated(subset=col).sum()\n",
    "    print(f\"col: {col} -> duplicated: {n}\")"
   ]
  },
  {
   "cell_type": "code",
   "execution_count": 13,
   "id": "378c4e14",
   "metadata": {
    "execution": {
     "iopub.execute_input": "2023-05-06T23:50:16.421786Z",
     "iopub.status.busy": "2023-05-06T23:50:16.421022Z",
     "iopub.status.idle": "2023-05-06T23:50:16.436846Z",
     "shell.execute_reply": "2023-05-06T23:50:16.435932Z"
    },
    "papermill": {
     "duration": 0.037363,
     "end_time": "2023-05-06T23:50:16.438840",
     "exception": false,
     "start_time": "2023-05-06T23:50:16.401477",
     "status": "completed"
    },
    "tags": []
   },
   "outputs": [
    {
     "data": {
      "text/html": [
       "<div>\n",
       "<style scoped>\n",
       "    .dataframe tbody tr th:only-of-type {\n",
       "        vertical-align: middle;\n",
       "    }\n",
       "\n",
       "    .dataframe tbody tr th {\n",
       "        vertical-align: top;\n",
       "    }\n",
       "\n",
       "    .dataframe thead th {\n",
       "        text-align: right;\n",
       "    }\n",
       "</style>\n",
       "<table border=\"1\" class=\"dataframe\">\n",
       "  <thead>\n",
       "    <tr style=\"text-align: right;\">\n",
       "      <th></th>\n",
       "      <th>id</th>\n",
       "      <th>keyword</th>\n",
       "      <th>location</th>\n",
       "      <th>text</th>\n",
       "      <th>target</th>\n",
       "    </tr>\n",
       "  </thead>\n",
       "  <tbody>\n",
       "    <tr>\n",
       "      <th>4299</th>\n",
       "      <td>6105</td>\n",
       "      <td>hellfire</td>\n",
       "      <td>?????? ??? ?????? ????????</td>\n",
       "      <td>#Allah describes piling up #wealth thinking it...</td>\n",
       "      <td>0</td>\n",
       "    </tr>\n",
       "    <tr>\n",
       "      <th>4312</th>\n",
       "      <td>6123</td>\n",
       "      <td>hellfire</td>\n",
       "      <td>?????? ???? ??????</td>\n",
       "      <td>#Allah describes piling up #wealth thinking it...</td>\n",
       "      <td>1</td>\n",
       "    </tr>\n",
       "    <tr>\n",
       "      <th>6366</th>\n",
       "      <td>9098</td>\n",
       "      <td>suicide%20bomb</td>\n",
       "      <td>Nigeria</td>\n",
       "      <td>#Bestnaijamade: 16yr old PKK suicide bomber wh...</td>\n",
       "      <td>1</td>\n",
       "    </tr>\n",
       "    <tr>\n",
       "      <th>6373</th>\n",
       "      <td>9107</td>\n",
       "      <td>suicide%20bomb</td>\n",
       "      <td>Nigeria</td>\n",
       "      <td>#Bestnaijamade: 16yr old PKK suicide bomber wh...</td>\n",
       "      <td>1</td>\n",
       "    </tr>\n",
       "    <tr>\n",
       "      <th>6392</th>\n",
       "      <td>9135</td>\n",
       "      <td>suicide%20bomb</td>\n",
       "      <td>Nigeria</td>\n",
       "      <td>#Bestnaijamade: 16yr old PKK suicide bomber wh...</td>\n",
       "      <td>1</td>\n",
       "    </tr>\n",
       "    <tr>\n",
       "      <th>...</th>\n",
       "      <td>...</td>\n",
       "      <td>...</td>\n",
       "      <td>...</td>\n",
       "      <td>...</td>\n",
       "      <td>...</td>\n",
       "    </tr>\n",
       "    <tr>\n",
       "      <th>3461</th>\n",
       "      <td>4952</td>\n",
       "      <td>exploded</td>\n",
       "      <td>NaN</td>\n",
       "      <td>that exploded &amp;amp; brought about the\\nbeginni...</td>\n",
       "      <td>0</td>\n",
       "    </tr>\n",
       "    <tr>\n",
       "      <th>6103</th>\n",
       "      <td>8714</td>\n",
       "      <td>sinking</td>\n",
       "      <td>NaN</td>\n",
       "      <td>that horrible sinking feeling when youÛªve be...</td>\n",
       "      <td>0</td>\n",
       "    </tr>\n",
       "    <tr>\n",
       "      <th>6094</th>\n",
       "      <td>8702</td>\n",
       "      <td>sinking</td>\n",
       "      <td>NaN</td>\n",
       "      <td>that horrible sinking feeling when youÛªve be...</td>\n",
       "      <td>0</td>\n",
       "    </tr>\n",
       "    <tr>\n",
       "      <th>6123</th>\n",
       "      <td>8739</td>\n",
       "      <td>sinking</td>\n",
       "      <td>MA</td>\n",
       "      <td>that horrible sinking feeling when youÛªve be...</td>\n",
       "      <td>1</td>\n",
       "    </tr>\n",
       "    <tr>\n",
       "      <th>5641</th>\n",
       "      <td>8044</td>\n",
       "      <td>refugees</td>\n",
       "      <td>NaN</td>\n",
       "      <td>wowo--=== 12000 Nigerian refugees repatriated ...</td>\n",
       "      <td>0</td>\n",
       "    </tr>\n",
       "  </tbody>\n",
       "</table>\n",
       "<p>110 rows × 5 columns</p>\n",
       "</div>"
      ],
      "text/plain": [
       "        id         keyword                    location  \\\n",
       "4299  6105        hellfire  ?????? ??? ?????? ????????   \n",
       "4312  6123        hellfire          ?????? ???? ??????   \n",
       "6366  9098  suicide%20bomb                     Nigeria   \n",
       "6373  9107  suicide%20bomb                     Nigeria   \n",
       "6392  9135  suicide%20bomb                     Nigeria   \n",
       "...    ...             ...                         ...   \n",
       "3461  4952        exploded                         NaN   \n",
       "6103  8714         sinking                         NaN   \n",
       "6094  8702         sinking                         NaN   \n",
       "6123  8739         sinking                          MA   \n",
       "5641  8044        refugees                         NaN   \n",
       "\n",
       "                                                   text  target  \n",
       "4299  #Allah describes piling up #wealth thinking it...       0  \n",
       "4312  #Allah describes piling up #wealth thinking it...       1  \n",
       "6366  #Bestnaijamade: 16yr old PKK suicide bomber wh...       1  \n",
       "6373  #Bestnaijamade: 16yr old PKK suicide bomber wh...       1  \n",
       "6392  #Bestnaijamade: 16yr old PKK suicide bomber wh...       1  \n",
       "...                                                 ...     ...  \n",
       "3461  that exploded &amp; brought about the\\nbeginni...       0  \n",
       "6103  that horrible sinking feeling when youÛªve be...       0  \n",
       "6094  that horrible sinking feeling when youÛªve be...       0  \n",
       "6123  that horrible sinking feeling when youÛªve be...       1  \n",
       "5641  wowo--=== 12000 Nigerian refugees repatriated ...       0  \n",
       "\n",
       "[110 rows x 5 columns]"
      ]
     },
     "execution_count": 13,
     "metadata": {},
     "output_type": "execute_result"
    }
   ],
   "source": [
    "idx = df_train.duplicated(subset=\"text\", keep=\"first\")\n",
    "df_train.loc[idx, :].sort_values(\"text\")"
   ]
  },
  {
   "cell_type": "code",
   "execution_count": 14,
   "id": "209b85a9",
   "metadata": {
    "execution": {
     "iopub.execute_input": "2023-05-06T23:50:16.476708Z",
     "iopub.status.busy": "2023-05-06T23:50:16.476227Z",
     "iopub.status.idle": "2023-05-06T23:50:16.493820Z",
     "shell.execute_reply": "2023-05-06T23:50:16.492842Z"
    },
    "papermill": {
     "duration": 0.038453,
     "end_time": "2023-05-06T23:50:16.495804",
     "exception": false,
     "start_time": "2023-05-06T23:50:16.457351",
     "status": "completed"
    },
    "tags": []
   },
   "outputs": [
    {
     "data": {
      "text/html": [
       "<div>\n",
       "<style scoped>\n",
       "    .dataframe tbody tr th:only-of-type {\n",
       "        vertical-align: middle;\n",
       "    }\n",
       "\n",
       "    .dataframe tbody tr th {\n",
       "        vertical-align: top;\n",
       "    }\n",
       "\n",
       "    .dataframe thead th {\n",
       "        text-align: right;\n",
       "    }\n",
       "</style>\n",
       "<table border=\"1\" class=\"dataframe\">\n",
       "  <thead>\n",
       "    <tr style=\"text-align: right;\">\n",
       "      <th></th>\n",
       "      <th>id</th>\n",
       "      <th>target</th>\n",
       "    </tr>\n",
       "  </thead>\n",
       "  <tbody>\n",
       "    <tr>\n",
       "      <th>count</th>\n",
       "      <td>7613.000000</td>\n",
       "      <td>7613.00000</td>\n",
       "    </tr>\n",
       "    <tr>\n",
       "      <th>mean</th>\n",
       "      <td>5441.934848</td>\n",
       "      <td>0.42966</td>\n",
       "    </tr>\n",
       "    <tr>\n",
       "      <th>std</th>\n",
       "      <td>3137.116090</td>\n",
       "      <td>0.49506</td>\n",
       "    </tr>\n",
       "    <tr>\n",
       "      <th>min</th>\n",
       "      <td>1.000000</td>\n",
       "      <td>0.00000</td>\n",
       "    </tr>\n",
       "    <tr>\n",
       "      <th>25%</th>\n",
       "      <td>2734.000000</td>\n",
       "      <td>0.00000</td>\n",
       "    </tr>\n",
       "    <tr>\n",
       "      <th>50%</th>\n",
       "      <td>5408.000000</td>\n",
       "      <td>0.00000</td>\n",
       "    </tr>\n",
       "    <tr>\n",
       "      <th>75%</th>\n",
       "      <td>8146.000000</td>\n",
       "      <td>1.00000</td>\n",
       "    </tr>\n",
       "    <tr>\n",
       "      <th>max</th>\n",
       "      <td>10873.000000</td>\n",
       "      <td>1.00000</td>\n",
       "    </tr>\n",
       "  </tbody>\n",
       "</table>\n",
       "</div>"
      ],
      "text/plain": [
       "                 id      target\n",
       "count   7613.000000  7613.00000\n",
       "mean    5441.934848     0.42966\n",
       "std     3137.116090     0.49506\n",
       "min        1.000000     0.00000\n",
       "25%     2734.000000     0.00000\n",
       "50%     5408.000000     0.00000\n",
       "75%     8146.000000     1.00000\n",
       "max    10873.000000     1.00000"
      ]
     },
     "execution_count": 14,
     "metadata": {},
     "output_type": "execute_result"
    }
   ],
   "source": [
    "df_train.describe(include=np.number)"
   ]
  },
  {
   "cell_type": "code",
   "execution_count": 15,
   "id": "a4a2add6",
   "metadata": {
    "execution": {
     "iopub.execute_input": "2023-05-06T23:50:16.536675Z",
     "iopub.status.busy": "2023-05-06T23:50:16.535330Z",
     "iopub.status.idle": "2023-05-06T23:50:16.554989Z",
     "shell.execute_reply": "2023-05-06T23:50:16.553911Z"
    },
    "papermill": {
     "duration": 0.040886,
     "end_time": "2023-05-06T23:50:16.556933",
     "exception": false,
     "start_time": "2023-05-06T23:50:16.516047",
     "status": "completed"
    },
    "tags": []
   },
   "outputs": [
    {
     "data": {
      "text/html": [
       "<div>\n",
       "<style scoped>\n",
       "    .dataframe tbody tr th:only-of-type {\n",
       "        vertical-align: middle;\n",
       "    }\n",
       "\n",
       "    .dataframe tbody tr th {\n",
       "        vertical-align: top;\n",
       "    }\n",
       "\n",
       "    .dataframe thead th {\n",
       "        text-align: right;\n",
       "    }\n",
       "</style>\n",
       "<table border=\"1\" class=\"dataframe\">\n",
       "  <thead>\n",
       "    <tr style=\"text-align: right;\">\n",
       "      <th></th>\n",
       "      <th>keyword</th>\n",
       "      <th>location</th>\n",
       "      <th>text</th>\n",
       "    </tr>\n",
       "  </thead>\n",
       "  <tbody>\n",
       "    <tr>\n",
       "      <th>count</th>\n",
       "      <td>7552</td>\n",
       "      <td>5080</td>\n",
       "      <td>7613</td>\n",
       "    </tr>\n",
       "    <tr>\n",
       "      <th>unique</th>\n",
       "      <td>221</td>\n",
       "      <td>3341</td>\n",
       "      <td>7503</td>\n",
       "    </tr>\n",
       "    <tr>\n",
       "      <th>top</th>\n",
       "      <td>fatalities</td>\n",
       "      <td>USA</td>\n",
       "      <td>11-Year-Old Boy Charged With Manslaughter of T...</td>\n",
       "    </tr>\n",
       "    <tr>\n",
       "      <th>freq</th>\n",
       "      <td>45</td>\n",
       "      <td>104</td>\n",
       "      <td>10</td>\n",
       "    </tr>\n",
       "  </tbody>\n",
       "</table>\n",
       "</div>"
      ],
      "text/plain": [
       "           keyword location                                               text\n",
       "count         7552     5080                                               7613\n",
       "unique         221     3341                                               7503\n",
       "top     fatalities      USA  11-Year-Old Boy Charged With Manslaughter of T...\n",
       "freq            45      104                                                 10"
      ]
     },
     "execution_count": 15,
     "metadata": {},
     "output_type": "execute_result"
    }
   ],
   "source": [
    "df_train.describe(include=object)"
   ]
  },
  {
   "cell_type": "code",
   "execution_count": 16,
   "id": "78fc89a7",
   "metadata": {
    "execution": {
     "iopub.execute_input": "2023-05-06T23:50:16.598011Z",
     "iopub.status.busy": "2023-05-06T23:50:16.597253Z",
     "iopub.status.idle": "2023-05-06T23:50:16.603873Z",
     "shell.execute_reply": "2023-05-06T23:50:16.602935Z"
    },
    "papermill": {
     "duration": 0.028817,
     "end_time": "2023-05-06T23:50:16.605828",
     "exception": false,
     "start_time": "2023-05-06T23:50:16.577011",
     "status": "completed"
    },
    "tags": []
   },
   "outputs": [
    {
     "data": {
      "text/plain": [
       "id           int16\n",
       "keyword     object\n",
       "location    object\n",
       "text        object\n",
       "target        int8\n",
       "dtype: object"
      ]
     },
     "execution_count": 16,
     "metadata": {},
     "output_type": "execute_result"
    }
   ],
   "source": [
    "tmp = df_train.dtypes\n",
    "tmp"
   ]
  },
  {
   "cell_type": "code",
   "execution_count": 17,
   "id": "7085b6f2",
   "metadata": {
    "execution": {
     "iopub.execute_input": "2023-05-06T23:50:16.645110Z",
     "iopub.status.busy": "2023-05-06T23:50:16.644518Z",
     "iopub.status.idle": "2023-05-06T23:50:16.654463Z",
     "shell.execute_reply": "2023-05-06T23:50:16.653371Z"
    },
    "papermill": {
     "duration": 0.031409,
     "end_time": "2023-05-06T23:50:16.656533",
     "exception": false,
     "start_time": "2023-05-06T23:50:16.625124",
     "status": "completed"
    },
    "tags": []
   },
   "outputs": [
    {
     "data": {
      "text/html": [
       "<div>\n",
       "<style scoped>\n",
       "    .dataframe tbody tr th:only-of-type {\n",
       "        vertical-align: middle;\n",
       "    }\n",
       "\n",
       "    .dataframe tbody tr th {\n",
       "        vertical-align: top;\n",
       "    }\n",
       "\n",
       "    .dataframe thead th {\n",
       "        text-align: right;\n",
       "    }\n",
       "</style>\n",
       "<table border=\"1\" class=\"dataframe\">\n",
       "  <thead>\n",
       "    <tr style=\"text-align: right;\">\n",
       "      <th></th>\n",
       "      <th>text</th>\n",
       "      <th>target</th>\n",
       "    </tr>\n",
       "  </thead>\n",
       "  <tbody>\n",
       "    <tr>\n",
       "      <th>0</th>\n",
       "      <td>Our Deeds are the Reason of this #earthquake M...</td>\n",
       "      <td>1</td>\n",
       "    </tr>\n",
       "    <tr>\n",
       "      <th>1</th>\n",
       "      <td>Forest fire near La Ronge Sask. Canada</td>\n",
       "      <td>1</td>\n",
       "    </tr>\n",
       "    <tr>\n",
       "      <th>2</th>\n",
       "      <td>All residents asked to 'shelter in place' are ...</td>\n",
       "      <td>1</td>\n",
       "    </tr>\n",
       "    <tr>\n",
       "      <th>3</th>\n",
       "      <td>13,000 people receive #wildfires evacuation or...</td>\n",
       "      <td>1</td>\n",
       "    </tr>\n",
       "    <tr>\n",
       "      <th>4</th>\n",
       "      <td>Just got sent this photo from Ruby #Alaska as ...</td>\n",
       "      <td>1</td>\n",
       "    </tr>\n",
       "  </tbody>\n",
       "</table>\n",
       "</div>"
      ],
      "text/plain": [
       "                                                text  target\n",
       "0  Our Deeds are the Reason of this #earthquake M...       1\n",
       "1             Forest fire near La Ronge Sask. Canada       1\n",
       "2  All residents asked to 'shelter in place' are ...       1\n",
       "3  13,000 people receive #wildfires evacuation or...       1\n",
       "4  Just got sent this photo from Ruby #Alaska as ...       1"
      ]
     },
     "execution_count": 17,
     "metadata": {},
     "output_type": "execute_result"
    }
   ],
   "source": [
    "cols = [\"text\", \"target\"]\n",
    "df = df_train[cols]\n",
    "df.head()"
   ]
  },
  {
   "cell_type": "code",
   "execution_count": 18,
   "id": "85750b39",
   "metadata": {
    "execution": {
     "iopub.execute_input": "2023-05-06T23:50:16.695447Z",
     "iopub.status.busy": "2023-05-06T23:50:16.695199Z",
     "iopub.status.idle": "2023-05-06T23:50:16.703485Z",
     "shell.execute_reply": "2023-05-06T23:50:16.702591Z"
    },
    "papermill": {
     "duration": 0.029193,
     "end_time": "2023-05-06T23:50:16.705449",
     "exception": false,
     "start_time": "2023-05-06T23:50:16.676256",
     "status": "completed"
    },
    "tags": []
   },
   "outputs": [
    {
     "data": {
      "text/plain": [
       "text      0.0\n",
       "target    0.0\n",
       "dtype: float64"
      ]
     },
     "execution_count": 18,
     "metadata": {},
     "output_type": "execute_result"
    }
   ],
   "source": [
    "df.isna().mean()"
   ]
  },
  {
   "cell_type": "code",
   "execution_count": 19,
   "id": "22474cb4",
   "metadata": {
    "execution": {
     "iopub.execute_input": "2023-05-06T23:50:16.745338Z",
     "iopub.status.busy": "2023-05-06T23:50:16.744600Z",
     "iopub.status.idle": "2023-05-06T23:50:16.756344Z",
     "shell.execute_reply": "2023-05-06T23:50:16.755333Z"
    },
    "papermill": {
     "duration": 0.032765,
     "end_time": "2023-05-06T23:50:16.758234",
     "exception": false,
     "start_time": "2023-05-06T23:50:16.725469",
     "status": "completed"
    },
    "tags": []
   },
   "outputs": [
    {
     "data": {
      "text/html": [
       "<div>\n",
       "<style scoped>\n",
       "    .dataframe tbody tr th:only-of-type {\n",
       "        vertical-align: middle;\n",
       "    }\n",
       "\n",
       "    .dataframe tbody tr th {\n",
       "        vertical-align: top;\n",
       "    }\n",
       "\n",
       "    .dataframe thead th {\n",
       "        text-align: right;\n",
       "    }\n",
       "</style>\n",
       "<table border=\"1\" class=\"dataframe\">\n",
       "  <thead>\n",
       "    <tr style=\"text-align: right;\">\n",
       "      <th></th>\n",
       "      <th>text</th>\n",
       "      <th>target</th>\n",
       "    </tr>\n",
       "  </thead>\n",
       "  <tbody>\n",
       "    <tr>\n",
       "      <th>4299</th>\n",
       "      <td>#Allah describes piling up #wealth thinking it...</td>\n",
       "      <td>0</td>\n",
       "    </tr>\n",
       "    <tr>\n",
       "      <th>4312</th>\n",
       "      <td>#Allah describes piling up #wealth thinking it...</td>\n",
       "      <td>1</td>\n",
       "    </tr>\n",
       "    <tr>\n",
       "      <th>6366</th>\n",
       "      <td>#Bestnaijamade: 16yr old PKK suicide bomber wh...</td>\n",
       "      <td>1</td>\n",
       "    </tr>\n",
       "    <tr>\n",
       "      <th>6373</th>\n",
       "      <td>#Bestnaijamade: 16yr old PKK suicide bomber wh...</td>\n",
       "      <td>1</td>\n",
       "    </tr>\n",
       "    <tr>\n",
       "      <th>6392</th>\n",
       "      <td>#Bestnaijamade: 16yr old PKK suicide bomber wh...</td>\n",
       "      <td>1</td>\n",
       "    </tr>\n",
       "    <tr>\n",
       "      <th>...</th>\n",
       "      <td>...</td>\n",
       "      <td>...</td>\n",
       "    </tr>\n",
       "    <tr>\n",
       "      <th>3461</th>\n",
       "      <td>that exploded &amp;amp; brought about the\\nbeginni...</td>\n",
       "      <td>0</td>\n",
       "    </tr>\n",
       "    <tr>\n",
       "      <th>6103</th>\n",
       "      <td>that horrible sinking feeling when youÛªve be...</td>\n",
       "      <td>0</td>\n",
       "    </tr>\n",
       "    <tr>\n",
       "      <th>6094</th>\n",
       "      <td>that horrible sinking feeling when youÛªve be...</td>\n",
       "      <td>0</td>\n",
       "    </tr>\n",
       "    <tr>\n",
       "      <th>6123</th>\n",
       "      <td>that horrible sinking feeling when youÛªve be...</td>\n",
       "      <td>1</td>\n",
       "    </tr>\n",
       "    <tr>\n",
       "      <th>5641</th>\n",
       "      <td>wowo--=== 12000 Nigerian refugees repatriated ...</td>\n",
       "      <td>0</td>\n",
       "    </tr>\n",
       "  </tbody>\n",
       "</table>\n",
       "<p>110 rows × 2 columns</p>\n",
       "</div>"
      ],
      "text/plain": [
       "                                                   text  target\n",
       "4299  #Allah describes piling up #wealth thinking it...       0\n",
       "4312  #Allah describes piling up #wealth thinking it...       1\n",
       "6366  #Bestnaijamade: 16yr old PKK suicide bomber wh...       1\n",
       "6373  #Bestnaijamade: 16yr old PKK suicide bomber wh...       1\n",
       "6392  #Bestnaijamade: 16yr old PKK suicide bomber wh...       1\n",
       "...                                                 ...     ...\n",
       "3461  that exploded &amp; brought about the\\nbeginni...       0\n",
       "6103  that horrible sinking feeling when youÛªve be...       0\n",
       "6094  that horrible sinking feeling when youÛªve be...       0\n",
       "6123  that horrible sinking feeling when youÛªve be...       1\n",
       "5641  wowo--=== 12000 Nigerian refugees repatriated ...       0\n",
       "\n",
       "[110 rows x 2 columns]"
      ]
     },
     "execution_count": 19,
     "metadata": {},
     "output_type": "execute_result"
    }
   ],
   "source": [
    "idx = df.duplicated(subset=\"text\", keep=\"first\")\n",
    "df.loc[idx, :].sort_values(\"text\")"
   ]
  },
  {
   "cell_type": "code",
   "execution_count": 20,
   "id": "0cdce9cb",
   "metadata": {
    "execution": {
     "iopub.execute_input": "2023-05-06T23:50:16.799765Z",
     "iopub.status.busy": "2023-05-06T23:50:16.799041Z",
     "iopub.status.idle": "2023-05-06T23:50:16.805958Z",
     "shell.execute_reply": "2023-05-06T23:50:16.804468Z"
    },
    "papermill": {
     "duration": 0.028943,
     "end_time": "2023-05-06T23:50:16.807771",
     "exception": false,
     "start_time": "2023-05-06T23:50:16.778828",
     "status": "completed"
    },
    "tags": []
   },
   "outputs": [
    {
     "name": "stderr",
     "output_type": "stream",
     "text": [
      "/tmp/ipykernel_24/2880993212.py:1: SettingWithCopyWarning: \n",
      "A value is trying to be set on a copy of a slice from a DataFrame\n",
      "\n",
      "See the caveats in the documentation: https://pandas.pydata.org/pandas-docs/stable/user_guide/indexing.html#returning-a-view-versus-a-copy\n",
      "  df.drop_duplicates(subset=\"text\", inplace=True)\n"
     ]
    }
   ],
   "source": [
    "df.drop_duplicates(subset=\"text\", inplace=True)"
   ]
  },
  {
   "cell_type": "markdown",
   "id": "5186180b",
   "metadata": {
    "papermill": {
     "duration": 0.019149,
     "end_time": "2023-05-06T23:50:16.845794",
     "exception": false,
     "start_time": "2023-05-06T23:50:16.826645",
     "status": "completed"
    },
    "tags": []
   },
   "source": [
    "## Exploratory Data Analysis"
   ]
  },
  {
   "cell_type": "markdown",
   "id": "eadea5ef",
   "metadata": {
    "papermill": {
     "duration": 0.019209,
     "end_time": "2023-05-06T23:50:16.884281",
     "exception": false,
     "start_time": "2023-05-06T23:50:16.865072",
     "status": "completed"
    },
    "tags": []
   },
   "source": [
    "### Target"
   ]
  },
  {
   "cell_type": "code",
   "execution_count": 21,
   "id": "505a05a2",
   "metadata": {
    "execution": {
     "iopub.execute_input": "2023-05-06T23:50:16.928711Z",
     "iopub.status.busy": "2023-05-06T23:50:16.928039Z",
     "iopub.status.idle": "2023-05-06T23:50:16.942250Z",
     "shell.execute_reply": "2023-05-06T23:50:16.941210Z"
    },
    "papermill": {
     "duration": 0.039052,
     "end_time": "2023-05-06T23:50:16.944261",
     "exception": false,
     "start_time": "2023-05-06T23:50:16.905209",
     "status": "completed"
    },
    "tags": []
   },
   "outputs": [
    {
     "data": {
      "text/html": [
       "<div>\n",
       "<style scoped>\n",
       "    .dataframe tbody tr th:only-of-type {\n",
       "        vertical-align: middle;\n",
       "    }\n",
       "\n",
       "    .dataframe tbody tr th {\n",
       "        vertical-align: top;\n",
       "    }\n",
       "\n",
       "    .dataframe thead th {\n",
       "        text-align: right;\n",
       "    }\n",
       "</style>\n",
       "<table border=\"1\" class=\"dataframe\">\n",
       "  <thead>\n",
       "    <tr style=\"text-align: right;\">\n",
       "      <th></th>\n",
       "      <th>target</th>\n",
       "    </tr>\n",
       "  </thead>\n",
       "  <tbody>\n",
       "    <tr>\n",
       "      <th>count</th>\n",
       "      <td>7503.000000</td>\n",
       "    </tr>\n",
       "    <tr>\n",
       "      <th>mean</th>\n",
       "      <td>0.426230</td>\n",
       "    </tr>\n",
       "    <tr>\n",
       "      <th>std</th>\n",
       "      <td>0.494561</td>\n",
       "    </tr>\n",
       "    <tr>\n",
       "      <th>min</th>\n",
       "      <td>0.000000</td>\n",
       "    </tr>\n",
       "    <tr>\n",
       "      <th>25%</th>\n",
       "      <td>0.000000</td>\n",
       "    </tr>\n",
       "    <tr>\n",
       "      <th>50%</th>\n",
       "      <td>0.000000</td>\n",
       "    </tr>\n",
       "    <tr>\n",
       "      <th>75%</th>\n",
       "      <td>1.000000</td>\n",
       "    </tr>\n",
       "    <tr>\n",
       "      <th>max</th>\n",
       "      <td>1.000000</td>\n",
       "    </tr>\n",
       "  </tbody>\n",
       "</table>\n",
       "</div>"
      ],
      "text/plain": [
       "            target\n",
       "count  7503.000000\n",
       "mean      0.426230\n",
       "std       0.494561\n",
       "min       0.000000\n",
       "25%       0.000000\n",
       "50%       0.000000\n",
       "75%       1.000000\n",
       "max       1.000000"
      ]
     },
     "execution_count": 21,
     "metadata": {},
     "output_type": "execute_result"
    }
   ],
   "source": [
    "df.describe()"
   ]
  },
  {
   "cell_type": "code",
   "execution_count": 22,
   "id": "537b0388",
   "metadata": {
    "execution": {
     "iopub.execute_input": "2023-05-06T23:50:16.990321Z",
     "iopub.status.busy": "2023-05-06T23:50:16.989496Z",
     "iopub.status.idle": "2023-05-06T23:50:16.997135Z",
     "shell.execute_reply": "2023-05-06T23:50:16.996195Z"
    },
    "papermill": {
     "duration": 0.032783,
     "end_time": "2023-05-06T23:50:16.999108",
     "exception": false,
     "start_time": "2023-05-06T23:50:16.966325",
     "status": "completed"
    },
    "tags": []
   },
   "outputs": [
    {
     "data": {
      "text/plain": [
       "0    4305\n",
       "1    3198\n",
       "Name: target, dtype: int64"
      ]
     },
     "execution_count": 22,
     "metadata": {},
     "output_type": "execute_result"
    }
   ],
   "source": [
    "df.target.value_counts()"
   ]
  },
  {
   "cell_type": "code",
   "execution_count": 23,
   "id": "0c45aad2",
   "metadata": {
    "execution": {
     "iopub.execute_input": "2023-05-06T23:50:17.044356Z",
     "iopub.status.busy": "2023-05-06T23:50:17.043520Z",
     "iopub.status.idle": "2023-05-06T23:50:17.052358Z",
     "shell.execute_reply": "2023-05-06T23:50:17.051211Z"
    },
    "papermill": {
     "duration": 0.034432,
     "end_time": "2023-05-06T23:50:17.054629",
     "exception": false,
     "start_time": "2023-05-06T23:50:17.020197",
     "status": "completed"
    },
    "tags": []
   },
   "outputs": [
    {
     "data": {
      "text/plain": [
       "0    0.57377\n",
       "1    0.42623\n",
       "Name: target, dtype: float64"
      ]
     },
     "execution_count": 23,
     "metadata": {},
     "output_type": "execute_result"
    }
   ],
   "source": [
    "df.target.value_counts(normalize=True)"
   ]
  },
  {
   "cell_type": "code",
   "execution_count": 24,
   "id": "076009e8",
   "metadata": {
    "execution": {
     "iopub.execute_input": "2023-05-06T23:50:17.100561Z",
     "iopub.status.busy": "2023-05-06T23:50:17.099549Z",
     "iopub.status.idle": "2023-05-06T23:50:17.239274Z",
     "shell.execute_reply": "2023-05-06T23:50:17.238200Z"
    },
    "papermill": {
     "duration": 0.165324,
     "end_time": "2023-05-06T23:50:17.242086",
     "exception": false,
     "start_time": "2023-05-06T23:50:17.076762",
     "status": "completed"
    },
    "tags": []
   },
   "outputs": [
    {
     "data": {
      "text/plain": [
       "<AxesSubplot: ylabel='target'>"
      ]
     },
     "execution_count": 24,
     "metadata": {},
     "output_type": "execute_result"
    },
    {
     "data": {
      "image/png": "[encoded data removed]",
      "text/plain": [
       "<Figure size 640x480 with 1 Axes>"
      ]
     },
     "metadata": {},
     "output_type": "display_data"
    }
   ],
   "source": [
    "df.target.value_counts().plot(kind=\"pie\")"
   ]
  },
  {
   "cell_type": "markdown",
   "id": "8d6a82a7",
   "metadata": {
    "papermill": {
     "duration": 0.064957,
     "end_time": "2023-05-06T23:50:17.373609",
     "exception": false,
     "start_time": "2023-05-06T23:50:17.308652",
     "status": "completed"
    },
    "tags": []
   },
   "source": [
    "### Lenght"
   ]
  },
  {
   "cell_type": "code",
   "execution_count": 25,
   "id": "532483c3",
   "metadata": {
    "execution": {
     "iopub.execute_input": "2023-05-06T23:50:17.460205Z",
     "iopub.status.busy": "2023-05-06T23:50:17.459781Z",
     "iopub.status.idle": "2023-05-06T23:50:17.485674Z",
     "shell.execute_reply": "2023-05-06T23:50:17.484543Z"
    },
    "papermill": {
     "duration": 0.06962,
     "end_time": "2023-05-06T23:50:17.489092",
     "exception": false,
     "start_time": "2023-05-06T23:50:17.419472",
     "status": "completed"
    },
    "tags": []
   },
   "outputs": [
    {
     "data": {
      "text/html": [
       "<div>\n",
       "<style scoped>\n",
       "    .dataframe tbody tr th:only-of-type {\n",
       "        vertical-align: middle;\n",
       "    }\n",
       "\n",
       "    .dataframe tbody tr th {\n",
       "        vertical-align: top;\n",
       "    }\n",
       "\n",
       "    .dataframe thead th {\n",
       "        text-align: right;\n",
       "    }\n",
       "</style>\n",
       "<table border=\"1\" class=\"dataframe\">\n",
       "  <thead>\n",
       "    <tr style=\"text-align: right;\">\n",
       "      <th></th>\n",
       "      <th>text</th>\n",
       "    </tr>\n",
       "  </thead>\n",
       "  <tbody>\n",
       "    <tr>\n",
       "      <th>count</th>\n",
       "      <td>7503</td>\n",
       "    </tr>\n",
       "    <tr>\n",
       "      <th>unique</th>\n",
       "      <td>7503</td>\n",
       "    </tr>\n",
       "    <tr>\n",
       "      <th>top</th>\n",
       "      <td>Our Deeds are the Reason of this #earthquake M...</td>\n",
       "    </tr>\n",
       "    <tr>\n",
       "      <th>freq</th>\n",
       "      <td>1</td>\n",
       "    </tr>\n",
       "  </tbody>\n",
       "</table>\n",
       "</div>"
      ],
      "text/plain": [
       "                                                     text\n",
       "count                                                7503\n",
       "unique                                               7503\n",
       "top     Our Deeds are the Reason of this #earthquake M...\n",
       "freq                                                    1"
      ]
     },
     "execution_count": 25,
     "metadata": {},
     "output_type": "execute_result"
    }
   ],
   "source": [
    "df.describe(include=\"object\")"
   ]
  },
  {
   "cell_type": "code",
   "execution_count": 26,
   "id": "bff2147b",
   "metadata": {
    "execution": {
     "iopub.execute_input": "2023-05-06T23:50:17.545023Z",
     "iopub.status.busy": "2023-05-06T23:50:17.544695Z",
     "iopub.status.idle": "2023-05-06T23:50:17.556639Z",
     "shell.execute_reply": "2023-05-06T23:50:17.555742Z"
    },
    "papermill": {
     "duration": 0.039034,
     "end_time": "2023-05-06T23:50:17.558496",
     "exception": false,
     "start_time": "2023-05-06T23:50:17.519462",
     "status": "completed"
    },
    "tags": []
   },
   "outputs": [
    {
     "data": {
      "text/plain": [
       "0        69\n",
       "1        38\n",
       "2       133\n",
       "3        65\n",
       "4        88\n",
       "       ... \n",
       "7604    136\n",
       "7605    114\n",
       "7606    121\n",
       "7608     83\n",
       "7612     94\n",
       "Name: text, Length: 7503, dtype: int64"
      ]
     },
     "execution_count": 26,
     "metadata": {},
     "output_type": "execute_result"
    }
   ],
   "source": [
    "df.text.apply(lambda i : len(i))"
   ]
  },
  {
   "cell_type": "code",
   "execution_count": 27,
   "id": "0704ba71",
   "metadata": {
    "execution": {
     "iopub.execute_input": "2023-05-06T23:50:17.603506Z",
     "iopub.status.busy": "2023-05-06T23:50:17.602507Z",
     "iopub.status.idle": "2023-05-06T23:50:17.613190Z",
     "shell.execute_reply": "2023-05-06T23:50:17.612232Z"
    },
    "papermill": {
     "duration": 0.035208,
     "end_time": "2023-05-06T23:50:17.615143",
     "exception": false,
     "start_time": "2023-05-06T23:50:17.579935",
     "status": "completed"
    },
    "tags": []
   },
   "outputs": [
    {
     "data": {
      "text/plain": [
       "0        69\n",
       "1        38\n",
       "2       133\n",
       "3        65\n",
       "4        88\n",
       "       ... \n",
       "7604    136\n",
       "7605    114\n",
       "7606    121\n",
       "7608     83\n",
       "7612     94\n",
       "Name: text, Length: 7503, dtype: int64"
      ]
     },
     "execution_count": 27,
     "metadata": {},
     "output_type": "execute_result"
    }
   ],
   "source": [
    "df.text.apply(lambda i : len(i))"
   ]
  },
  {
   "cell_type": "code",
   "execution_count": 28,
   "id": "a3396766",
   "metadata": {
    "execution": {
     "iopub.execute_input": "2023-05-06T23:50:17.666605Z",
     "iopub.status.busy": "2023-05-06T23:50:17.665836Z",
     "iopub.status.idle": "2023-05-06T23:50:17.866375Z",
     "shell.execute_reply": "2023-05-06T23:50:17.865576Z"
    },
    "papermill": {
     "duration": 0.226741,
     "end_time": "2023-05-06T23:50:17.868155",
     "exception": false,
     "start_time": "2023-05-06T23:50:17.641414",
     "status": "completed"
    },
    "tags": []
   },
   "outputs": [
    {
     "data": {
      "text/plain": [
       "<AxesSubplot: >"
      ]
     },
     "execution_count": 28,
     "metadata": {},
     "output_type": "execute_result"
    },
    {
     "data": {
      "image/png": "[encoded data removed]",
      "text/plain": [
       "<Figure size 640x480 with 1 Axes>"
      ]
     },
     "metadata": {},
     "output_type": "display_data"
    }
   ],
   "source": [
    "tmp = df.text.str.len()\n",
    "sns.boxplot(tmp)"
   ]
  },
  {
   "cell_type": "code",
   "execution_count": 29,
   "id": "4996235a",
   "metadata": {
    "execution": {
     "iopub.execute_input": "2023-05-06T23:50:17.909823Z",
     "iopub.status.busy": "2023-05-06T23:50:17.909299Z",
     "iopub.status.idle": "2023-05-06T23:50:18.292729Z",
     "shell.execute_reply": "2023-05-06T23:50:18.291813Z"
    },
    "papermill": {
     "duration": 0.406119,
     "end_time": "2023-05-06T23:50:18.294700",
     "exception": false,
     "start_time": "2023-05-06T23:50:17.888581",
     "status": "completed"
    },
    "tags": []
   },
   "outputs": [
    {
     "data": {
      "text/plain": [
       "<seaborn.axisgrid.FacetGrid at 0x79f57dba7ca0>"
      ]
     },
     "execution_count": 29,
     "metadata": {},
     "output_type": "execute_result"
    },
    {
     "data": {
      "image/png": "[encoded data removed]",
      "text/plain": [
       "<Figure size 500x500 with 1 Axes>"
      ]
     },
     "metadata": {},
     "output_type": "display_data"
    }
   ],
   "source": [
    "sns.displot(tmp)"
   ]
  },
  {
   "cell_type": "code",
   "execution_count": 30,
   "id": "0815b8ce",
   "metadata": {
    "execution": {
     "iopub.execute_input": "2023-05-06T23:50:18.337824Z",
     "iopub.status.busy": "2023-05-06T23:50:18.337533Z",
     "iopub.status.idle": "2023-05-06T23:50:18.343937Z",
     "shell.execute_reply": "2023-05-06T23:50:18.342549Z"
    },
    "papermill": {
     "duration": 0.02963,
     "end_time": "2023-05-06T23:50:18.345739",
     "exception": false,
     "start_time": "2023-05-06T23:50:18.316109",
     "status": "completed"
    },
    "tags": []
   },
   "outputs": [
    {
     "name": "stderr",
     "output_type": "stream",
     "text": [
      "/tmp/ipykernel_24/3091308944.py:1: SettingWithCopyWarning: \n",
      "A value is trying to be set on a copy of a slice from a DataFrame.\n",
      "Try using .loc[row_indexer,col_indexer] = value instead\n",
      "\n",
      "See the caveats in the documentation: https://pandas.pydata.org/pandas-docs/stable/user_guide/indexing.html#returning-a-view-versus-a-copy\n",
      "  df[\"_len_txt\"] = tmp\n"
     ]
    }
   ],
   "source": [
    "df[\"_len_txt\"] = tmp"
   ]
  },
  {
   "cell_type": "markdown",
   "id": "69ff9613",
   "metadata": {
    "papermill": {
     "duration": 0.021226,
     "end_time": "2023-05-06T23:50:18.388032",
     "exception": false,
     "start_time": "2023-05-06T23:50:18.366806",
     "status": "completed"
    },
    "tags": []
   },
   "source": [
    "### Multivariate analysis"
   ]
  },
  {
   "cell_type": "code",
   "execution_count": 31,
   "id": "8697284f",
   "metadata": {
    "execution": {
     "iopub.execute_input": "2023-05-06T23:50:18.432078Z",
     "iopub.status.busy": "2023-05-06T23:50:18.431320Z",
     "iopub.status.idle": "2023-05-06T23:50:18.442229Z",
     "shell.execute_reply": "2023-05-06T23:50:18.441286Z"
    },
    "papermill": {
     "duration": 0.034798,
     "end_time": "2023-05-06T23:50:18.444398",
     "exception": false,
     "start_time": "2023-05-06T23:50:18.409600",
     "status": "completed"
    },
    "tags": []
   },
   "outputs": [
    {
     "name": "stderr",
     "output_type": "stream",
     "text": [
      "/tmp/ipykernel_24/2438084875.py:1: FutureWarning: The default value of numeric_only in DataFrame.corr is deprecated. In a future version, it will default to False. Select only valid columns or specify the value of numeric_only to silence this warning.\n",
      "  corr = df.corr()\n"
     ]
    },
    {
     "data": {
      "text/html": [
       "<div>\n",
       "<style scoped>\n",
       "    .dataframe tbody tr th:only-of-type {\n",
       "        vertical-align: middle;\n",
       "    }\n",
       "\n",
       "    .dataframe tbody tr th {\n",
       "        vertical-align: top;\n",
       "    }\n",
       "\n",
       "    .dataframe thead th {\n",
       "        text-align: right;\n",
       "    }\n",
       "</style>\n",
       "<table border=\"1\" class=\"dataframe\">\n",
       "  <thead>\n",
       "    <tr style=\"text-align: right;\">\n",
       "      <th></th>\n",
       "      <th>target</th>\n",
       "      <th>_len_txt</th>\n",
       "    </tr>\n",
       "  </thead>\n",
       "  <tbody>\n",
       "    <tr>\n",
       "      <th>target</th>\n",
       "      <td>1.000000</td>\n",
       "      <td>0.180997</td>\n",
       "    </tr>\n",
       "    <tr>\n",
       "      <th>_len_txt</th>\n",
       "      <td>0.180997</td>\n",
       "      <td>1.000000</td>\n",
       "    </tr>\n",
       "  </tbody>\n",
       "</table>\n",
       "</div>"
      ],
      "text/plain": [
       "            target  _len_txt\n",
       "target    1.000000  0.180997\n",
       "_len_txt  0.180997  1.000000"
      ]
     },
     "execution_count": 31,
     "metadata": {},
     "output_type": "execute_result"
    }
   ],
   "source": [
    "corr = df.corr()\n",
    "corr"
   ]
  },
  {
   "cell_type": "code",
   "execution_count": 32,
   "id": "f5c1af2e",
   "metadata": {
    "execution": {
     "iopub.execute_input": "2023-05-06T23:50:18.489257Z",
     "iopub.status.busy": "2023-05-06T23:50:18.488555Z",
     "iopub.status.idle": "2023-05-06T23:50:18.741566Z",
     "shell.execute_reply": "2023-05-06T23:50:18.740562Z"
    },
    "papermill": {
     "duration": 0.276482,
     "end_time": "2023-05-06T23:50:18.743583",
     "exception": false,
     "start_time": "2023-05-06T23:50:18.467101",
     "status": "completed"
    },
    "tags": []
   },
   "outputs": [
    {
     "data": {
      "text/plain": [
       "<AxesSubplot: >"
      ]
     },
     "execution_count": 32,
     "metadata": {},
     "output_type": "execute_result"
    },
    {
     "data": {
      "image/png": "[encoded data removed]",
      "text/plain": [
       "<Figure size 640x480 with 2 Axes>"
      ]
     },
     "metadata": {},
     "output_type": "display_data"
    }
   ],
   "source": [
    "sns.heatmap(corr)"
   ]
  },
  {
   "cell_type": "code",
   "execution_count": 33,
   "id": "411ef4b9",
   "metadata": {
    "execution": {
     "iopub.execute_input": "2023-05-06T23:50:18.787453Z",
     "iopub.status.busy": "2023-05-06T23:50:18.787160Z",
     "iopub.status.idle": "2023-05-06T23:50:19.052611Z",
     "shell.execute_reply": "2023-05-06T23:50:19.051723Z"
    },
    "papermill": {
     "duration": 0.289218,
     "end_time": "2023-05-06T23:50:19.054624",
     "exception": false,
     "start_time": "2023-05-06T23:50:18.765406",
     "status": "completed"
    },
    "tags": []
   },
   "outputs": [
    {
     "data": {
      "image/png": "[encoded data removed]",
      "text/plain": [
       "<Figure size 700x500 with 2 Axes>"
      ]
     },
     "metadata": {},
     "output_type": "display_data"
    }
   ],
   "source": [
    "mask = np.zeros_like(corr)\n",
    "mask[np.triu_indices_from(mask)] = True\n",
    "\n",
    "fig, ax = plt.subplots(1, 1, figsize=(7,5))\n",
    "ax = sns.heatmap(corr, mask=mask, vmin=1, vmax=1, cmap=\"coolwarm\", annot=True, fmt=\".2f\", square=True)"
   ]
  },
  {
   "cell_type": "code",
   "execution_count": 34,
   "id": "83856861",
   "metadata": {
    "execution": {
     "iopub.execute_input": "2023-05-06T23:50:19.099623Z",
     "iopub.status.busy": "2023-05-06T23:50:19.099087Z",
     "iopub.status.idle": "2023-05-06T23:50:20.120631Z",
     "shell.execute_reply": "2023-05-06T23:50:20.119750Z"
    },
    "papermill": {
     "duration": 1.045667,
     "end_time": "2023-05-06T23:50:20.122553",
     "exception": false,
     "start_time": "2023-05-06T23:50:19.076886",
     "status": "completed"
    },
    "tags": []
   },
   "outputs": [
    {
     "data": {
      "text/plain": [
       "<seaborn.axisgrid.PairGrid at 0x79f57d815d80>"
      ]
     },
     "execution_count": 34,
     "metadata": {},
     "output_type": "execute_result"
    },
    {
     "data": {
      "image/png": "[encoded data removed]",
      "text/plain": [
       "<Figure size 500x500 with 6 Axes>"
      ]
     },
     "metadata": {},
     "output_type": "display_data"
    }
   ],
   "source": [
    "sns.pairplot(df)"
   ]
  },
  {
   "cell_type": "code",
   "execution_count": 35,
   "id": "6528b1a1",
   "metadata": {
    "execution": {
     "iopub.execute_input": "2023-05-06T23:50:20.169629Z",
     "iopub.status.busy": "2023-05-06T23:50:20.169342Z",
     "iopub.status.idle": "2023-05-06T23:50:20.636344Z",
     "shell.execute_reply": "2023-05-06T23:50:20.635443Z"
    },
    "papermill": {
     "duration": 0.49279,
     "end_time": "2023-05-06T23:50:20.638376",
     "exception": false,
     "start_time": "2023-05-06T23:50:20.145586",
     "status": "completed"
    },
    "tags": []
   },
   "outputs": [
    {
     "data": {
      "text/plain": [
       "<seaborn.axisgrid.PairGrid at 0x79f57d815de0>"
      ]
     },
     "execution_count": 35,
     "metadata": {},
     "output_type": "execute_result"
    },
    {
     "data": {
      "image/png": "[encoded data removed]",
      "text/plain": [
       "<Figure size 303.611x250 with 2 Axes>"
      ]
     },
     "metadata": {},
     "output_type": "display_data"
    }
   ],
   "source": [
    "sns.pairplot(df, hue=\"target\")"
   ]
  },
  {
   "cell_type": "code",
   "execution_count": 36,
   "id": "312b1d46",
   "metadata": {
    "execution": {
     "iopub.execute_input": "2023-05-06T23:50:20.685464Z",
     "iopub.status.busy": "2023-05-06T23:50:20.685167Z",
     "iopub.status.idle": "2023-05-06T23:50:20.696358Z",
     "shell.execute_reply": "2023-05-06T23:50:20.695335Z"
    },
    "papermill": {
     "duration": 0.036769,
     "end_time": "2023-05-06T23:50:20.698449",
     "exception": false,
     "start_time": "2023-05-06T23:50:20.661680",
     "status": "completed"
    },
    "tags": []
   },
   "outputs": [
    {
     "data": {
      "text/html": [
       "<div>\n",
       "<style scoped>\n",
       "    .dataframe tbody tr th:only-of-type {\n",
       "        vertical-align: middle;\n",
       "    }\n",
       "\n",
       "    .dataframe tbody tr th {\n",
       "        vertical-align: top;\n",
       "    }\n",
       "\n",
       "    .dataframe thead th {\n",
       "        text-align: right;\n",
       "    }\n",
       "</style>\n",
       "<table border=\"1\" class=\"dataframe\">\n",
       "  <thead>\n",
       "    <tr style=\"text-align: right;\">\n",
       "      <th></th>\n",
       "      <th>text</th>\n",
       "      <th>target</th>\n",
       "      <th>_len_txt</th>\n",
       "    </tr>\n",
       "  </thead>\n",
       "  <tbody>\n",
       "    <tr>\n",
       "      <th>4890</th>\n",
       "      <td>Bad day</td>\n",
       "      <td>0</td>\n",
       "      <td>7</td>\n",
       "    </tr>\n",
       "    <tr>\n",
       "      <th>5115</th>\n",
       "      <td>Err:509</td>\n",
       "      <td>0</td>\n",
       "      <td>7</td>\n",
       "    </tr>\n",
       "    <tr>\n",
       "      <th>1882</th>\n",
       "      <td>Crushed</td>\n",
       "      <td>0</td>\n",
       "      <td>7</td>\n",
       "    </tr>\n",
       "    <tr>\n",
       "      <th>4971</th>\n",
       "      <td>Meltdown</td>\n",
       "      <td>0</td>\n",
       "      <td>8</td>\n",
       "    </tr>\n",
       "    <tr>\n",
       "      <th>24</th>\n",
       "      <td>LOOOOOOL</td>\n",
       "      <td>0</td>\n",
       "      <td>8</td>\n",
       "    </tr>\n",
       "    <tr>\n",
       "      <th>3670</th>\n",
       "      <td>fatality</td>\n",
       "      <td>0</td>\n",
       "      <td>8</td>\n",
       "    </tr>\n",
       "    <tr>\n",
       "      <th>30</th>\n",
       "      <td>The end!</td>\n",
       "      <td>0</td>\n",
       "      <td>8</td>\n",
       "    </tr>\n",
       "    <tr>\n",
       "      <th>28</th>\n",
       "      <td>Cooool :)</td>\n",
       "      <td>0</td>\n",
       "      <td>9</td>\n",
       "    </tr>\n",
       "    <tr>\n",
       "      <th>3667</th>\n",
       "      <td>Fatality!</td>\n",
       "      <td>0</td>\n",
       "      <td>9</td>\n",
       "    </tr>\n",
       "    <tr>\n",
       "      <th>6705</th>\n",
       "      <td>Thunder???</td>\n",
       "      <td>0</td>\n",
       "      <td>10</td>\n",
       "    </tr>\n",
       "  </tbody>\n",
       "</table>\n",
       "</div>"
      ],
      "text/plain": [
       "            text  target  _len_txt\n",
       "4890     Bad day       0         7\n",
       "5115     Err:509       0         7\n",
       "1882     Crushed       0         7\n",
       "4971    Meltdown       0         8\n",
       "24      LOOOOOOL       0         8\n",
       "3670    fatality       0         8\n",
       "30      The end!       0         8\n",
       "28     Cooool :)       0         9\n",
       "3667   Fatality!       0         9\n",
       "6705  Thunder???       0        10"
      ]
     },
     "execution_count": 36,
     "metadata": {},
     "output_type": "execute_result"
    }
   ],
   "source": [
    "df.sort_values(\"_len_txt\").head(10)"
   ]
  },
  {
   "cell_type": "code",
   "execution_count": 37,
   "id": "7c90adf9",
   "metadata": {
    "execution": {
     "iopub.execute_input": "2023-05-06T23:50:20.746815Z",
     "iopub.status.busy": "2023-05-06T23:50:20.745373Z",
     "iopub.status.idle": "2023-05-06T23:50:20.756321Z",
     "shell.execute_reply": "2023-05-06T23:50:20.755328Z"
    },
    "papermill": {
     "duration": 0.036181,
     "end_time": "2023-05-06T23:50:20.758420",
     "exception": false,
     "start_time": "2023-05-06T23:50:20.722239",
     "status": "completed"
    },
    "tags": []
   },
   "outputs": [
    {
     "data": {
      "text/html": [
       "<div>\n",
       "<style scoped>\n",
       "    .dataframe tbody tr th:only-of-type {\n",
       "        vertical-align: middle;\n",
       "    }\n",
       "\n",
       "    .dataframe tbody tr th {\n",
       "        vertical-align: top;\n",
       "    }\n",
       "\n",
       "    .dataframe thead th {\n",
       "        text-align: right;\n",
       "    }\n",
       "</style>\n",
       "<table border=\"1\" class=\"dataframe\">\n",
       "  <thead>\n",
       "    <tr style=\"text-align: right;\">\n",
       "      <th></th>\n",
       "      <th>text</th>\n",
       "      <th>target</th>\n",
       "      <th>_len_txt</th>\n",
       "    </tr>\n",
       "  </thead>\n",
       "  <tbody>\n",
       "    <tr>\n",
       "      <th>261</th>\n",
       "      <td>@Barbi_Twins We need help-horses will die! Ple...</td>\n",
       "      <td>0</td>\n",
       "      <td>148</td>\n",
       "    </tr>\n",
       "    <tr>\n",
       "      <th>2301</th>\n",
       "      <td>Nah but srsly b4 u demolish ur partner's face ...</td>\n",
       "      <td>0</td>\n",
       "      <td>148</td>\n",
       "    </tr>\n",
       "    <tr>\n",
       "      <th>6945</th>\n",
       "      <td>@helene_yancey GodsLove &amp;amp; #thankU my siste...</td>\n",
       "      <td>1</td>\n",
       "      <td>148</td>\n",
       "    </tr>\n",
       "    <tr>\n",
       "      <th>257</th>\n",
       "      <td>@willienelson We need help! Horses will die!Pl...</td>\n",
       "      <td>1</td>\n",
       "      <td>148</td>\n",
       "    </tr>\n",
       "    <tr>\n",
       "      <th>2718</th>\n",
       "      <td>@UN No more #GujaratRiot &amp;amp; #MumbaiRiot92-9...</td>\n",
       "      <td>1</td>\n",
       "      <td>149</td>\n",
       "    </tr>\n",
       "    <tr>\n",
       "      <th>635</th>\n",
       "      <td>@cspanwj If 90BLKs&amp;amp;8WHTs colluded 2 take W...</td>\n",
       "      <td>1</td>\n",
       "      <td>150</td>\n",
       "    </tr>\n",
       "    <tr>\n",
       "      <th>633</th>\n",
       "      <td>@HowardU If 90BLKs&amp;amp;8WHTs colluded 2 take W...</td>\n",
       "      <td>1</td>\n",
       "      <td>150</td>\n",
       "    </tr>\n",
       "    <tr>\n",
       "      <th>614</th>\n",
       "      <td>@CAgov If 90BLKs&amp;amp;8WHTs colluded 2 take WHT...</td>\n",
       "      <td>1</td>\n",
       "      <td>151</td>\n",
       "    </tr>\n",
       "    <tr>\n",
       "      <th>4801</th>\n",
       "      <td>It's was about 2:30 in the morning&amp;amp;I went ...</td>\n",
       "      <td>0</td>\n",
       "      <td>152</td>\n",
       "    </tr>\n",
       "    <tr>\n",
       "      <th>1270</th>\n",
       "      <td>when you're taking a shower and someone flushe...</td>\n",
       "      <td>0</td>\n",
       "      <td>157</td>\n",
       "    </tr>\n",
       "  </tbody>\n",
       "</table>\n",
       "</div>"
      ],
      "text/plain": [
       "                                                   text  target  _len_txt\n",
       "261   @Barbi_Twins We need help-horses will die! Ple...       0       148\n",
       "2301  Nah but srsly b4 u demolish ur partner's face ...       0       148\n",
       "6945  @helene_yancey GodsLove &amp; #thankU my siste...       1       148\n",
       "257   @willienelson We need help! Horses will die!Pl...       1       148\n",
       "2718  @UN No more #GujaratRiot &amp; #MumbaiRiot92-9...       1       149\n",
       "635   @cspanwj If 90BLKs&amp;8WHTs colluded 2 take W...       1       150\n",
       "633   @HowardU If 90BLKs&amp;8WHTs colluded 2 take W...       1       150\n",
       "614   @CAgov If 90BLKs&amp;8WHTs colluded 2 take WHT...       1       151\n",
       "4801  It's was about 2:30 in the morning&amp;I went ...       0       152\n",
       "1270  when you're taking a shower and someone flushe...       0       157"
      ]
     },
     "execution_count": 37,
     "metadata": {},
     "output_type": "execute_result"
    }
   ],
   "source": [
    "df.sort_values(\"_len_txt\").tail(10)"
   ]
  },
  {
   "cell_type": "code",
   "execution_count": 38,
   "id": "41fdc01d",
   "metadata": {
    "execution": {
     "iopub.execute_input": "2023-05-06T23:50:20.806045Z",
     "iopub.status.busy": "2023-05-06T23:50:20.805636Z",
     "iopub.status.idle": "2023-05-06T23:50:20.816140Z",
     "shell.execute_reply": "2023-05-06T23:50:20.814670Z"
    },
    "papermill": {
     "duration": 0.035856,
     "end_time": "2023-05-06T23:50:20.818234",
     "exception": false,
     "start_time": "2023-05-06T23:50:20.782378",
     "status": "completed"
    },
    "tags": []
   },
   "outputs": [
    {
     "name": "stderr",
     "output_type": "stream",
     "text": [
      "/tmp/ipykernel_24/3619034452.py:1: SettingWithCopyWarning: \n",
      "A value is trying to be set on a copy of a slice from a DataFrame\n",
      "\n",
      "See the caveats in the documentation: https://pandas.pydata.org/pandas-docs/stable/user_guide/indexing.html#returning-a-view-versus-a-copy\n",
      "  df.drop(columns=\"_len_txt\", inplace=True)\n"
     ]
    },
    {
     "data": {
      "text/html": [
       "<div>\n",
       "<style scoped>\n",
       "    .dataframe tbody tr th:only-of-type {\n",
       "        vertical-align: middle;\n",
       "    }\n",
       "\n",
       "    .dataframe tbody tr th {\n",
       "        vertical-align: top;\n",
       "    }\n",
       "\n",
       "    .dataframe thead th {\n",
       "        text-align: right;\n",
       "    }\n",
       "</style>\n",
       "<table border=\"1\" class=\"dataframe\">\n",
       "  <thead>\n",
       "    <tr style=\"text-align: right;\">\n",
       "      <th></th>\n",
       "      <th>text</th>\n",
       "      <th>target</th>\n",
       "    </tr>\n",
       "  </thead>\n",
       "  <tbody>\n",
       "    <tr>\n",
       "      <th>0</th>\n",
       "      <td>Our Deeds are the Reason of this #earthquake M...</td>\n",
       "      <td>1</td>\n",
       "    </tr>\n",
       "    <tr>\n",
       "      <th>1</th>\n",
       "      <td>Forest fire near La Ronge Sask. Canada</td>\n",
       "      <td>1</td>\n",
       "    </tr>\n",
       "    <tr>\n",
       "      <th>2</th>\n",
       "      <td>All residents asked to 'shelter in place' are ...</td>\n",
       "      <td>1</td>\n",
       "    </tr>\n",
       "    <tr>\n",
       "      <th>3</th>\n",
       "      <td>13,000 people receive #wildfires evacuation or...</td>\n",
       "      <td>1</td>\n",
       "    </tr>\n",
       "    <tr>\n",
       "      <th>4</th>\n",
       "      <td>Just got sent this photo from Ruby #Alaska as ...</td>\n",
       "      <td>1</td>\n",
       "    </tr>\n",
       "  </tbody>\n",
       "</table>\n",
       "</div>"
      ],
      "text/plain": [
       "                                                text  target\n",
       "0  Our Deeds are the Reason of this #earthquake M...       1\n",
       "1             Forest fire near La Ronge Sask. Canada       1\n",
       "2  All residents asked to 'shelter in place' are ...       1\n",
       "3  13,000 people receive #wildfires evacuation or...       1\n",
       "4  Just got sent this photo from Ruby #Alaska as ...       1"
      ]
     },
     "execution_count": 38,
     "metadata": {},
     "output_type": "execute_result"
    }
   ],
   "source": [
    "df.drop(columns=\"_len_txt\", inplace=True)\n",
    "df.head()"
   ]
  },
  {
   "cell_type": "markdown",
   "id": "8da2b3d8",
   "metadata": {
    "papermill": {
     "duration": 0.022255,
     "end_time": "2023-05-06T23:50:20.864486",
     "exception": false,
     "start_time": "2023-05-06T23:50:20.842231",
     "status": "completed"
    },
    "tags": []
   },
   "source": [
    "### Explore corpus and documents"
   ]
  },
  {
   "cell_type": "markdown",
   "id": "a7ee21b1",
   "metadata": {
    "papermill": {
     "duration": 0.022318,
     "end_time": "2023-05-06T23:50:20.908941",
     "exception": false,
     "start_time": "2023-05-06T23:50:20.886623",
     "status": "completed"
    },
    "tags": []
   },
   "source": [
    "#### print N random documents"
   ]
  },
  {
   "cell_type": "code",
   "execution_count": 39,
   "id": "b359ee24",
   "metadata": {
    "execution": {
     "iopub.execute_input": "2023-05-06T23:50:20.955794Z",
     "iopub.status.busy": "2023-05-06T23:50:20.955161Z",
     "iopub.status.idle": "2023-05-06T23:50:20.959984Z",
     "shell.execute_reply": "2023-05-06T23:50:20.959037Z"
    },
    "papermill": {
     "duration": 0.030316,
     "end_time": "2023-05-06T23:50:20.961781",
     "exception": false,
     "start_time": "2023-05-06T23:50:20.931465",
     "status": "completed"
    },
    "tags": []
   },
   "outputs": [],
   "source": [
    "df_samp = df.sample(5)"
   ]
  },
  {
   "cell_type": "code",
   "execution_count": 40,
   "id": "a334b2e0",
   "metadata": {
    "execution": {
     "iopub.execute_input": "2023-05-06T23:50:21.009089Z",
     "iopub.status.busy": "2023-05-06T23:50:21.007733Z",
     "iopub.status.idle": "2023-05-06T23:50:21.015003Z",
     "shell.execute_reply": "2023-05-06T23:50:21.013302Z"
    },
    "papermill": {
     "duration": 0.032831,
     "end_time": "2023-05-06T23:50:21.017082",
     "exception": false,
     "start_time": "2023-05-06T23:50:20.984251",
     "status": "completed"
    },
    "tags": []
   },
   "outputs": [
    {
     "name": "stdout",
     "output_type": "stream",
     "text": [
      "target : 0\n",
      "And last year it was just a lot of 'THE DRUMS ARE FLOODING' and 'JANICE I'M FALLING'...\n",
      "\n",
      "\n",
      "target : 1\n",
      "The sunset looked like an erupting volcano .... My initial thought was the Pixar short Lava http://t.co/g4sChqFEsT...\n",
      "\n",
      "\n",
      "target : 0\n",
      "No snowflake in an avalanche ever feels responsible....\n",
      "\n",
      "\n",
      "target : 0\n",
      "@ABCNews24 @PeterDutton_MP \n",
      "He also told you....No-one has drowned in the last 2 years &amp; 1200 had under Labor. But let's not mention that.....\n",
      "\n",
      "\n",
      "target : 0\n",
      "Retweeted Sarah Silverman (@SarahKSilverman):\n",
      "\n",
      "Soundtrack of my walk starts w Tracey Ullman They Don't Know.  perfect...\n",
      "\n",
      "\n"
     ]
    }
   ],
   "source": [
    "for idx, ser in df_samp.iterrows():\n",
    "    txt_1 = f\"target : {ser['target']}\\n\"\n",
    "    \n",
    "    print(txt_1 + ser[\"text\"]+ \"...\" + \"\\n\\n\")"
   ]
  },
  {
   "cell_type": "markdown",
   "id": "7e09050c",
   "metadata": {
    "papermill": {
     "duration": 0.022716,
     "end_time": "2023-05-06T23:50:21.065108",
     "exception": false,
     "start_time": "2023-05-06T23:50:21.042392",
     "status": "completed"
    },
    "tags": []
   },
   "source": [
    "### Print documents vs target"
   ]
  },
  {
   "cell_type": "code",
   "execution_count": 41,
   "id": "d8525ebb",
   "metadata": {
    "execution": {
     "iopub.execute_input": "2023-05-06T23:50:21.114436Z",
     "iopub.status.busy": "2023-05-06T23:50:21.113062Z",
     "iopub.status.idle": "2023-05-06T23:50:21.119504Z",
     "shell.execute_reply": "2023-05-06T23:50:21.118595Z"
    },
    "papermill": {
     "duration": 0.032148,
     "end_time": "2023-05-06T23:50:21.121271",
     "exception": false,
     "start_time": "2023-05-06T23:50:21.089123",
     "status": "completed"
    },
    "tags": []
   },
   "outputs": [],
   "source": [
    "def print_sample(sub_df, n_samp=5):\n",
    "    \n",
    "    \"\"\"print out n_sample document from a corpus\"\"\"\n",
    "    \n",
    "    samp = sub_df.sample(n_samp)\n",
    "    \n",
    "    for idx, ser in df_samp.iterrows():\n",
    "        txt_1 = f\"target : {ser['target']}\\n\"\n",
    "        \n",
    "        print(txt_1 + ser[\"text\"]+ \"...\" + \"\\n\\n\")"
   ]
  },
  {
   "cell_type": "code",
   "execution_count": 42,
   "id": "f4933ded",
   "metadata": {
    "execution": {
     "iopub.execute_input": "2023-05-06T23:50:21.169728Z",
     "iopub.status.busy": "2023-05-06T23:50:21.168347Z",
     "iopub.status.idle": "2023-05-06T23:50:21.178767Z",
     "shell.execute_reply": "2023-05-06T23:50:21.177797Z"
    },
    "papermill": {
     "duration": 0.036722,
     "end_time": "2023-05-06T23:50:21.180858",
     "exception": false,
     "start_time": "2023-05-06T23:50:21.144136",
     "status": "completed"
    },
    "tags": []
   },
   "outputs": [
    {
     "data": {
      "text/html": [
       "<div>\n",
       "<style scoped>\n",
       "    .dataframe tbody tr th:only-of-type {\n",
       "        vertical-align: middle;\n",
       "    }\n",
       "\n",
       "    .dataframe tbody tr th {\n",
       "        vertical-align: top;\n",
       "    }\n",
       "\n",
       "    .dataframe thead th {\n",
       "        text-align: right;\n",
       "    }\n",
       "</style>\n",
       "<table border=\"1\" class=\"dataframe\">\n",
       "  <thead>\n",
       "    <tr style=\"text-align: right;\">\n",
       "      <th></th>\n",
       "      <th>text</th>\n",
       "      <th>target</th>\n",
       "    </tr>\n",
       "  </thead>\n",
       "  <tbody>\n",
       "    <tr>\n",
       "      <th>0</th>\n",
       "      <td>Our Deeds are the Reason of this #earthquake M...</td>\n",
       "      <td>1</td>\n",
       "    </tr>\n",
       "    <tr>\n",
       "      <th>1</th>\n",
       "      <td>Forest fire near La Ronge Sask. Canada</td>\n",
       "      <td>1</td>\n",
       "    </tr>\n",
       "    <tr>\n",
       "      <th>2</th>\n",
       "      <td>All residents asked to 'shelter in place' are ...</td>\n",
       "      <td>1</td>\n",
       "    </tr>\n",
       "    <tr>\n",
       "      <th>3</th>\n",
       "      <td>13,000 people receive #wildfires evacuation or...</td>\n",
       "      <td>1</td>\n",
       "    </tr>\n",
       "    <tr>\n",
       "      <th>4</th>\n",
       "      <td>Just got sent this photo from Ruby #Alaska as ...</td>\n",
       "      <td>1</td>\n",
       "    </tr>\n",
       "  </tbody>\n",
       "</table>\n",
       "</div>"
      ],
      "text/plain": [
       "                                                text  target\n",
       "0  Our Deeds are the Reason of this #earthquake M...       1\n",
       "1             Forest fire near La Ronge Sask. Canada       1\n",
       "2  All residents asked to 'shelter in place' are ...       1\n",
       "3  13,000 people receive #wildfires evacuation or...       1\n",
       "4  Just got sent this photo from Ruby #Alaska as ...       1"
      ]
     },
     "execution_count": 42,
     "metadata": {},
     "output_type": "execute_result"
    }
   ],
   "source": [
    "df_1 = df[df.target ==1]\n",
    "df_1.head()"
   ]
  },
  {
   "cell_type": "code",
   "execution_count": 43,
   "id": "53265afc",
   "metadata": {
    "execution": {
     "iopub.execute_input": "2023-05-06T23:50:21.230790Z",
     "iopub.status.busy": "2023-05-06T23:50:21.230248Z",
     "iopub.status.idle": "2023-05-06T23:50:21.236053Z",
     "shell.execute_reply": "2023-05-06T23:50:21.235165Z"
    },
    "papermill": {
     "duration": 0.032658,
     "end_time": "2023-05-06T23:50:21.238458",
     "exception": false,
     "start_time": "2023-05-06T23:50:21.205800",
     "status": "completed"
    },
    "tags": []
   },
   "outputs": [
    {
     "name": "stdout",
     "output_type": "stream",
     "text": [
      "target : 0\n",
      "And last year it was just a lot of 'THE DRUMS ARE FLOODING' and 'JANICE I'M FALLING'...\n",
      "\n",
      "\n",
      "target : 1\n",
      "The sunset looked like an erupting volcano .... My initial thought was the Pixar short Lava http://t.co/g4sChqFEsT...\n",
      "\n",
      "\n",
      "target : 0\n",
      "No snowflake in an avalanche ever feels responsible....\n",
      "\n",
      "\n",
      "target : 0\n",
      "@ABCNews24 @PeterDutton_MP \n",
      "He also told you....No-one has drowned in the last 2 years &amp; 1200 had under Labor. But let's not mention that.....\n",
      "\n",
      "\n",
      "target : 0\n",
      "Retweeted Sarah Silverman (@SarahKSilverman):\n",
      "\n",
      "Soundtrack of my walk starts w Tracey Ullman They Don't Know.  perfect...\n",
      "\n",
      "\n"
     ]
    }
   ],
   "source": [
    "print_sample(df_1)"
   ]
  },
  {
   "cell_type": "markdown",
   "id": "7e97ddff",
   "metadata": {
    "papermill": {
     "duration": 0.022817,
     "end_time": "2023-05-06T23:50:21.284192",
     "exception": false,
     "start_time": "2023-05-06T23:50:21.261375",
     "status": "completed"
    },
    "tags": []
   },
   "source": [
    "# Text processing"
   ]
  },
  {
   "cell_type": "markdown",
   "id": "2c902a9b",
   "metadata": {
    "papermill": {
     "duration": 0.04281,
     "end_time": "2023-05-06T23:50:21.361528",
     "exception": false,
     "start_time": "2023-05-06T23:50:21.318718",
     "status": "completed"
    },
    "tags": []
   },
   "source": [
    "## Preliminary"
   ]
  },
  {
   "cell_type": "markdown",
   "id": "adefa2bd",
   "metadata": {
    "papermill": {
     "duration": 0.022816,
     "end_time": "2023-05-06T23:50:21.416209",
     "exception": false,
     "start_time": "2023-05-06T23:50:21.393393",
     "status": "completed"
    },
    "tags": []
   },
   "source": [
    "### Download and options"
   ]
  },
  {
   "cell_type": "code",
   "execution_count": 44,
   "id": "d44972db",
   "metadata": {
    "execution": {
     "iopub.execute_input": "2023-05-06T23:50:21.463761Z",
     "iopub.status.busy": "2023-05-06T23:50:21.463412Z",
     "iopub.status.idle": "2023-05-06T23:50:21.468324Z",
     "shell.execute_reply": "2023-05-06T23:50:21.467375Z"
    },
    "papermill": {
     "duration": 0.03066,
     "end_time": "2023-05-06T23:50:21.470169",
     "exception": false,
     "start_time": "2023-05-06T23:50:21.439509",
     "status": "completed"
    },
    "tags": []
   },
   "outputs": [],
   "source": [
    "#pandarallel\n",
    "pandarallel.initialize(progress_bar=True,\n",
    "                      nb_workers=6,\n",
    "                      verbose=1)"
   ]
  },
  {
   "cell_type": "code",
   "execution_count": 45,
   "id": "0e31ad9e",
   "metadata": {
    "execution": {
     "iopub.execute_input": "2023-05-06T23:50:21.518946Z",
     "iopub.status.busy": "2023-05-06T23:50:21.518167Z",
     "iopub.status.idle": "2023-05-06T23:50:21.525952Z",
     "shell.execute_reply": "2023-05-06T23:50:21.524714Z"
    },
    "papermill": {
     "duration": 0.034665,
     "end_time": "2023-05-06T23:50:21.527938",
     "exception": false,
     "start_time": "2023-05-06T23:50:21.493273",
     "status": "completed"
    },
    "tags": []
   },
   "outputs": [
    {
     "name": "stdout",
     "output_type": "stream",
     "text": [
      "{'while', 'myself', 'those', 'wasn', 'as', 'because', 'haven', \"don't\", 'y', \"shan't\", 'during', 'had', 'yours', 'they', 'don', 'theirs', 'having', 'from', 'just', \"hadn't\", 'other', 'his', \"that'll\", 'ain', 'you', \"shouldn't\", 'weren', 'o', 'doesn', \"won't\", 'into', \"isn't\", 'its', 'themselves', 'were', 'by', 'very', 'mustn', 'down', 'will', \"weren't\", 'and', 'me', 'has', \"needn't\", 't', 'with', 's', 'so', 'shouldn', 'but', 'he', 'him', \"you're\", 'shan', 'after', 'ours', 'if', 'this', 'not', 'itself', 'have', \"doesn't\", 'your', 'hadn', 'their', 'through', 'she', \"mightn't\", 'over', 'these', 'yourselves', \"it's\", \"you've\", 'further', 'couldn', 'when', 'at', \"you'll\", 'or', 'hasn', \"wouldn't\", 'same', 'can', 'did', 'of', 'an', 'too', 've', 'is', 'herself', 'a', \"she's\", 'against', 'again', 'aren', 'between', 'who', 'there', 'nor', 'then', 'what', 'only', 'won', \"didn't\", 'our', 'any', 'does', 'below', 'than', 'do', 'whom', 'doing', 'my', 'to', 'are', 'the', 'wouldn', 'few', \"aren't\", 'be', 'own', 'out', 'about', 'why', 'them', 'on', 're', 'where', 'until', 'all', \"should've\", 'ma', 'her', 'for', 'd', 'such', 'now', 'mightn', 'some', 'll', \"haven't\", \"wasn't\", 'which', 'both', 'ourselves', 'that', 'more', 'before', 'most', 'am', \"couldn't\", 'yourself', 'being', 'off', 'here', 'how', 'himself', 'didn', 'should', \"you'd\", 'in', 'each', 'no', 'hers', 'up', 'was', 'above', 'under', 'it', \"hasn't\", 'isn', \"mustn't\", 'once', 'i', 'been', 'm', 'we', 'needn'}\n"
     ]
    }
   ],
   "source": [
    "#stop_words\n",
    "\n",
    "stop_words = set(stopwords.words(\"english\"))\n",
    "print(stop_words)"
   ]
  },
  {
   "cell_type": "markdown",
   "id": "dc2a7336",
   "metadata": {
    "papermill": {
     "duration": 0.022545,
     "end_time": "2023-05-06T23:50:21.573234",
     "exception": false,
     "start_time": "2023-05-06T23:50:21.550689",
     "status": "completed"
    },
    "tags": []
   },
   "source": [
    "### Build raw corpus"
   ]
  },
  {
   "cell_type": "code",
   "execution_count": 46,
   "id": "960b29b6",
   "metadata": {
    "execution": {
     "iopub.execute_input": "2023-05-06T23:50:21.620523Z",
     "iopub.status.busy": "2023-05-06T23:50:21.619787Z",
     "iopub.status.idle": "2023-05-06T23:50:21.626964Z",
     "shell.execute_reply": "2023-05-06T23:50:21.626093Z"
    },
    "papermill": {
     "duration": 0.032525,
     "end_time": "2023-05-06T23:50:21.628730",
     "exception": false,
     "start_time": "2023-05-06T23:50:21.596205",
     "status": "completed"
    },
    "tags": []
   },
   "outputs": [
    {
     "data": {
      "text/plain": [
       "\"Our Deeds are the Reason of this #earthquake May ALLAH Forgive us allForest fire near La Ronge Sask. CanadaAll residents asked to 'shelter in place' are being notified by officers. No other evacuation or shelter in place orders are expected13,000 people receive #wildfires evacuation orders in California Just got sent this photo from Ruby #Alaska as smoke from #wildfires pours into a school #RockyFire Update => California Hwy. 20 closed in both directions due to Lake County fire - #CAfire #wildfires#flood #disaster Heavy rain causes flash flooding of streets in Manitou, Colorado Springs areasI'm on top of the hill and I can see a fire in the woods...There's an emergency evacuation happening now in the building across the streetI'm afraid that the tornado is coming to our area...Three people died from the heat wave so farHaha South Tampa is getting flooded hah- WAIT A SECOND I LIVE IN SOUTH TAMPA WHAT AM I GONNA DO WHAT AM I GONNA DO FVCK #flooding#raining #flooding #Florida #TampaBay #T\""
      ]
     },
     "execution_count": 46,
     "metadata": {},
     "output_type": "execute_result"
    }
   ],
   "source": [
    "# join all corpus\n",
    "\n",
    "raw_corpus = \"\".join(df.text.values)\n",
    "raw_corpus[:1000]"
   ]
  },
  {
   "cell_type": "code",
   "execution_count": 47,
   "id": "3a397492",
   "metadata": {
    "execution": {
     "iopub.execute_input": "2023-05-06T23:50:21.676525Z",
     "iopub.status.busy": "2023-05-06T23:50:21.676257Z",
     "iopub.status.idle": "2023-05-06T23:50:21.681756Z",
     "shell.execute_reply": "2023-05-06T23:50:21.680791Z"
    },
    "papermill": {
     "duration": 0.032126,
     "end_time": "2023-05-06T23:50:21.683625",
     "exception": false,
     "start_time": "2023-05-06T23:50:21.651499",
     "status": "completed"
    },
    "tags": []
   },
   "outputs": [
    {
     "data": {
      "text/plain": [
       "756907"
      ]
     },
     "execution_count": 47,
     "metadata": {},
     "output_type": "execute_result"
    }
   ],
   "source": [
    "len(raw_corpus)"
   ]
  },
  {
   "cell_type": "code",
   "execution_count": 48,
   "id": "5383315a",
   "metadata": {
    "execution": {
     "iopub.execute_input": "2023-05-06T23:50:21.731990Z",
     "iopub.status.busy": "2023-05-06T23:50:21.731240Z",
     "iopub.status.idle": "2023-05-06T23:50:21.736737Z",
     "shell.execute_reply": "2023-05-06T23:50:21.735972Z"
    },
    "papermill": {
     "duration": 0.031962,
     "end_time": "2023-05-06T23:50:21.738509",
     "exception": false,
     "start_time": "2023-05-06T23:50:21.706547",
     "status": "completed"
    },
    "tags": []
   },
   "outputs": [],
   "source": [
    "def process_text_1(doc, rejoin=False) :\n",
    "    \"\"\"basis function of tecxt processing\"\"\"\n",
    "    \n",
    "    #lower\n",
    "    doc = doc.lower().strip()\n",
    "    \n",
    "    #tokenize\n",
    "    tokenizer = RegexpTokenizer(r\"\\w+\")\n",
    "    raw_tokens_list = tokenizer.tokenize(doc)\n",
    "    \n",
    "    #stop words\n",
    "    cleaned_tokens_list = [w for w in raw_tokens_list if w not in stop_words]\n",
    "    \n",
    "    if rejoin :\n",
    "        return \"\".join(cleaned_tokens_list)\n",
    "    \n",
    "    return cleaned_tokens_list"
   ]
  },
  {
   "cell_type": "code",
   "execution_count": 49,
   "id": "ed88875f",
   "metadata": {
    "execution": {
     "iopub.execute_input": "2023-05-06T23:50:21.785689Z",
     "iopub.status.busy": "2023-05-06T23:50:21.784854Z",
     "iopub.status.idle": "2023-05-06T23:50:21.789632Z",
     "shell.execute_reply": "2023-05-06T23:50:21.788829Z"
    },
    "papermill": {
     "duration": 0.030367,
     "end_time": "2023-05-06T23:50:21.791451",
     "exception": false,
     "start_time": "2023-05-06T23:50:21.761084",
     "status": "completed"
    },
    "tags": []
   },
   "outputs": [],
   "source": [
    "def display_tokens_info(tokens):\n",
    "    \"\"\"display info about corpus\"\"\"\n",
    "    \n",
    "    print(f\"nb tokens {len(tokens)}, nb tokens uniques {len(set(tokens))}\")\n",
    "    print(tokens[:30])"
   ]
  },
  {
   "cell_type": "code",
   "execution_count": 50,
   "id": "c7a426d5",
   "metadata": {
    "execution": {
     "iopub.execute_input": "2023-05-06T23:50:21.839321Z",
     "iopub.status.busy": "2023-05-06T23:50:21.838024Z",
     "iopub.status.idle": "2023-05-06T23:50:21.904416Z",
     "shell.execute_reply": "2023-05-06T23:50:21.903019Z"
    },
    "papermill": {
     "duration": 0.091757,
     "end_time": "2023-05-06T23:50:21.906216",
     "exception": false,
     "start_time": "2023-05-06T23:50:21.814459",
     "status": "completed"
    },
    "tags": []
   },
   "outputs": [
    {
     "name": "stdout",
     "output_type": "stream",
     "text": [
      "nb tokens 82574, nb tokens uniques 22438\n",
      "['deeds', 'reason', 'earthquake', 'may', 'allah', 'forgive', 'us', 'allforest', 'fire', 'near', 'la', 'ronge', 'sask', 'canadaall', 'residents', 'asked', 'shelter', 'place', 'notified', 'officers', 'evacuation', 'shelter', 'place', 'orders', 'expected13', '000', 'people', 'receive', 'wildfires', 'evacuation']\n"
     ]
    }
   ],
   "source": [
    "# process the corpus\n",
    "\n",
    "corpus = process_text_1(raw_corpus)\n",
    "display_tokens_info(corpus)"
   ]
  },
  {
   "cell_type": "code",
   "execution_count": 51,
   "id": "0c4bdff3",
   "metadata": {
    "execution": {
     "iopub.execute_input": "2023-05-06T23:50:21.955085Z",
     "iopub.status.busy": "2023-05-06T23:50:21.954119Z",
     "iopub.status.idle": "2023-05-06T23:50:21.978904Z",
     "shell.execute_reply": "2023-05-06T23:50:21.977917Z"
    },
    "papermill": {
     "duration": 0.050742,
     "end_time": "2023-05-06T23:50:21.980725",
     "exception": false,
     "start_time": "2023-05-06T23:50:21.929983",
     "status": "completed"
    },
    "tags": []
   },
   "outputs": [
    {
     "data": {
      "text/plain": [
       "co                  4703\n",
       "http                4231\n",
       "https                405\n",
       "amp                  342\n",
       "like                 341\n",
       "                    ... \n",
       "destructiontruck       1\n",
       "salvages               1\n",
       "7b2wf6ovfk             1\n",
       "newsrepublican         1\n",
       "ymy4rskq3d             1\n",
       "Length: 22438, dtype: int64"
      ]
     },
     "execution_count": 51,
     "metadata": {},
     "output_type": "execute_result"
    }
   ],
   "source": [
    "# values counts\n",
    "\n",
    "tmp = pd.Series(corpus).value_counts()\n",
    "tmp"
   ]
  },
  {
   "cell_type": "code",
   "execution_count": 52,
   "id": "6f7a66d2",
   "metadata": {
    "execution": {
     "iopub.execute_input": "2023-05-06T23:50:22.030394Z",
     "iopub.status.busy": "2023-05-06T23:50:22.029495Z",
     "iopub.status.idle": "2023-05-06T23:50:22.039918Z",
     "shell.execute_reply": "2023-05-06T23:50:22.038902Z"
    },
    "papermill": {
     "duration": 0.037401,
     "end_time": "2023-05-06T23:50:22.042053",
     "exception": false,
     "start_time": "2023-05-06T23:50:22.004652",
     "status": "completed"
    },
    "tags": []
   },
   "outputs": [
    {
     "data": {
      "text/plain": [
       "count    22438.000000\n",
       "mean         3.680096\n",
       "std         43.379216\n",
       "min          1.000000\n",
       "25%          1.000000\n",
       "50%          1.000000\n",
       "75%          2.000000\n",
       "max       4703.000000\n",
       "dtype: float64"
      ]
     },
     "execution_count": 52,
     "metadata": {},
     "output_type": "execute_result"
    }
   ],
   "source": [
    "tmp.describe()"
   ]
  },
  {
   "cell_type": "code",
   "execution_count": 53,
   "id": "ff29c057",
   "metadata": {
    "execution": {
     "iopub.execute_input": "2023-05-06T23:50:22.093054Z",
     "iopub.status.busy": "2023-05-06T23:50:22.092773Z",
     "iopub.status.idle": "2023-05-06T23:50:22.114835Z",
     "shell.execute_reply": "2023-05-06T23:50:22.113938Z"
    },
    "papermill": {
     "duration": 0.048247,
     "end_time": "2023-05-06T23:50:22.116641",
     "exception": false,
     "start_time": "2023-05-06T23:50:22.068394",
     "status": "completed"
    },
    "tags": []
   },
   "outputs": [
    {
     "data": {
      "text/plain": [
       "dub                   1\n",
       "mxhrextrkh            1\n",
       "ctijdpxabkdogs        1\n",
       "splatling             1\n",
       "foothill              1\n",
       "designsso             1\n",
       "thatrussianman        1\n",
       "waterboarding         1\n",
       "writingtips           1\n",
       "salmanmydarling       1\n",
       "ps3                   1\n",
       "xboxhttps             1\n",
       "qr1l2jyuez            1\n",
       "nester                1\n",
       "switching             1\n",
       "dipping               1\n",
       "pantherattackthere    1\n",
       "dieanpink95           1\n",
       "limitsabe             1\n",
       "yu_nita99             1\n",
       "sivan                 1\n",
       "pantherattacki        1\n",
       "camilla_33            1\n",
       "uooygbb6az            1\n",
       "akq4rwjfvlcheck       1\n",
       "skippy6gaming         1\n",
       "slttorrlhswho         1\n",
       "craykain              1\n",
       "lavalet               1\n",
       "basalt                1\n",
       "dtype: int64"
      ]
     },
     "execution_count": 53,
     "metadata": {},
     "output_type": "execute_result"
    }
   ],
   "source": [
    "#unique words --> note useful\n",
    "\n",
    "tmp = pd.Series(corpus).value_counts()\n",
    "list_unique_words = tmp[tmp==1]\n",
    "list_unique_words[:30]"
   ]
  },
  {
   "cell_type": "code",
   "execution_count": 54,
   "id": "99fc8b61",
   "metadata": {
    "execution": {
     "iopub.execute_input": "2023-05-06T23:50:22.167530Z",
     "iopub.status.busy": "2023-05-06T23:50:22.166117Z",
     "iopub.status.idle": "2023-05-06T23:50:22.173597Z",
     "shell.execute_reply": "2023-05-06T23:50:22.172357Z"
    },
    "papermill": {
     "duration": 0.033843,
     "end_time": "2023-05-06T23:50:22.175254",
     "exception": false,
     "start_time": "2023-05-06T23:50:22.141411",
     "status": "completed"
    },
    "tags": []
   },
   "outputs": [
    {
     "name": "stdout",
     "output_type": "stream",
     "text": [
      "16230\n"
     ]
    }
   ],
   "source": [
    "print(len(list_unique_words))\n",
    "list_unique_words = list(list_unique_words.index)"
   ]
  },
  {
   "cell_type": "code",
   "execution_count": 55,
   "id": "1daaa401",
   "metadata": {
    "execution": {
     "iopub.execute_input": "2023-05-06T23:50:22.224543Z",
     "iopub.status.busy": "2023-05-06T23:50:22.223214Z",
     "iopub.status.idle": "2023-05-06T23:50:22.248117Z",
     "shell.execute_reply": "2023-05-06T23:50:22.247203Z"
    },
    "papermill": {
     "duration": 0.051271,
     "end_time": "2023-05-06T23:50:22.249870",
     "exception": false,
     "start_time": "2023-05-06T23:50:22.198599",
     "status": "completed"
    },
    "tags": []
   },
   "outputs": [
    {
     "data": {
      "text/plain": [
       "[4,\n",
       " 4,\n",
       " 4,\n",
       " 4,\n",
       " 4,\n",
       " 4,\n",
       " 4,\n",
       " 4,\n",
       " 4,\n",
       " 4,\n",
       " 4,\n",
       " 4,\n",
       " 4,\n",
       " 4,\n",
       " 4,\n",
       " 4,\n",
       " 4,\n",
       " 4,\n",
       " 4,\n",
       " 4,\n",
       " 4,\n",
       " 4,\n",
       " 4,\n",
       " 4,\n",
       " 4,\n",
       " 4,\n",
       " 4,\n",
       " 4,\n",
       " 4,\n",
       " 4]"
      ]
     },
     "execution_count": 55,
     "metadata": {},
     "output_type": "execute_result"
    }
   ],
   "source": [
    "#idem for min 5 times\n",
    "\n",
    "tmp = pd.Series(corpus).value_counts()\n",
    "list_min_5_words = tmp[tmp < 5]\n",
    "#save it\n",
    "list_min_5_words = list(list_min_5_words)\n",
    "#display first 30\n",
    "list_min_5_words[:30]"
   ]
  },
  {
   "cell_type": "code",
   "execution_count": 56,
   "id": "489ff9d4",
   "metadata": {
    "execution": {
     "iopub.execute_input": "2023-05-06T23:50:22.299765Z",
     "iopub.status.busy": "2023-05-06T23:50:22.298967Z",
     "iopub.status.idle": "2023-05-06T23:50:22.322310Z",
     "shell.execute_reply": "2023-05-06T23:50:22.321362Z"
    },
    "papermill": {
     "duration": 0.050011,
     "end_time": "2023-05-06T23:50:22.324251",
     "exception": false,
     "start_time": "2023-05-06T23:50:22.274240",
     "status": "completed"
    },
    "tags": []
   },
   "outputs": [
    {
     "data": {
      "text/plain": [
       "[9,\n",
       " 9,\n",
       " 9,\n",
       " 9,\n",
       " 9,\n",
       " 9,\n",
       " 9,\n",
       " 9,\n",
       " 9,\n",
       " 9,\n",
       " 9,\n",
       " 9,\n",
       " 9,\n",
       " 9,\n",
       " 9,\n",
       " 9,\n",
       " 9,\n",
       " 9,\n",
       " 9,\n",
       " 9,\n",
       " 9,\n",
       " 9,\n",
       " 9,\n",
       " 9,\n",
       " 9,\n",
       " 9,\n",
       " 9,\n",
       " 9,\n",
       " 9,\n",
       " 9]"
      ]
     },
     "execution_count": 56,
     "metadata": {},
     "output_type": "execute_result"
    }
   ],
   "source": [
    "#idem for min 10 times\n",
    "\n",
    "tmp = pd.Series(corpus).value_counts()\n",
    "list_min_10_words = tmp[tmp < 10]\n",
    "\n",
    "#save it\n",
    "\n",
    "list_min_10_words = list(list_min_10_words)\n",
    "\n",
    "list_min_10_words[:30]"
   ]
  },
  {
   "cell_type": "code",
   "execution_count": 57,
   "id": "d352ec26",
   "metadata": {
    "execution": {
     "iopub.execute_input": "2023-05-06T23:50:22.373125Z",
     "iopub.status.busy": "2023-05-06T23:50:22.372836Z",
     "iopub.status.idle": "2023-05-06T23:50:22.383826Z",
     "shell.execute_reply": "2023-05-06T23:50:22.383031Z"
    },
    "papermill": {
     "duration": 0.037412,
     "end_time": "2023-05-06T23:50:22.385552",
     "exception": false,
     "start_time": "2023-05-06T23:50:22.348140",
     "status": "completed"
    },
    "tags": []
   },
   "outputs": [],
   "source": [
    "def process_text(doc,\n",
    "                   rejoin=False,\n",
    "                   lemm_or_stemm=\"stem\",\n",
    "                  list_rare_words=None,\n",
    "                  min_len_word=3,\n",
    "                  force_is_alpha=True,\n",
    "                  eng_words=None,\n",
    "                  extra_words=None) :\n",
    "    \n",
    "    \n",
    "    \"\"\"cf process_text_1 but with list_unique_words, min_len_word and force_is_alpha\n",
    "    \n",
    "    positional arguments:\n",
    "    ---------------------\n",
    "    doc : str : the document (aka a text in str format) to process\n",
    "    \n",
    "    opt args:\n",
    "    -----------------------------\n",
    "    rejoin : bool : if True return a string else return the list of tokens\n",
    "    lemm_or_stemm : str : if lem do lemmentize else stemmentize\n",
    "    list_rare_words : list : a liste of rare words to exclude\n",
    "    min_len_word : int : the minimum lenght of words to not exclude\n",
    "    force_is_alpha : int : if 1, exclude all tokens with numeric character\n",
    "    eng_words: list : list of english words\n",
    "    extra_words: list : list of extra word\n",
    "    \n",
    "    return : \n",
    "    ------------------\n",
    "    a string (if rejoin is True) or a list of tokens\n",
    "    \n",
    "    \"\"\"\n",
    "    \n",
    "    # list_unique_words\n",
    "    if not list_rare_words:\n",
    "        list_rare_words = []\n",
    "        \n",
    "    #lower\n",
    "    doc = doc.lower().strip()\n",
    "    \n",
    "    #tokenize\n",
    "    tokenizer = RegexpTokenizer(r\"\\w+\")\n",
    "    raw_tokens_list = tokenizer.tokenize(doc)\n",
    "    \n",
    "    #stop words\n",
    "    cleaned_tokens_list = [w for w in raw_tokens_list if w not in stop_words]\n",
    "    \n",
    "    ############################################################################\n",
    "    ############################################################################\n",
    "    \n",
    "    #no rare tokens\n",
    "    non_rare_tokens = [w for w in cleaned_tokens_list if w not in list_rare_words]\n",
    "    \n",
    "    # no more len words\n",
    "    more_than_N = [w for w in non_rare_tokens if len(w) >= min_len_word]\n",
    "    \n",
    "    #only alpha chars\n",
    "    if force_is_alpha : \n",
    "        alpha_tokens = [w for w in more_than_N if w.isalpha()]\n",
    "    else:\n",
    "        alpha_tokens = more_than_N\n",
    "    \n",
    "    #############################################################################\n",
    "    #############################################################################\n",
    "    \n",
    "    #stem or lem\n",
    "    \n",
    "    if lemm_or_stemm==\"lem\":\n",
    "        trans = WordNetLemmatizer()\n",
    "        trans_text = [trans.lemmatize(i) for i in alpha_tokens]\n",
    "    else:\n",
    "        trans = PorterStemmer()\n",
    "        trans_text = [trans.stem(i) for i in alpha_tokens]\n",
    "    \n",
    "    #############################################################################\n",
    "    #################################################################################\n",
    "    \n",
    "    # in english\n",
    "    if eng_words :\n",
    "        engl_text = [i for i in trans_text if i in eng_words]\n",
    "    else:\n",
    "        engl_text = trans_text\n",
    "    \n",
    "    ###############################################################################\n",
    "    ###############################################################################\n",
    "    \n",
    "    # drop extra words tokens\n",
    "    if extra_words :\n",
    "        final = [w for w in engl_text if w not in extra_words ]\n",
    "    else:\n",
    "        final = [w for w in engl_text] \n",
    "        \n",
    "    ################################################################################\n",
    "    ###############################################################################\n",
    "    # manage return type\n",
    "    if rejoin :\n",
    "        return \" \".join(final)\n",
    "    \n",
    "    return final"
   ]
  },
  {
   "cell_type": "code",
   "execution_count": 58,
   "id": "87f873ca",
   "metadata": {
    "execution": {
     "iopub.execute_input": "2023-05-06T23:50:22.433899Z",
     "iopub.status.busy": "2023-05-06T23:50:22.433156Z",
     "iopub.status.idle": "2023-05-06T23:50:22.546095Z",
     "shell.execute_reply": "2023-05-06T23:50:22.545061Z"
    },
    "papermill": {
     "duration": 0.139471,
     "end_time": "2023-05-06T23:50:22.548459",
     "exception": false,
     "start_time": "2023-05-06T23:50:22.408988",
     "status": "completed"
    },
    "tags": []
   },
   "outputs": [
    {
     "data": {
      "text/plain": [
       "['a',\n",
       " 'a',\n",
       " 'aa',\n",
       " 'aal',\n",
       " 'aalii',\n",
       " 'aam',\n",
       " 'aani',\n",
       " 'aardvark',\n",
       " 'aardwolf',\n",
       " 'aaron',\n",
       " 'aaronic',\n",
       " 'aaronical',\n",
       " 'aaronite',\n",
       " 'aaronitic',\n",
       " 'aaru',\n",
       " 'ab',\n",
       " 'aba',\n",
       " 'ababdeh',\n",
       " 'ababua',\n",
       " 'abac',\n",
       " 'abaca',\n",
       " 'abacate',\n",
       " 'abacay',\n",
       " 'abacinate',\n",
       " 'abacination',\n",
       " 'abaciscus',\n",
       " 'abacist',\n",
       " 'aback',\n",
       " 'abactinal',\n",
       " 'abactinally']"
      ]
     },
     "execution_count": 58,
     "metadata": {},
     "output_type": "execute_result"
    }
   ],
   "source": [
    "eng_words = [i.lower() for i in words.words()]\n",
    "eng_words[:30]"
   ]
  },
  {
   "cell_type": "code",
   "execution_count": 59,
   "id": "ed17eb07",
   "metadata": {
    "execution": {
     "iopub.execute_input": "2023-05-06T23:50:22.600582Z",
     "iopub.status.busy": "2023-05-06T23:50:22.600281Z",
     "iopub.status.idle": "2023-05-06T23:50:28.160223Z",
     "shell.execute_reply": "2023-05-06T23:50:28.158850Z"
    },
    "papermill": {
     "duration": 5.588912,
     "end_time": "2023-05-06T23:50:28.162504",
     "exception": false,
     "start_time": "2023-05-06T23:50:22.573592",
     "status": "completed"
    },
    "tags": []
   },
   "outputs": [
    {
     "name": "stdout",
     "output_type": "stream",
     "text": [
      "nb tokens 236736, nb tokens uniques 178311\n",
      "['a', 'a', 'aa', 'aal', 'aalii', 'aam', 'aani', 'aardvark', 'aardwolf', 'aaron', 'aaron', 'aaron', 'aaronit', 'aaronit', 'aaru', 'ab', 'aba', 'ababdeh', 'ababua', 'abac', 'abaca', 'abac', 'abacay', 'abacin', 'abacin', 'abaciscu', 'abacist', 'aback', 'abactin', 'abactin']\n"
     ]
    }
   ],
   "source": [
    "ps = PorterStemmer()\n",
    "eng_words_stem = [ps.stem(i) for i in eng_words]\n",
    "display_tokens_info(eng_words_stem)"
   ]
  },
  {
   "cell_type": "code",
   "execution_count": 60,
   "id": "04e9278a",
   "metadata": {
    "execution": {
     "iopub.execute_input": "2023-05-06T23:50:28.213726Z",
     "iopub.status.busy": "2023-05-06T23:50:28.213439Z",
     "iopub.status.idle": "2023-05-06T23:50:28.218405Z",
     "shell.execute_reply": "2023-05-06T23:50:28.217399Z"
    },
    "papermill": {
     "duration": 0.032396,
     "end_time": "2023-05-06T23:50:28.220501",
     "exception": false,
     "start_time": "2023-05-06T23:50:28.188105",
     "status": "completed"
    },
    "tags": []
   },
   "outputs": [],
   "source": [
    "def final_clean(doc):\n",
    "    \n",
    "    \"\"\"perform our final cleaning\"\"\"\n",
    "    \n",
    "    new_doc = process_text(doc,\n",
    "                             rejoin=True, \n",
    "                             lemm_or_stemm=\"stem\",\n",
    "                             list_rare_words=list_min_5_words,\n",
    "                             eng_words=eng_words_stem,\n",
    "                            extra_words=None)\n",
    "    return new_doc"
   ]
  },
  {
   "cell_type": "code",
   "execution_count": 61,
   "id": "77ff685b",
   "metadata": {
    "execution": {
     "iopub.execute_input": "2023-05-06T23:50:28.271294Z",
     "iopub.status.busy": "2023-05-06T23:50:28.271007Z",
     "iopub.status.idle": "2023-05-06T23:53:00.430911Z",
     "shell.execute_reply": "2023-05-06T23:53:00.429748Z"
    },
    "papermill": {
     "duration": 152.188043,
     "end_time": "2023-05-06T23:53:00.433346",
     "exception": false,
     "start_time": "2023-05-06T23:50:28.245303",
     "status": "completed"
    },
    "tags": []
   },
   "outputs": [
    {
     "data": {
      "application/vnd.jupyter.widget-view+json": {
       "model_id": "588ffe5f2e514d54a98b2e80512ae1e7",
       "version_major": 2,
       "version_minor": 0
      },
      "text/plain": [
       "VBox(children=(HBox(children=(IntProgress(value=0, description='0.00%', max=1251), Label(value='0 / 1251'))), …"
      ]
     },
     "metadata": {},
     "output_type": "display_data"
    },
    {
     "name": "stderr",
     "output_type": "stream",
     "text": [
      "/tmp/ipykernel_24/858156653.py:3: SettingWithCopyWarning: \n",
      "A value is trying to be set on a copy of a slice from a DataFrame.\n",
      "Try using .loc[row_indexer,col_indexer] = value instead\n",
      "\n",
      "See the caveats in the documentation: https://pandas.pydata.org/pandas-docs/stable/user_guide/indexing.html#returning-a-view-versus-a-copy\n",
      "  df[\"clean_text\"] = df.text.parallel_apply(final_clean)\n"
     ]
    }
   ],
   "source": [
    "#df[\"clean_text\"] = df.text.apply(final_clean)\n",
    "\n",
    "df[\"clean_text\"] = df.text.parallel_apply(final_clean)"
   ]
  },
  {
   "cell_type": "code",
   "execution_count": 62,
   "id": "eeff2423",
   "metadata": {
    "execution": {
     "iopub.execute_input": "2023-05-06T23:53:00.486034Z",
     "iopub.status.busy": "2023-05-06T23:53:00.485106Z",
     "iopub.status.idle": "2023-05-06T23:54:07.967828Z",
     "shell.execute_reply": "2023-05-06T23:54:07.966755Z"
    },
    "papermill": {
     "duration": 67.510689,
     "end_time": "2023-05-06T23:54:07.970295",
     "exception": false,
     "start_time": "2023-05-06T23:53:00.459606",
     "status": "completed"
    },
    "tags": []
   },
   "outputs": [
    {
     "data": {
      "application/vnd.jupyter.widget-view+json": {
       "model_id": "8fa7fc3d26fa47db8a4916ff2e71e159",
       "version_major": 2,
       "version_minor": 0
      },
      "text/plain": [
       "VBox(children=(HBox(children=(IntProgress(value=0, description='0.00%', max=544), Label(value='0 / 544'))), HB…"
      ]
     },
     "metadata": {},
     "output_type": "display_data"
    }
   ],
   "source": [
    "test_df = df_test.copy()\n",
    "test_df[\"preprocesstext\"]= df_test.text.parallel_apply(final_clean)\n",
    "test_df = test_df[\"preprocesstext\"]"
   ]
  },
  {
   "cell_type": "markdown",
   "id": "9d9f3109",
   "metadata": {
    "papermill": {
     "duration": 0.026784,
     "end_time": "2023-05-06T23:54:08.021832",
     "exception": false,
     "start_time": "2023-05-06T23:54:07.995048",
     "status": "completed"
    },
    "tags": []
   },
   "source": [
    "## Data augmentation"
   ]
  },
  {
   "cell_type": "code",
   "execution_count": 63,
   "id": "1fa29123",
   "metadata": {
    "execution": {
     "iopub.execute_input": "2023-05-06T23:54:08.084427Z",
     "iopub.status.busy": "2023-05-06T23:54:08.083502Z",
     "iopub.status.idle": "2023-05-06T23:54:08.090819Z",
     "shell.execute_reply": "2023-05-06T23:54:08.090013Z"
    },
    "papermill": {
     "duration": 0.034697,
     "end_time": "2023-05-06T23:54:08.092711",
     "exception": false,
     "start_time": "2023-05-06T23:54:08.058014",
     "status": "completed"
    },
    "tags": []
   },
   "outputs": [],
   "source": [
    "\n",
    "def augment_dataframe(df):\n",
    "    \"\"\"Augment text data using synonym replacement with NLPAug.\n",
    "\n",
    "    Args:\n",
    "        df (pd.DataFrame): Original dataframe with text data to be augmented.\n",
    "\n",
    "    Returns:\n",
    "        pd.DataFrame: Augmented dataframe with the same columns as the original.\n",
    "\n",
    "    \"\"\"\n",
    "    # Initialize augmenter\n",
    "    aug = naw.SynonymAug(aug_src='wordnet', aug_p=0.1)\n",
    "\n",
    "    # Create new dataframe to store augmented data\n",
    "    df_aug = pd.DataFrame(columns=['text', 'target'])\n",
    "\n",
    "    # Loop through rows of original dataframe\n",
    "    for i, row in df.iterrows():\n",
    "        # Augment text and add to new dataframe\n",
    "        text_aug = aug.augment(row['text'])\n",
    "        df_aug = pd.concat(\n",
    "            [df_aug, pd.DataFrame({'text': text_aug, 'target': row['target']}, index=[0])],\n",
    "            ignore_index=True\n",
    "        )\n",
    "\n",
    "    # Concatenate original and augmented dataframes\n",
    "    df_concat = pd.concat([df, df_aug], ignore_index=True)\n",
    "\n",
    "    return df_concat"
   ]
  },
  {
   "cell_type": "code",
   "execution_count": 64,
   "id": "8d9c06c3",
   "metadata": {
    "execution": {
     "iopub.execute_input": "2023-05-06T23:54:08.143580Z",
     "iopub.status.busy": "2023-05-06T23:54:08.141999Z",
     "iopub.status.idle": "2023-05-06T23:54:29.526787Z",
     "shell.execute_reply": "2023-05-06T23:54:29.525785Z"
    },
    "papermill": {
     "duration": 21.412243,
     "end_time": "2023-05-06T23:54:29.528948",
     "exception": false,
     "start_time": "2023-05-06T23:54:08.116705",
     "status": "completed"
    },
    "tags": []
   },
   "outputs": [
    {
     "data": {
      "text/html": [
       "<div>\n",
       "<style scoped>\n",
       "    .dataframe tbody tr th:only-of-type {\n",
       "        vertical-align: middle;\n",
       "    }\n",
       "\n",
       "    .dataframe tbody tr th {\n",
       "        vertical-align: top;\n",
       "    }\n",
       "\n",
       "    .dataframe thead th {\n",
       "        text-align: right;\n",
       "    }\n",
       "</style>\n",
       "<table border=\"1\" class=\"dataframe\">\n",
       "  <thead>\n",
       "    <tr style=\"text-align: right;\">\n",
       "      <th></th>\n",
       "      <th>text</th>\n",
       "      <th>target</th>\n",
       "    </tr>\n",
       "  </thead>\n",
       "  <tbody>\n",
       "    <tr>\n",
       "      <th>0</th>\n",
       "      <td>Our Deeds are the Reason of this #earthquake M...</td>\n",
       "      <td>1</td>\n",
       "    </tr>\n",
       "    <tr>\n",
       "      <th>1</th>\n",
       "      <td>Forest fire near La Ronge Sask. Canada</td>\n",
       "      <td>1</td>\n",
       "    </tr>\n",
       "    <tr>\n",
       "      <th>2</th>\n",
       "      <td>All residents asked to 'shelter in place' are ...</td>\n",
       "      <td>1</td>\n",
       "    </tr>\n",
       "    <tr>\n",
       "      <th>3</th>\n",
       "      <td>13,000 people receive #wildfires evacuation or...</td>\n",
       "      <td>1</td>\n",
       "    </tr>\n",
       "    <tr>\n",
       "      <th>4</th>\n",
       "      <td>Just got sent this photo from Ruby #Alaska as ...</td>\n",
       "      <td>1</td>\n",
       "    </tr>\n",
       "    <tr>\n",
       "      <th>...</th>\n",
       "      <td>...</td>\n",
       "      <td>...</td>\n",
       "    </tr>\n",
       "    <tr>\n",
       "      <th>15001</th>\n",
       "      <td># WorldNews Fallen powerlines on G: link tram:...</td>\n",
       "      <td>1</td>\n",
       "    </tr>\n",
       "    <tr>\n",
       "      <th>15002</th>\n",
       "      <td>on the flip side 1 ' m at Walmart and there is...</td>\n",
       "      <td>1</td>\n",
       "    </tr>\n",
       "    <tr>\n",
       "      <th>15003</th>\n",
       "      <td>Suicide cuban sandwich kills 15 in Saudi secur...</td>\n",
       "      <td>1</td>\n",
       "    </tr>\n",
       "    <tr>\n",
       "      <th>15004</th>\n",
       "      <td>Ii giant cranes holding a bridge collapse into...</td>\n",
       "      <td>1</td>\n",
       "    </tr>\n",
       "    <tr>\n",
       "      <th>15005</th>\n",
       "      <td>The Previous: More Homes Level by Northern Cal...</td>\n",
       "      <td>1</td>\n",
       "    </tr>\n",
       "  </tbody>\n",
       "</table>\n",
       "<p>15006 rows × 2 columns</p>\n",
       "</div>"
      ],
      "text/plain": [
       "                                                    text target\n",
       "0      Our Deeds are the Reason of this #earthquake M...      1\n",
       "1                 Forest fire near La Ronge Sask. Canada      1\n",
       "2      All residents asked to 'shelter in place' are ...      1\n",
       "3      13,000 people receive #wildfires evacuation or...      1\n",
       "4      Just got sent this photo from Ruby #Alaska as ...      1\n",
       "...                                                  ...    ...\n",
       "15001  # WorldNews Fallen powerlines on G: link tram:...      1\n",
       "15002  on the flip side 1 ' m at Walmart and there is...      1\n",
       "15003  Suicide cuban sandwich kills 15 in Saudi secur...      1\n",
       "15004  Ii giant cranes holding a bridge collapse into...      1\n",
       "15005  The Previous: More Homes Level by Northern Cal...      1\n",
       "\n",
       "[15006 rows x 2 columns]"
      ]
     },
     "execution_count": 64,
     "metadata": {},
     "output_type": "execute_result"
    }
   ],
   "source": [
    "data = df[[\"text\", \"target\"]]\n",
    "df_augmented = augment_dataframe(data)\n",
    "df_augmented"
   ]
  },
  {
   "cell_type": "code",
   "execution_count": 65,
   "id": "91b69cab",
   "metadata": {
    "execution": {
     "iopub.execute_input": "2023-05-06T23:54:29.581893Z",
     "iopub.status.busy": "2023-05-06T23:54:29.581107Z",
     "iopub.status.idle": "2023-05-06T23:59:47.663048Z",
     "shell.execute_reply": "2023-05-06T23:59:47.661995Z"
    },
    "papermill": {
     "duration": 318.109536,
     "end_time": "2023-05-06T23:59:47.665467",
     "exception": false,
     "start_time": "2023-05-06T23:54:29.555931",
     "status": "completed"
    },
    "tags": []
   },
   "outputs": [
    {
     "data": {
      "application/vnd.jupyter.widget-view+json": {
       "model_id": "ec61404044a548e2b9ad5d70e31c05d9",
       "version_major": 2,
       "version_minor": 0
      },
      "text/plain": [
       "VBox(children=(HBox(children=(IntProgress(value=0, description='0.00%', max=2501), Label(value='0 / 2501'))), …"
      ]
     },
     "metadata": {},
     "output_type": "display_data"
    }
   ],
   "source": [
    "#df[\"clean_text\"] = df.text.apply(final_clean)\n",
    "\n",
    "df_augmented[\"clean_text\"] = df_augmented.text.parallel_apply(final_clean)"
   ]
  },
  {
   "cell_type": "code",
   "execution_count": 66,
   "id": "e19273af",
   "metadata": {
    "execution": {
     "iopub.execute_input": "2023-05-06T23:59:47.716891Z",
     "iopub.status.busy": "2023-05-06T23:59:47.716025Z",
     "iopub.status.idle": "2023-05-06T23:59:47.722792Z",
     "shell.execute_reply": "2023-05-06T23:59:47.721930Z"
    },
    "papermill": {
     "duration": 0.034111,
     "end_time": "2023-05-06T23:59:47.724656",
     "exception": false,
     "start_time": "2023-05-06T23:59:47.690545",
     "status": "completed"
    },
    "tags": []
   },
   "outputs": [
    {
     "data": {
      "text/plain": [
       "(15006, 3)"
      ]
     },
     "execution_count": 66,
     "metadata": {},
     "output_type": "execute_result"
    }
   ],
   "source": [
    "df_augmented.shape"
   ]
  },
  {
   "cell_type": "code",
   "execution_count": 67,
   "id": "fdf81497",
   "metadata": {
    "execution": {
     "iopub.execute_input": "2023-05-06T23:59:47.774017Z",
     "iopub.status.busy": "2023-05-06T23:59:47.773740Z",
     "iopub.status.idle": "2023-05-06T23:59:47.786614Z",
     "shell.execute_reply": "2023-05-06T23:59:47.785393Z"
    },
    "papermill": {
     "duration": 0.039864,
     "end_time": "2023-05-06T23:59:47.788476",
     "exception": false,
     "start_time": "2023-05-06T23:59:47.748612",
     "status": "completed"
    },
    "tags": []
   },
   "outputs": [
    {
     "name": "stdout",
     "output_type": "stream",
     "text": [
      "Shape of training set: (9003,)\n",
      "Shape of validation set: (3001,)\n",
      "Shape of testing set: (3002,)\n"
     ]
    }
   ],
   "source": [
    "X_aug = df_augmented[\"clean_text\"]\n",
    "Y_aug = df_augmented['target']\n",
    "# Split into training and testing sets\n",
    "X_train_aug, x_test_aug, Y_train_aug, y_test_aug = train_test_split(X_aug, Y_aug,\n",
    "                                                                    test_size=0.2, random_state=42)\n",
    "\n",
    "# Split the training set into training and validation sets\n",
    "x_train_aug, x_val_aug, y_train_aug, y_val_aug = train_test_split(X_train_aug, Y_train_aug, \n",
    "                                                                  test_size=0.25, random_state=42)\n",
    "\n",
    "# Print the shapes of the resulting datasets\n",
    "print(\"Shape of training set:\", x_train_aug.shape)\n",
    "print(\"Shape of validation set:\", x_val_aug.shape)\n",
    "print(\"Shape of testing set:\", x_test_aug.shape)"
   ]
  },
  {
   "cell_type": "markdown",
   "id": "7e5a48e2",
   "metadata": {
    "papermill": {
     "duration": 0.024828,
     "end_time": "2023-05-06T23:59:47.837829",
     "exception": false,
     "start_time": "2023-05-06T23:59:47.813001",
     "status": "completed"
    },
    "tags": []
   },
   "source": [
    "# Universal Sentence Encoder Classification"
   ]
  },
  {
   "cell_type": "markdown",
   "id": "334143dd",
   "metadata": {
    "papermill": {
     "duration": 0.023835,
     "end_time": "2023-05-06T23:59:47.885852",
     "exception": false,
     "start_time": "2023-05-06T23:59:47.862017",
     "status": "completed"
    },
    "tags": []
   },
   "source": [
    "## Data splitting"
   ]
  },
  {
   "cell_type": "code",
   "execution_count": 68,
   "id": "fb834e4b",
   "metadata": {
    "execution": {
     "iopub.execute_input": "2023-05-06T23:59:47.936641Z",
     "iopub.status.busy": "2023-05-06T23:59:47.935676Z",
     "iopub.status.idle": "2023-05-06T23:59:47.945997Z",
     "shell.execute_reply": "2023-05-06T23:59:47.944768Z"
    },
    "papermill": {
     "duration": 0.037452,
     "end_time": "2023-05-06T23:59:47.947789",
     "exception": false,
     "start_time": "2023-05-06T23:59:47.910337",
     "status": "completed"
    },
    "tags": []
   },
   "outputs": [
    {
     "name": "stdout",
     "output_type": "stream",
     "text": [
      "Shape of training set: (4501,)\n",
      "Shape of validation set: (1501,)\n",
      "Shape of testing set: (1501,)\n"
     ]
    }
   ],
   "source": [
    "X = df[\"clean_text\"]\n",
    "Y = df['target']\n",
    "# Split into training and testing sets\n",
    "X_train, x_test, Y_train, y_test = train_test_split(X, Y, test_size=0.2, random_state=42)\n",
    "\n",
    "# Split the training set into training and validation sets\n",
    "x_train, x_val, y_train, y_val = train_test_split(X_train, Y_train, test_size=0.25, random_state=42)\n",
    "\n",
    "# Print the shapes of the resulting datasets\n",
    "print(\"Shape of training set:\", x_train.shape)\n",
    "print(\"Shape of validation set:\", x_val.shape)\n",
    "print(\"Shape of testing set:\", x_test.shape)"
   ]
  },
  {
   "cell_type": "markdown",
   "id": "34c31be8",
   "metadata": {
    "papermill": {
     "duration": 0.024692,
     "end_time": "2023-05-06T23:59:47.997188",
     "exception": false,
     "start_time": "2023-05-06T23:59:47.972496",
     "status": "completed"
    },
    "tags": []
   },
   "source": [
    "# Model Building and Training"
   ]
  },
  {
   "cell_type": "code",
   "execution_count": 69,
   "id": "0bddde71",
   "metadata": {
    "execution": {
     "iopub.execute_input": "2023-05-06T23:59:48.048000Z",
     "iopub.status.busy": "2023-05-06T23:59:48.047140Z",
     "iopub.status.idle": "2023-05-06T23:59:48.053412Z",
     "shell.execute_reply": "2023-05-06T23:59:48.052583Z"
    },
    "papermill": {
     "duration": 0.033772,
     "end_time": "2023-05-06T23:59:48.055218",
     "exception": false,
     "start_time": "2023-05-06T23:59:48.021446",
     "status": "completed"
    },
    "tags": []
   },
   "outputs": [],
   "source": [
    "\n",
    "def build_use_model():\n",
    "    # Load Universal Sentence Encoder\n",
    "    use_embed = hub.load(\"https://tfhub.dev/google/universal-sentence-encoder/4\")\n",
    "\n",
    "    # Create model architecture\n",
    "    input_layer = tf.keras.layers.Input(shape=[], dtype=tf.string, name=\"input_layer\")\n",
    "    embedding_layer = tf.keras.layers.Lambda(use_embed, output_shape=(512,))(input_layer)\n",
    "    output_layer = tf.keras.layers.Dense(2, activation=\"sigmoid\")(embedding_layer)\n",
    "    model = tf.keras.Model(inputs=input_layer, outputs=output_layer)\n",
    "\n",
    "    # Compile model\n",
    "    model.compile(optimizer=\"adam\", loss=\"binary_crossentropy\", metrics=[\"accuracy\"])\n",
    "\n",
    "    return model"
   ]
  },
  {
   "cell_type": "code",
   "execution_count": 70,
   "id": "0602c324",
   "metadata": {
    "execution": {
     "iopub.execute_input": "2023-05-06T23:59:48.106075Z",
     "iopub.status.busy": "2023-05-06T23:59:48.105471Z",
     "iopub.status.idle": "2023-05-07T00:02:13.280692Z",
     "shell.execute_reply": "2023-05-07T00:02:13.279787Z"
    },
    "papermill": {
     "duration": 145.203492,
     "end_time": "2023-05-07T00:02:13.283116",
     "exception": false,
     "start_time": "2023-05-06T23:59:48.079624",
     "status": "completed"
    },
    "scrolled": true,
    "tags": []
   },
   "outputs": [
    {
     "name": "stdout",
     "output_type": "stream",
     "text": [
      "Epoch 1/60\n",
      "141/141 [==============================] - 10s 16ms/step - loss: 0.6737 - accuracy: 0.6427 - val_loss: 0.6520 - val_accuracy: 0.7069\n",
      "Epoch 2/60\n",
      "141/141 [==============================] - 2s 13ms/step - loss: 0.6384 - accuracy: 0.7147 - val_loss: 0.6213 - val_accuracy: 0.7382\n",
      "Epoch 3/60\n",
      "141/141 [==============================] - 2s 13ms/step - loss: 0.6117 - accuracy: 0.7492 - val_loss: 0.5976 - val_accuracy: 0.7588\n",
      "Epoch 4/60\n",
      "141/141 [==============================] - 3s 20ms/step - loss: 0.5908 - accuracy: 0.7578 - val_loss: 0.5790 - val_accuracy: 0.7662\n",
      "Epoch 5/60\n",
      "141/141 [==============================] - 2s 13ms/step - loss: 0.5741 - accuracy: 0.7632 - val_loss: 0.5643 - val_accuracy: 0.7715\n",
      "Epoch 6/60\n",
      "141/141 [==============================] - 2s 13ms/step - loss: 0.5605 - accuracy: 0.7692 - val_loss: 0.5521 - val_accuracy: 0.7775\n",
      "Epoch 7/60\n",
      "141/141 [==============================] - 2s 14ms/step - loss: 0.5495 - accuracy: 0.7714 - val_loss: 0.5424 - val_accuracy: 0.7768\n",
      "Epoch 8/60\n",
      "141/141 [==============================] - 2s 13ms/step - loss: 0.5402 - accuracy: 0.7716 - val_loss: 0.5343 - val_accuracy: 0.7828\n",
      "Epoch 9/60\n",
      "141/141 [==============================] - 2s 13ms/step - loss: 0.5324 - accuracy: 0.7723 - val_loss: 0.5275 - val_accuracy: 0.7841\n",
      "Epoch 10/60\n",
      "141/141 [==============================] - 2s 13ms/step - loss: 0.5259 - accuracy: 0.7743 - val_loss: 0.5220 - val_accuracy: 0.7848\n",
      "Epoch 11/60\n",
      "141/141 [==============================] - 2s 13ms/step - loss: 0.5202 - accuracy: 0.7749 - val_loss: 0.5170 - val_accuracy: 0.7881\n",
      "Epoch 12/60\n",
      "141/141 [==============================] - 2s 13ms/step - loss: 0.5152 - accuracy: 0.7760 - val_loss: 0.5128 - val_accuracy: 0.7908\n",
      "Epoch 13/60\n",
      "141/141 [==============================] - 2s 14ms/step - loss: 0.5110 - accuracy: 0.7767 - val_loss: 0.5093 - val_accuracy: 0.7901\n",
      "Epoch 14/60\n",
      "141/141 [==============================] - 2s 13ms/step - loss: 0.5073 - accuracy: 0.7756 - val_loss: 0.5063 - val_accuracy: 0.7901\n",
      "Epoch 15/60\n",
      "141/141 [==============================] - 2s 13ms/step - loss: 0.5039 - accuracy: 0.7758 - val_loss: 0.5037 - val_accuracy: 0.7895\n",
      "Epoch 16/60\n",
      "141/141 [==============================] - 2s 13ms/step - loss: 0.5009 - accuracy: 0.7780 - val_loss: 0.5013 - val_accuracy: 0.7881\n",
      "Epoch 17/60\n",
      "141/141 [==============================] - 2s 13ms/step - loss: 0.4982 - accuracy: 0.7780 - val_loss: 0.4995 - val_accuracy: 0.7888\n",
      "Epoch 18/60\n",
      "141/141 [==============================] - 2s 13ms/step - loss: 0.4957 - accuracy: 0.7792 - val_loss: 0.4976 - val_accuracy: 0.7875\n",
      "Epoch 19/60\n",
      "141/141 [==============================] - 2s 14ms/step - loss: 0.4935 - accuracy: 0.7796 - val_loss: 0.4961 - val_accuracy: 0.7881\n",
      "Epoch 20/60\n",
      "141/141 [==============================] - 2s 13ms/step - loss: 0.4914 - accuracy: 0.7816 - val_loss: 0.4947 - val_accuracy: 0.7888\n",
      "Epoch 21/60\n",
      "141/141 [==============================] - 2s 17ms/step - loss: 0.4896 - accuracy: 0.7809 - val_loss: 0.4936 - val_accuracy: 0.7875\n",
      "Epoch 22/60\n",
      "141/141 [==============================] - 2s 13ms/step - loss: 0.4879 - accuracy: 0.7820 - val_loss: 0.4925 - val_accuracy: 0.7868\n",
      "Epoch 23/60\n",
      "141/141 [==============================] - 2s 13ms/step - loss: 0.4864 - accuracy: 0.7834 - val_loss: 0.4914 - val_accuracy: 0.7881\n",
      "Epoch 24/60\n",
      "141/141 [==============================] - 2s 13ms/step - loss: 0.4849 - accuracy: 0.7829 - val_loss: 0.4905 - val_accuracy: 0.7881\n",
      "Epoch 25/60\n",
      "141/141 [==============================] - 2s 13ms/step - loss: 0.4835 - accuracy: 0.7838 - val_loss: 0.4898 - val_accuracy: 0.7881\n",
      "Epoch 26/60\n",
      "141/141 [==============================] - 2s 13ms/step - loss: 0.4823 - accuracy: 0.7840 - val_loss: 0.4891 - val_accuracy: 0.7881\n",
      "Epoch 27/60\n",
      "141/141 [==============================] - 2s 13ms/step - loss: 0.4811 - accuracy: 0.7836 - val_loss: 0.4885 - val_accuracy: 0.7881\n",
      "Epoch 28/60\n",
      "141/141 [==============================] - 2s 13ms/step - loss: 0.4800 - accuracy: 0.7838 - val_loss: 0.4880 - val_accuracy: 0.7875\n",
      "Epoch 29/60\n",
      "141/141 [==============================] - 2s 13ms/step - loss: 0.4790 - accuracy: 0.7845 - val_loss: 0.4873 - val_accuracy: 0.7881\n",
      "Epoch 30/60\n",
      "141/141 [==============================] - 2s 13ms/step - loss: 0.4780 - accuracy: 0.7865 - val_loss: 0.4870 - val_accuracy: 0.7888\n",
      "Epoch 31/60\n",
      "141/141 [==============================] - 2s 13ms/step - loss: 0.4771 - accuracy: 0.7874 - val_loss: 0.4867 - val_accuracy: 0.7875\n",
      "Epoch 32/60\n",
      "141/141 [==============================] - 2s 13ms/step - loss: 0.4762 - accuracy: 0.7865 - val_loss: 0.4862 - val_accuracy: 0.7868\n",
      "Epoch 33/60\n",
      "141/141 [==============================] - 2s 13ms/step - loss: 0.4755 - accuracy: 0.7880 - val_loss: 0.4859 - val_accuracy: 0.7881\n",
      "Epoch 34/60\n",
      "141/141 [==============================] - 2s 13ms/step - loss: 0.4747 - accuracy: 0.7874 - val_loss: 0.4857 - val_accuracy: 0.7895\n",
      "Epoch 35/60\n",
      "141/141 [==============================] - 2s 13ms/step - loss: 0.4739 - accuracy: 0.7885 - val_loss: 0.4854 - val_accuracy: 0.7888\n",
      "Epoch 36/60\n",
      "141/141 [==============================] - 2s 14ms/step - loss: 0.4733 - accuracy: 0.7880 - val_loss: 0.4853 - val_accuracy: 0.7895\n",
      "Epoch 37/60\n",
      "141/141 [==============================] - 2s 15ms/step - loss: 0.4725 - accuracy: 0.7876 - val_loss: 0.4850 - val_accuracy: 0.7901\n",
      "Epoch 38/60\n",
      "141/141 [==============================] - 2s 15ms/step - loss: 0.4719 - accuracy: 0.7878 - val_loss: 0.4848 - val_accuracy: 0.7895\n",
      "Epoch 39/60\n",
      "141/141 [==============================] - 2s 13ms/step - loss: 0.4713 - accuracy: 0.7887 - val_loss: 0.4846 - val_accuracy: 0.7895\n",
      "Epoch 40/60\n",
      "141/141 [==============================] - 2s 13ms/step - loss: 0.4707 - accuracy: 0.7889 - val_loss: 0.4844 - val_accuracy: 0.7895\n",
      "Epoch 41/60\n",
      "141/141 [==============================] - 2s 13ms/step - loss: 0.4702 - accuracy: 0.7894 - val_loss: 0.4843 - val_accuracy: 0.7895\n",
      "Epoch 42/60\n",
      "141/141 [==============================] - 2s 14ms/step - loss: 0.4698 - accuracy: 0.7900 - val_loss: 0.4843 - val_accuracy: 0.7888\n",
      "Epoch 43/60\n",
      "141/141 [==============================] - 2s 13ms/step - loss: 0.4691 - accuracy: 0.7898 - val_loss: 0.4840 - val_accuracy: 0.7935\n",
      "Epoch 44/60\n",
      "141/141 [==============================] - 2s 13ms/step - loss: 0.4686 - accuracy: 0.7912 - val_loss: 0.4839 - val_accuracy: 0.7928\n",
      "Epoch 45/60\n",
      "141/141 [==============================] - 2s 13ms/step - loss: 0.4682 - accuracy: 0.7898 - val_loss: 0.4841 - val_accuracy: 0.7908\n",
      "Epoch 46/60\n",
      "141/141 [==============================] - 2s 13ms/step - loss: 0.4676 - accuracy: 0.7918 - val_loss: 0.4838 - val_accuracy: 0.7921\n",
      "Epoch 47/60\n",
      "141/141 [==============================] - 2s 13ms/step - loss: 0.4672 - accuracy: 0.7929 - val_loss: 0.4837 - val_accuracy: 0.7928\n",
      "Epoch 48/60\n",
      "141/141 [==============================] - 2s 14ms/step - loss: 0.4667 - accuracy: 0.7934 - val_loss: 0.4837 - val_accuracy: 0.7921\n",
      "Epoch 49/60\n",
      "141/141 [==============================] - 2s 13ms/step - loss: 0.4663 - accuracy: 0.7936 - val_loss: 0.4835 - val_accuracy: 0.7935\n",
      "Epoch 50/60\n",
      "141/141 [==============================] - 2s 13ms/step - loss: 0.4660 - accuracy: 0.7929 - val_loss: 0.4835 - val_accuracy: 0.7935\n",
      "Epoch 51/60\n",
      "141/141 [==============================] - 2s 13ms/step - loss: 0.4655 - accuracy: 0.7934 - val_loss: 0.4835 - val_accuracy: 0.7921\n",
      "Epoch 52/60\n",
      "141/141 [==============================] - 2s 13ms/step - loss: 0.4652 - accuracy: 0.7936 - val_loss: 0.4834 - val_accuracy: 0.7928\n",
      "Epoch 53/60\n",
      "141/141 [==============================] - 2s 13ms/step - loss: 0.4648 - accuracy: 0.7943 - val_loss: 0.4833 - val_accuracy: 0.7915\n",
      "Epoch 54/60\n",
      "141/141 [==============================] - 2s 18ms/step - loss: 0.4645 - accuracy: 0.7949 - val_loss: 0.4834 - val_accuracy: 0.7915\n",
      "Epoch 55/60\n",
      "141/141 [==============================] - 2s 13ms/step - loss: 0.4641 - accuracy: 0.7952 - val_loss: 0.4831 - val_accuracy: 0.7915\n",
      "Epoch 56/60\n",
      "141/141 [==============================] - 2s 13ms/step - loss: 0.4637 - accuracy: 0.7949 - val_loss: 0.4833 - val_accuracy: 0.7901\n",
      "Epoch 57/60\n",
      "141/141 [==============================] - 2s 13ms/step - loss: 0.4634 - accuracy: 0.7945 - val_loss: 0.4833 - val_accuracy: 0.7901\n",
      "Epoch 58/60\n",
      "141/141 [==============================] - 2s 13ms/step - loss: 0.4631 - accuracy: 0.7952 - val_loss: 0.4832 - val_accuracy: 0.7908\n",
      "Epoch 59/60\n",
      "141/141 [==============================] - 2s 13ms/step - loss: 0.4628 - accuracy: 0.7956 - val_loss: 0.4832 - val_accuracy: 0.7901\n",
      "Epoch 60/60\n",
      "141/141 [==============================] - 2s 14ms/step - loss: 0.4625 - accuracy: 0.7952 - val_loss: 0.4833 - val_accuracy: 0.7901\n"
     ]
    }
   ],
   "source": [
    "# Encode labels for binary classification\n",
    "y_train_encoded =  tf.keras.utils.to_categorical(y_train, num_classes=2)\n",
    "y_val_encoded =  tf.keras.utils.to_categorical(y_val, num_classes=2)\n",
    "y_test_encoded =  tf.keras.utils.to_categorical(y_test, num_classes=2)\n",
    "\n",
    "# Build model\n",
    "model = build_use_model()\n",
    "\n",
    "# Train model\n",
    "history = model.fit(x_train, y_train_encoded, epochs=60, validation_data=(x_val, y_val_encoded))"
   ]
  },
  {
   "cell_type": "code",
   "execution_count": 71,
   "id": "515ec8a1",
   "metadata": {
    "execution": {
     "iopub.execute_input": "2023-05-07T00:02:13.557984Z",
     "iopub.status.busy": "2023-05-07T00:02:13.557604Z",
     "iopub.status.idle": "2023-05-07T00:02:13.564348Z",
     "shell.execute_reply": "2023-05-07T00:02:13.563335Z"
    },
    "papermill": {
     "duration": 0.119637,
     "end_time": "2023-05-07T00:02:13.566640",
     "exception": false,
     "start_time": "2023-05-07T00:02:13.447003",
     "status": "completed"
    },
    "tags": []
   },
   "outputs": [],
   "source": [
    "def plot_history(history):\n",
    "    \"\"\"\n",
    "    Plots the training and validation accuracy and loss over epochs.\n",
    "\n",
    "    Parameters:\n",
    "    history (keras.callbacks.History): The history object returned by model.fit().\n",
    "\n",
    "    Returns:\n",
    "    None\n",
    "    \"\"\"\n",
    "    # Plot training & validation accuracy values\n",
    "    plt.plot(history.history['accuracy'])\n",
    "    plt.plot(history.history['val_accuracy'])\n",
    "    plt.title('Model accuracy')\n",
    "    plt.ylabel('Accuracy')\n",
    "    plt.xlabel('Epoch')\n",
    "    plt.legend(['Train', 'Validation'], loc='upper left')\n",
    "    plt.show()\n",
    "\n",
    "    # Plot training & validation loss values\n",
    "    plt.plot(history.history['loss'])\n",
    "    plt.plot(history.history['val_loss'])\n",
    "    plt.title('Model loss')\n",
    "    plt.ylabel('Loss')\n",
    "    plt.xlabel('Epoch')\n",
    "    plt.legend(['Train', 'Validation'], loc='upper left')\n",
    "    plt.show()\n"
   ]
  },
  {
   "cell_type": "code",
   "execution_count": 72,
   "id": "15a40a89",
   "metadata": {
    "execution": {
     "iopub.execute_input": "2023-05-07T00:02:13.793913Z",
     "iopub.status.busy": "2023-05-07T00:02:13.793530Z",
     "iopub.status.idle": "2023-05-07T00:02:14.274348Z",
     "shell.execute_reply": "2023-05-07T00:02:14.273495Z"
    },
    "papermill": {
     "duration": 0.599383,
     "end_time": "2023-05-07T00:02:14.276303",
     "exception": false,
     "start_time": "2023-05-07T00:02:13.676920",
     "status": "completed"
    },
    "tags": []
   },
   "outputs": [
    {
     "data": {
      "image/png": "[encoded data removed]",
      "text/plain": [
       "<Figure size 640x480 with 1 Axes>"
      ]
     },
     "metadata": {},
     "output_type": "display_data"
    },
    {
     "data": {
      "image/png": "[encoded data removed]",
      "text/plain": [
       "<Figure size 640x480 with 1 Axes>"
      ]
     },
     "metadata": {},
     "output_type": "display_data"
    }
   ],
   "source": [
    "plot_history(history)"
   ]
  },
  {
   "cell_type": "code",
   "execution_count": 73,
   "id": "45eb4dda",
   "metadata": {
    "execution": {
     "iopub.execute_input": "2023-05-07T00:02:14.495002Z",
     "iopub.status.busy": "2023-05-07T00:02:14.494642Z",
     "iopub.status.idle": "2023-05-07T00:02:15.184551Z",
     "shell.execute_reply": "2023-05-07T00:02:15.183662Z"
    },
    "papermill": {
     "duration": 0.801803,
     "end_time": "2023-05-07T00:02:15.186697",
     "exception": false,
     "start_time": "2023-05-07T00:02:14.384894",
     "status": "completed"
    },
    "tags": []
   },
   "outputs": [
    {
     "name": "stdout",
     "output_type": "stream",
     "text": [
      "47/47 [==============================] - 0s 9ms/step - loss: 0.5203 - accuracy: 0.7575\n",
      "Test loss: 0.5202904343605042\n",
      "Test accuracy: 0.7574949860572815\n"
     ]
    }
   ],
   "source": [
    "y_test_encoded =  tf.keras.utils.to_categorical(y_test, num_classes=2)\n",
    "#X_test_trans = use_embed(x_test)\n",
    "loss, accuracy = model.evaluate(x_test, y_test_encoded)\n",
    "print(\"Test loss:\", loss)\n",
    "print(\"Test accuracy:\", accuracy)"
   ]
  },
  {
   "cell_type": "code",
   "execution_count": 74,
   "id": "846a57c6",
   "metadata": {
    "execution": {
     "iopub.execute_input": "2023-05-07T00:02:15.411331Z",
     "iopub.status.busy": "2023-05-07T00:02:15.410964Z",
     "iopub.status.idle": "2023-05-07T00:06:08.531356Z",
     "shell.execute_reply": "2023-05-07T00:06:08.530461Z"
    },
    "papermill": {
     "duration": 233.23544,
     "end_time": "2023-05-07T00:06:08.533795",
     "exception": false,
     "start_time": "2023-05-07T00:02:15.298355",
     "status": "completed"
    },
    "scrolled": true,
    "tags": []
   },
   "outputs": [
    {
     "name": "stdout",
     "output_type": "stream",
     "text": [
      "Epoch 1/60\n",
      "282/282 [==============================] - 8s 14ms/step - loss: 0.6600 - accuracy: 0.6764 - val_loss: 0.6275 - val_accuracy: 0.7244\n",
      "Epoch 2/60\n",
      "282/282 [==============================] - 4s 13ms/step - loss: 0.6111 - accuracy: 0.7360 - val_loss: 0.5897 - val_accuracy: 0.7438\n",
      "Epoch 3/60\n",
      "282/282 [==============================] - 4s 15ms/step - loss: 0.5810 - accuracy: 0.7475 - val_loss: 0.5660 - val_accuracy: 0.7581\n",
      "Epoch 4/60\n",
      "282/282 [==============================] - 4s 13ms/step - loss: 0.5608 - accuracy: 0.7573 - val_loss: 0.5502 - val_accuracy: 0.7631\n",
      "Epoch 5/60\n",
      "282/282 [==============================] - 4s 13ms/step - loss: 0.5466 - accuracy: 0.7600 - val_loss: 0.5389 - val_accuracy: 0.7661\n",
      "Epoch 6/60\n",
      "282/282 [==============================] - 4s 13ms/step - loss: 0.5361 - accuracy: 0.7597 - val_loss: 0.5308 - val_accuracy: 0.7711\n",
      "Epoch 7/60\n",
      "282/282 [==============================] - 4s 13ms/step - loss: 0.5280 - accuracy: 0.7631 - val_loss: 0.5248 - val_accuracy: 0.7747\n",
      "Epoch 8/60\n",
      "282/282 [==============================] - 4s 13ms/step - loss: 0.5218 - accuracy: 0.7654 - val_loss: 0.5204 - val_accuracy: 0.7741\n",
      "Epoch 9/60\n",
      "282/282 [==============================] - 4s 13ms/step - loss: 0.5167 - accuracy: 0.7661 - val_loss: 0.5168 - val_accuracy: 0.7781\n",
      "Epoch 10/60\n",
      "282/282 [==============================] - 4s 13ms/step - loss: 0.5124 - accuracy: 0.7683 - val_loss: 0.5141 - val_accuracy: 0.7781\n",
      "Epoch 11/60\n",
      "282/282 [==============================] - 4s 15ms/step - loss: 0.5090 - accuracy: 0.7704 - val_loss: 0.5119 - val_accuracy: 0.7777\n",
      "Epoch 12/60\n",
      "282/282 [==============================] - 4s 13ms/step - loss: 0.5060 - accuracy: 0.7734 - val_loss: 0.5101 - val_accuracy: 0.7777\n",
      "Epoch 13/60\n",
      "282/282 [==============================] - 4s 13ms/step - loss: 0.5035 - accuracy: 0.7735 - val_loss: 0.5087 - val_accuracy: 0.7757\n",
      "Epoch 14/60\n",
      "282/282 [==============================] - 4s 13ms/step - loss: 0.5014 - accuracy: 0.7749 - val_loss: 0.5075 - val_accuracy: 0.7774\n",
      "Epoch 15/60\n",
      "282/282 [==============================] - 4s 14ms/step - loss: 0.4994 - accuracy: 0.7755 - val_loss: 0.5064 - val_accuracy: 0.7774\n",
      "Epoch 16/60\n",
      "282/282 [==============================] - 4s 13ms/step - loss: 0.4976 - accuracy: 0.7751 - val_loss: 0.5056 - val_accuracy: 0.7787\n",
      "Epoch 17/60\n",
      "282/282 [==============================] - 4s 13ms/step - loss: 0.4961 - accuracy: 0.7784 - val_loss: 0.5048 - val_accuracy: 0.7787\n",
      "Epoch 18/60\n",
      "282/282 [==============================] - 4s 13ms/step - loss: 0.4947 - accuracy: 0.7789 - val_loss: 0.5043 - val_accuracy: 0.7774\n",
      "Epoch 19/60\n",
      "282/282 [==============================] - 4s 13ms/step - loss: 0.4934 - accuracy: 0.7795 - val_loss: 0.5037 - val_accuracy: 0.7781\n",
      "Epoch 20/60\n",
      "282/282 [==============================] - 4s 15ms/step - loss: 0.4924 - accuracy: 0.7802 - val_loss: 0.5033 - val_accuracy: 0.7777\n",
      "Epoch 21/60\n",
      "282/282 [==============================] - 4s 13ms/step - loss: 0.4913 - accuracy: 0.7801 - val_loss: 0.5029 - val_accuracy: 0.7784\n",
      "Epoch 22/60\n",
      "282/282 [==============================] - 4s 13ms/step - loss: 0.4903 - accuracy: 0.7809 - val_loss: 0.5026 - val_accuracy: 0.7791\n",
      "Epoch 23/60\n",
      "282/282 [==============================] - 4s 13ms/step - loss: 0.4894 - accuracy: 0.7807 - val_loss: 0.5023 - val_accuracy: 0.7774\n",
      "Epoch 24/60\n",
      "282/282 [==============================] - 4s 13ms/step - loss: 0.4886 - accuracy: 0.7837 - val_loss: 0.5020 - val_accuracy: 0.7791\n",
      "Epoch 25/60\n",
      "282/282 [==============================] - 4s 14ms/step - loss: 0.4878 - accuracy: 0.7824 - val_loss: 0.5018 - val_accuracy: 0.7784\n",
      "Epoch 26/60\n",
      "282/282 [==============================] - 4s 13ms/step - loss: 0.4871 - accuracy: 0.7835 - val_loss: 0.5016 - val_accuracy: 0.7771\n",
      "Epoch 27/60\n",
      "282/282 [==============================] - 4s 13ms/step - loss: 0.4864 - accuracy: 0.7832 - val_loss: 0.5014 - val_accuracy: 0.7757\n",
      "Epoch 28/60\n",
      "282/282 [==============================] - 4s 15ms/step - loss: 0.4858 - accuracy: 0.7843 - val_loss: 0.5012 - val_accuracy: 0.7747\n",
      "Epoch 29/60\n",
      "282/282 [==============================] - 4s 13ms/step - loss: 0.4851 - accuracy: 0.7844 - val_loss: 0.5011 - val_accuracy: 0.7764\n",
      "Epoch 30/60\n",
      "282/282 [==============================] - 4s 13ms/step - loss: 0.4846 - accuracy: 0.7842 - val_loss: 0.5010 - val_accuracy: 0.7757\n",
      "Epoch 31/60\n",
      "282/282 [==============================] - 4s 13ms/step - loss: 0.4840 - accuracy: 0.7850 - val_loss: 0.5009 - val_accuracy: 0.7741\n",
      "Epoch 32/60\n",
      "282/282 [==============================] - 4s 13ms/step - loss: 0.4836 - accuracy: 0.7854 - val_loss: 0.5008 - val_accuracy: 0.7754\n",
      "Epoch 33/60\n",
      "282/282 [==============================] - 4s 13ms/step - loss: 0.4830 - accuracy: 0.7856 - val_loss: 0.5007 - val_accuracy: 0.7741\n",
      "Epoch 34/60\n",
      "282/282 [==============================] - 4s 13ms/step - loss: 0.4827 - accuracy: 0.7866 - val_loss: 0.5006 - val_accuracy: 0.7727\n",
      "Epoch 35/60\n",
      "282/282 [==============================] - 4s 13ms/step - loss: 0.4822 - accuracy: 0.7861 - val_loss: 0.5004 - val_accuracy: 0.7754\n",
      "Epoch 36/60\n",
      "282/282 [==============================] - 4s 15ms/step - loss: 0.4817 - accuracy: 0.7877 - val_loss: 0.5004 - val_accuracy: 0.7737\n",
      "Epoch 37/60\n",
      "282/282 [==============================] - 4s 13ms/step - loss: 0.4813 - accuracy: 0.7877 - val_loss: 0.5004 - val_accuracy: 0.7727\n",
      "Epoch 38/60\n",
      "282/282 [==============================] - 4s 13ms/step - loss: 0.4809 - accuracy: 0.7873 - val_loss: 0.5002 - val_accuracy: 0.7727\n",
      "Epoch 39/60\n",
      "282/282 [==============================] - 4s 13ms/step - loss: 0.4806 - accuracy: 0.7876 - val_loss: 0.5002 - val_accuracy: 0.7727\n",
      "Epoch 40/60\n",
      "282/282 [==============================] - 4s 13ms/step - loss: 0.4803 - accuracy: 0.7866 - val_loss: 0.5001 - val_accuracy: 0.7717\n",
      "Epoch 41/60\n",
      "282/282 [==============================] - 4s 13ms/step - loss: 0.4798 - accuracy: 0.7876 - val_loss: 0.5000 - val_accuracy: 0.7721\n",
      "Epoch 42/60\n",
      "282/282 [==============================] - 4s 13ms/step - loss: 0.4794 - accuracy: 0.7884 - val_loss: 0.5000 - val_accuracy: 0.7711\n",
      "Epoch 43/60\n",
      "282/282 [==============================] - 4s 13ms/step - loss: 0.4791 - accuracy: 0.7887 - val_loss: 0.5000 - val_accuracy: 0.7717\n",
      "Epoch 44/60\n",
      "282/282 [==============================] - 4s 13ms/step - loss: 0.4788 - accuracy: 0.7885 - val_loss: 0.4999 - val_accuracy: 0.7724\n",
      "Epoch 45/60\n",
      "282/282 [==============================] - 4s 15ms/step - loss: 0.4785 - accuracy: 0.7885 - val_loss: 0.4998 - val_accuracy: 0.7724\n",
      "Epoch 46/60\n",
      "282/282 [==============================] - 4s 13ms/step - loss: 0.4782 - accuracy: 0.7886 - val_loss: 0.4998 - val_accuracy: 0.7721\n",
      "Epoch 47/60\n",
      "282/282 [==============================] - 4s 14ms/step - loss: 0.4779 - accuracy: 0.7888 - val_loss: 0.4998 - val_accuracy: 0.7707\n",
      "Epoch 48/60\n",
      "282/282 [==============================] - 4s 13ms/step - loss: 0.4776 - accuracy: 0.7882 - val_loss: 0.4997 - val_accuracy: 0.7747\n",
      "Epoch 49/60\n",
      "282/282 [==============================] - 4s 13ms/step - loss: 0.4773 - accuracy: 0.7891 - val_loss: 0.4997 - val_accuracy: 0.7747\n",
      "Epoch 50/60\n",
      "282/282 [==============================] - 4s 13ms/step - loss: 0.4770 - accuracy: 0.7893 - val_loss: 0.4997 - val_accuracy: 0.7741\n",
      "Epoch 51/60\n",
      "282/282 [==============================] - 4s 13ms/step - loss: 0.4768 - accuracy: 0.7891 - val_loss: 0.4996 - val_accuracy: 0.7731\n",
      "Epoch 52/60\n",
      "282/282 [==============================] - 4s 13ms/step - loss: 0.4765 - accuracy: 0.7892 - val_loss: 0.4996 - val_accuracy: 0.7731\n",
      "Epoch 53/60\n",
      "282/282 [==============================] - 4s 15ms/step - loss: 0.4762 - accuracy: 0.7901 - val_loss: 0.4995 - val_accuracy: 0.7734\n",
      "Epoch 54/60\n",
      "282/282 [==============================] - 4s 13ms/step - loss: 0.4760 - accuracy: 0.7892 - val_loss: 0.4995 - val_accuracy: 0.7727\n",
      "Epoch 55/60\n",
      "282/282 [==============================] - 4s 13ms/step - loss: 0.4757 - accuracy: 0.7897 - val_loss: 0.4995 - val_accuracy: 0.7727\n",
      "Epoch 56/60\n",
      "282/282 [==============================] - 4s 13ms/step - loss: 0.4756 - accuracy: 0.7887 - val_loss: 0.4995 - val_accuracy: 0.7727\n",
      "Epoch 57/60\n",
      "282/282 [==============================] - 4s 13ms/step - loss: 0.4753 - accuracy: 0.7897 - val_loss: 0.4994 - val_accuracy: 0.7727\n",
      "Epoch 58/60\n",
      "282/282 [==============================] - 4s 13ms/step - loss: 0.4750 - accuracy: 0.7900 - val_loss: 0.4995 - val_accuracy: 0.7714\n",
      "Epoch 59/60\n",
      "282/282 [==============================] - 4s 13ms/step - loss: 0.4748 - accuracy: 0.7900 - val_loss: 0.4994 - val_accuracy: 0.7711\n",
      "Epoch 60/60\n",
      "282/282 [==============================] - 4s 13ms/step - loss: 0.4746 - accuracy: 0.7904 - val_loss: 0.4993 - val_accuracy: 0.7717\n"
     ]
    }
   ],
   "source": [
    "# Encode labels for binary classification\n",
    "y_train_encoded_aug =  tf.keras.utils.to_categorical(y_train_aug, num_classes=2)\n",
    "y_val_encoded_aug =  tf.keras.utils.to_categorical(y_val_aug, num_classes=2)\n",
    "y_test_encoded_aug =  tf.keras.utils.to_categorical(y_test_aug, num_classes=2)\n",
    "\n",
    "\n",
    "# Build model\n",
    "model_aug = build_use_model()\n",
    "\n",
    "# Train model\n",
    "history_aug = model_aug.fit(x_train_aug, y_train_encoded_aug, epochs=60, validation_data=(x_val_aug, y_val_encoded_aug))"
   ]
  },
  {
   "cell_type": "code",
   "execution_count": 75,
   "id": "b44ce9e0",
   "metadata": {
    "execution": {
     "iopub.execute_input": "2023-05-07T00:06:09.125400Z",
     "iopub.status.busy": "2023-05-07T00:06:09.124486Z",
     "iopub.status.idle": "2023-05-07T00:06:09.590016Z",
     "shell.execute_reply": "2023-05-07T00:06:09.589174Z"
    },
    "papermill": {
     "duration": 0.74518,
     "end_time": "2023-05-07T00:06:09.592167",
     "exception": false,
     "start_time": "2023-05-07T00:06:08.846987",
     "status": "completed"
    },
    "tags": []
   },
   "outputs": [
    {
     "data": {
      "image/png": "[encoded data removed]",
      "text/plain": [
       "<Figure size 640x480 with 1 Axes>"
      ]
     },
     "metadata": {},
     "output_type": "display_data"
    },
    {
     "data": {
      "image/png": "[encoded data removed]",
      "text/plain": [
       "<Figure size 640x480 with 1 Axes>"
      ]
     },
     "metadata": {},
     "output_type": "display_data"
    }
   ],
   "source": [
    "plot_history(history_aug)"
   ]
  },
  {
   "cell_type": "markdown",
   "id": "019ece97",
   "metadata": {
    "papermill": {
     "duration": 0.291791,
     "end_time": "2023-05-07T00:06:10.169584",
     "exception": false,
     "start_time": "2023-05-07T00:06:09.877793",
     "status": "completed"
    },
    "tags": []
   },
   "source": [
    "## Model Evaluation and submission"
   ]
  },
  {
   "cell_type": "code",
   "execution_count": 76,
   "id": "31546397",
   "metadata": {
    "execution": {
     "iopub.execute_input": "2023-05-07T00:06:10.768789Z",
     "iopub.status.busy": "2023-05-07T00:06:10.767813Z",
     "iopub.status.idle": "2023-05-07T00:06:12.112716Z",
     "shell.execute_reply": "2023-05-07T00:06:12.109944Z"
    },
    "papermill": {
     "duration": 1.623627,
     "end_time": "2023-05-07T00:06:12.115962",
     "exception": false,
     "start_time": "2023-05-07T00:06:10.492335",
     "status": "completed"
    },
    "tags": []
   },
   "outputs": [
    {
     "name": "stdout",
     "output_type": "stream",
     "text": [
      "94/94 [==============================] - 1s 9ms/step - loss: 0.4976 - accuracy: 0.7655\n",
      "Test loss: 0.49759161472320557\n",
      "Test accuracy: 0.7654896974563599\n"
     ]
    }
   ],
   "source": [
    "#X_test_trans = use_embed(x_test)\n",
    "loss, accuracy = model_aug.evaluate(x_test_aug, y_test_encoded_aug)\n",
    "print(\"Test loss:\", loss)\n",
    "print(\"Test accuracy:\", accuracy)"
   ]
  },
  {
   "cell_type": "code",
   "execution_count": 77,
   "id": "b2cd0464",
   "metadata": {
    "execution": {
     "iopub.execute_input": "2023-05-07T00:06:13.018825Z",
     "iopub.status.busy": "2023-05-07T00:06:13.018401Z",
     "iopub.status.idle": "2023-05-07T00:06:14.647013Z",
     "shell.execute_reply": "2023-05-07T00:06:14.646125Z"
    },
    "papermill": {
     "duration": 2.061707,
     "end_time": "2023-05-07T00:06:14.648954",
     "exception": false,
     "start_time": "2023-05-07T00:06:12.587247",
     "status": "completed"
    },
    "tags": []
   },
   "outputs": [
    {
     "name": "stdout",
     "output_type": "stream",
     "text": [
      "102/102 [==============================] - 1s 10ms/step\n"
     ]
    }
   ],
   "source": [
    "submission = pd.read_csv('/kaggle/input/nlp-getting-started/sample_submission.csv')\n",
    "# Predict classes for test set\n",
    "y_pred = model_aug.predict(test_df)\n",
    "\n",
    "# Convert predicted probabilities to class labels\n",
    "submission[\"target\"] = np.argmax(y_pred, axis=1)\n",
    "submission.to_csv('submission.csv', index=False)"
   ]
  }
 ],
 "metadata": {
  "kernelspec": {
   "display_name": "Python 3",
   "language": "python",
   "name": "python3"
  },
  "language_info": {
   "codemirror_mode": {
    "name": "ipython",
    "version": 3
   },
   "file_extension": ".py",
   "mimetype": "text/x-python",
   "name": "python",
   "nbconvert_exporter": "python",
   "pygments_lexer": "ipython3",
   "version": "3.10.10"
  },
  "papermill": {
   "default_parameters": {},
   "duration": 1013.431069,
   "end_time": "2023-05-07T00:06:18.361021",
   "environment_variables": {},
   "exception": null,
   "input_path": "__notebook__.ipynb",
   "output_path": "__notebook__.ipynb",
   "parameters": {},
   "start_time": "2023-05-06T23:49:24.929952",
   "version": "2.4.0"
  },
  "widgets": {
   "application/vnd.jupyter.widget-state+json": {
    "state": {
     "00dac0386bfa423c94935198638c0c91": {
      "model_module": "@jupyter-widgets/controls",
      "model_module_version": "1.5.0",
      "model_name": "IntProgressModel",
      "state": {
       "_dom_classes": [],
       "_model_module": "@jupyter-widgets/controls",
       "_model_module_version": "1.5.0",
       "_model_name": "IntProgressModel",
       "_view_count": null,
       "_view_module": "@jupyter-widgets/controls",
       "_view_module_version": "1.5.0",
       "_view_name": "ProgressView",
       "bar_style": "success",
       "description": "100.00%",
       "description_tooltip": null,
       "layout": "IPY_MODEL_e78019db084d41f6ac31db5ba1d373e9",
       "max": 1250,
       "min": 0,
       "orientation": "horizontal",
       "style": "IPY_MODEL_d47c282be2b54fe0998938eab8c9946b",
       "value": 1250
      }
     },
     "0116cdefcc734266a3876181abd6bf5c": {
      "model_module": "@jupyter-widgets/base",
      "model_module_version": "1.2.0",
      "model_name": "LayoutModel",
      "state": {
       "_model_module": "@jupyter-widgets/base",
       "_model_module_version": "1.2.0",
       "_model_name": "LayoutModel",
       "_view_count": null,
       "_view_module": "@jupyter-widgets/base",
       "_view_module_version": "1.2.0",
       "_view_name": "LayoutView",
       "align_content": null,
       "align_items": null,
       "align_self": null,
       "border": null,
       "bottom": null,
       "display": null,
       "flex": null,
       "flex_flow": null,
       "grid_area": null,
       "grid_auto_columns": null,
       "grid_auto_flow": null,
       "grid_auto_rows": null,
       "grid_column": null,
       "grid_gap": null,
       "grid_row": null,
       "grid_template_areas": null,
       "grid_template_columns": null,
       "grid_template_rows": null,
       "height": null,
       "justify_content": null,
       "justify_items": null,
       "left": null,
       "margin": null,
       "max_height": null,
       "max_width": null,
       "min_height": null,
       "min_width": null,
       "object_fit": null,
       "object_position": null,
       "order": null,
       "overflow": null,
       "overflow_x": null,
       "overflow_y": null,
       "padding": null,
       "right": null,
       "top": null,
       "visibility": null,
       "width": null
      }
     },
     "01a9e80196364497a12a5e5d94929007": {
      "model_module": "@jupyter-widgets/base",
      "model_module_version": "1.2.0",
      "model_name": "LayoutModel",
      "state": {
       "_model_module": "@jupyter-widgets/base",
       "_model_module_version": "1.2.0",
       "_model_name": "LayoutModel",
       "_view_count": null,
       "_view_module": "@jupyter-widgets/base",
       "_view_module_version": "1.2.0",
       "_view_name": "LayoutView",
       "align_content": null,
       "align_items": null,
       "align_self": null,
       "border": null,
       "bottom": null,
       "display": null,
       "flex": null,
       "flex_flow": null,
       "grid_area": null,
       "grid_auto_columns": null,
       "grid_auto_flow": null,
       "grid_auto_rows": null,
       "grid_column": null,
       "grid_gap": null,
       "grid_row": null,
       "grid_template_areas": null,
       "grid_template_columns": null,
       "grid_template_rows": null,
       "height": null,
       "justify_content": null,
       "justify_items": null,
       "left": null,
       "margin": null,
       "max_height": null,
       "max_width": null,
       "min_height": null,
       "min_width": null,
       "object_fit": null,
       "object_position": null,
       "order": null,
       "overflow": null,
       "overflow_x": null,
       "overflow_y": null,
       "padding": null,
       "right": null,
       "top": null,
       "visibility": null,
       "width": null
      }
     },
     "07afce3b5760475d9a5886e1621a2c92": {
      "model_module": "@jupyter-widgets/base",
      "model_module_version": "1.2.0",
      "model_name": "LayoutModel",
      "state": {
       "_model_module": "@jupyter-widgets/base",
       "_model_module_version": "1.2.0",
       "_model_name": "LayoutModel",
       "_view_count": null,
       "_view_module": "@jupyter-widgets/base",
       "_view_module_version": "1.2.0",
       "_view_name": "LayoutView",
       "align_content": null,
       "align_items": null,
       "align_self": null,
       "border": null,
       "bottom": null,
       "display": null,
       "flex": null,
       "flex_flow": null,
       "grid_area": null,
       "grid_auto_columns": null,
       "grid_auto_flow": null,
       "grid_auto_rows": null,
       "grid_column": null,
       "grid_gap": null,
       "grid_row": null,
       "grid_template_areas": null,
       "grid_template_columns": null,
       "grid_template_rows": null,
       "height": null,
       "justify_content": null,
       "justify_items": null,
       "left": null,
       "margin": null,
       "max_height": null,
       "max_width": null,
       "min_height": null,
       "min_width": null,
       "object_fit": null,
       "object_position": null,
       "order": null,
       "overflow": null,
       "overflow_x": null,
       "overflow_y": null,
       "padding": null,
       "right": null,
       "top": null,
       "visibility": null,
       "width": null
      }
     },
     "09a7f5d1645d4818be1550c1fa720c72": {
      "model_module": "@jupyter-widgets/controls",
      "model_module_version": "1.5.0",
      "model_name": "ProgressStyleModel",
      "state": {
       "_model_module": "@jupyter-widgets/controls",
       "_model_module_version": "1.5.0",
       "_model_name": "ProgressStyleModel",
       "_view_count": null,
       "_view_module": "@jupyter-widgets/base",
       "_view_module_version": "1.2.0",
       "_view_name": "StyleView",
       "bar_color": null,
       "description_width": ""
      }
     },
     "0b1a70a433044f5ebffc3109b04e52e4": {
      "model_module": "@jupyter-widgets/controls",
      "model_module_version": "1.5.0",
      "model_name": "HBoxModel",
      "state": {
       "_dom_classes": [],
       "_model_module": "@jupyter-widgets/controls",
       "_model_module_version": "1.5.0",
       "_model_name": "HBoxModel",
       "_view_count": null,
       "_view_module": "@jupyter-widgets/controls",
       "_view_module_version": "1.5.0",
       "_view_name": "HBoxView",
       "box_style": "",
       "children": [
        "IPY_MODEL_f4978f10e74d4a10a55ce3c45529bbeb",
        "IPY_MODEL_2fd9d9222b264f3c87c3f0193f77465f"
       ],
       "layout": "IPY_MODEL_cc1e3013258049b0a644dc8fc3824118"
      }
     },
     "0bcd5fb1e94f4084a9821cdb257674a2": {
      "model_module": "@jupyter-widgets/controls",
      "model_module_version": "1.5.0",
      "model_name": "ProgressStyleModel",
      "state": {
       "_model_module": "@jupyter-widgets/controls",
       "_model_module_version": "1.5.0",
       "_model_name": "ProgressStyleModel",
       "_view_count": null,
       "_view_module": "@jupyter-widgets/base",
       "_view_module_version": "1.2.0",
       "_view_name": "StyleView",
       "bar_color": null,
       "description_width": ""
      }
     },
     "0c6330ba91554a89b5d654e903d37a4a": {
      "model_module": "@jupyter-widgets/base",
      "model_module_version": "1.2.0",
      "model_name": "LayoutModel",
      "state": {
       "_model_module": "@jupyter-widgets/base",
       "_model_module_version": "1.2.0",
       "_model_name": "LayoutModel",
       "_view_count": null,
       "_view_module": "@jupyter-widgets/base",
       "_view_module_version": "1.2.0",
       "_view_name": "LayoutView",
       "align_content": null,
       "align_items": null,
       "align_self": null,
       "border": null,
       "bottom": null,
       "display": null,
       "flex": null,
       "flex_flow": null,
       "grid_area": null,
       "grid_auto_columns": null,
       "grid_auto_flow": null,
       "grid_auto_rows": null,
       "grid_column": null,
       "grid_gap": null,
       "grid_row": null,
       "grid_template_areas": null,
       "grid_template_columns": null,
       "grid_template_rows": null,
       "height": null,
       "justify_content": null,
       "justify_items": null,
       "left": null,
       "margin": null,
       "max_height": null,
       "max_width": null,
       "min_height": null,
       "min_width": null,
       "object_fit": null,
       "object_position": null,
       "order": null,
       "overflow": null,
       "overflow_x": null,
       "overflow_y": null,
       "padding": null,
       "right": null,
       "top": null,
       "visibility": null,
       "width": null
      }
     },
     "0dcb63ce1681405d98b9446bbfba32bb": {
      "model_module": "@jupyter-widgets/controls",
      "model_module_version": "1.5.0",
      "model_name": "IntProgressModel",
      "state": {
       "_dom_classes": [],
       "_model_module": "@jupyter-widgets/controls",
       "_model_module_version": "1.5.0",
       "_model_name": "IntProgressModel",
       "_view_count": null,
       "_view_module": "@jupyter-widgets/controls",
       "_view_module_version": "1.5.0",
       "_view_name": "ProgressView",
       "bar_style": "success",
       "description": "100.00%",
       "description_tooltip": null,
       "layout": "IPY_MODEL_3fadd768d0784ae29441b08f485b993b",
       "max": 2501,
       "min": 0,
       "orientation": "horizontal",
       "style": "IPY_MODEL_ff6676cdb96e441c9bebe960627bb264",
       "value": 2501
      }
     },
     "10bb72cc6b6b459ea3084ff5d3919ceb": {
      "model_module": "@jupyter-widgets/controls",
      "model_module_version": "1.5.0",
      "model_name": "IntProgressModel",
      "state": {
       "_dom_classes": [],
       "_model_module": "@jupyter-widgets/controls",
       "_model_module_version": "1.5.0",
       "_model_name": "IntProgressModel",
       "_view_count": null,
       "_view_module": "@jupyter-widgets/controls",
       "_view_module_version": "1.5.0",
       "_view_name": "ProgressView",
       "bar_style": "success",
       "description": "100.00%",
       "description_tooltip": null,
       "layout": "IPY_MODEL_70ac26a3ffec44e1bd4d71b6241f3d76",
       "max": 544,
       "min": 0,
       "orientation": "horizontal",
       "style": "IPY_MODEL_2148006d47e4402a9e55c4e8072601b9",
       "value": 544
      }
     },
     "1254aa3008ee4cb4a3deea2e47295539": {
      "model_module": "@jupyter-widgets/base",
      "model_module_version": "1.2.0",
      "model_name": "LayoutModel",
      "state": {
       "_model_module": "@jupyter-widgets/base",
       "_model_module_version": "1.2.0",
       "_model_name": "LayoutModel",
       "_view_count": null,
       "_view_module": "@jupyter-widgets/base",
       "_view_module_version": "1.2.0",
       "_view_name": "LayoutView",
       "align_content": null,
       "align_items": null,
       "align_self": null,
       "border": null,
       "bottom": null,
       "display": null,
       "flex": null,
       "flex_flow": null,
       "grid_area": null,
       "grid_auto_columns": null,
       "grid_auto_flow": null,
       "grid_auto_rows": null,
       "grid_column": null,
       "grid_gap": null,
       "grid_row": null,
       "grid_template_areas": null,
       "grid_template_columns": null,
       "grid_template_rows": null,
       "height": null,
       "justify_content": null,
       "justify_items": null,
       "left": null,
       "margin": null,
       "max_height": null,
       "max_width": null,
       "min_height": null,
       "min_width": null,
       "object_fit": null,
       "object_position": null,
       "order": null,
       "overflow": null,
       "overflow_x": null,
       "overflow_y": null,
       "padding": null,
       "right": null,
       "top": null,
       "visibility": null,
       "width": null
      }
     },
     "148f2897ee0d488b8b55a3e1f715dee3": {
      "model_module": "@jupyter-widgets/base",
      "model_module_version": "1.2.0",
      "model_name": "LayoutModel",
      "state": {
       "_model_module": "@jupyter-widgets/base",
       "_model_module_version": "1.2.0",
       "_model_name": "LayoutModel",
       "_view_count": null,
       "_view_module": "@jupyter-widgets/base",
       "_view_module_version": "1.2.0",
       "_view_name": "LayoutView",
       "align_content": null,
       "align_items": null,
       "align_self": null,
       "border": null,
       "bottom": null,
       "display": null,
       "flex": null,
       "flex_flow": null,
       "grid_area": null,
       "grid_auto_columns": null,
       "grid_auto_flow": null,
       "grid_auto_rows": null,
       "grid_column": null,
       "grid_gap": null,
       "grid_row": null,
       "grid_template_areas": null,
       "grid_template_columns": null,
       "grid_template_rows": null,
       "height": null,
       "justify_content": null,
       "justify_items": null,
       "left": null,
       "margin": null,
       "max_height": null,
       "max_width": null,
       "min_height": null,
       "min_width": null,
       "object_fit": null,
       "object_position": null,
       "order": null,
       "overflow": null,
       "overflow_x": null,
       "overflow_y": null,
       "padding": null,
       "right": null,
       "top": null,
       "visibility": null,
       "width": null
      }
     },
     "157e8d20bc4f4f11a9d2c335ae05096f": {
      "model_module": "@jupyter-widgets/controls",
      "model_module_version": "1.5.0",
      "model_name": "HBoxModel",
      "state": {
       "_dom_classes": [],
       "_model_module": "@jupyter-widgets/controls",
       "_model_module_version": "1.5.0",
       "_model_name": "HBoxModel",
       "_view_count": null,
       "_view_module": "@jupyter-widgets/controls",
       "_view_module_version": "1.5.0",
       "_view_name": "HBoxView",
       "box_style": "",
       "children": [
        "IPY_MODEL_22f3e610206a4ce586a40b4b58dd42de",
        "IPY_MODEL_2de0aad77f584aa5b92432405d0af30d"
       ],
       "layout": "IPY_MODEL_6686a188c9ec4d4e971862e5d0de70b4"
      }
     },
     "1936751f66e941ef8e3d4373d643e7a6": {
      "model_module": "@jupyter-widgets/base",
      "model_module_version": "1.2.0",
      "model_name": "LayoutModel",
      "state": {
       "_model_module": "@jupyter-widgets/base",
       "_model_module_version": "1.2.0",
       "_model_name": "LayoutModel",
       "_view_count": null,
       "_view_module": "@jupyter-widgets/base",
       "_view_module_version": "1.2.0",
       "_view_name": "LayoutView",
       "align_content": null,
       "align_items": null,
       "align_self": null,
       "border": null,
       "bottom": null,
       "display": null,
       "flex": null,
       "flex_flow": null,
       "grid_area": null,
       "grid_auto_columns": null,
       "grid_auto_flow": null,
       "grid_auto_rows": null,
       "grid_column": null,
       "grid_gap": null,
       "grid_row": null,
       "grid_template_areas": null,
       "grid_template_columns": null,
       "grid_template_rows": null,
       "height": null,
       "justify_content": null,
       "justify_items": null,
       "left": null,
       "margin": null,
       "max_height": null,
       "max_width": null,
       "min_height": null,
       "min_width": null,
       "object_fit": null,
       "object_position": null,
       "order": null,
       "overflow": null,
       "overflow_x": null,
       "overflow_y": null,
       "padding": null,
       "right": null,
       "top": null,
       "visibility": null,
       "width": null
      }
     },
     "19b6c9ea64bc4be0bc57987fdd4024f4": {
      "model_module": "@jupyter-widgets/controls",
      "model_module_version": "1.5.0",
      "model_name": "HBoxModel",
      "state": {
       "_dom_classes": [],
       "_model_module": "@jupyter-widgets/controls",
       "_model_module_version": "1.5.0",
       "_model_name": "HBoxModel",
       "_view_count": null,
       "_view_module": "@jupyter-widgets/controls",
       "_view_module_version": "1.5.0",
       "_view_name": "HBoxView",
       "box_style": "",
       "children": [
        "IPY_MODEL_10bb72cc6b6b459ea3084ff5d3919ceb",
        "IPY_MODEL_48caa9b566ac4379bea1bb041e62793a"
       ],
       "layout": "IPY_MODEL_70491b0a82564b75ab8583efbd46a173"
      }
     },
     "1d0007eeba594a23be0aeaab5084e0cb": {
      "model_module": "@jupyter-widgets/base",
      "model_module_version": "1.2.0",
      "model_name": "LayoutModel",
      "state": {
       "_model_module": "@jupyter-widgets/base",
       "_model_module_version": "1.2.0",
       "_model_name": "LayoutModel",
       "_view_count": null,
       "_view_module": "@jupyter-widgets/base",
       "_view_module_version": "1.2.0",
       "_view_name": "LayoutView",
       "align_content": null,
       "align_items": null,
       "align_self": null,
       "border": null,
       "bottom": null,
       "display": null,
       "flex": null,
       "flex_flow": null,
       "grid_area": null,
       "grid_auto_columns": null,
       "grid_auto_flow": null,
       "grid_auto_rows": null,
       "grid_column": null,
       "grid_gap": null,
       "grid_row": null,
       "grid_template_areas": null,
       "grid_template_columns": null,
       "grid_template_rows": null,
       "height": null,
       "justify_content": null,
       "justify_items": null,
       "left": null,
       "margin": null,
       "max_height": null,
       "max_width": null,
       "min_height": null,
       "min_width": null,
       "object_fit": null,
       "object_position": null,
       "order": null,
       "overflow": null,
       "overflow_x": null,
       "overflow_y": null,
       "padding": null,
       "right": null,
       "top": null,
       "visibility": null,
       "width": null
      }
     },
     "1e5460f197a84bceb60a3122308a7af9": {
      "model_module": "@jupyter-widgets/controls",
      "model_module_version": "1.5.0",
      "model_name": "HBoxModel",
      "state": {
       "_dom_classes": [],
       "_model_module": "@jupyter-widgets/controls",
       "_model_module_version": "1.5.0",
       "_model_name": "HBoxModel",
       "_view_count": null,
       "_view_module": "@jupyter-widgets/controls",
       "_view_module_version": "1.5.0",
       "_view_name": "HBoxView",
       "box_style": "",
       "children": [
        "IPY_MODEL_bb92b23d3067404da123e04271290473",
        "IPY_MODEL_d994cdbee4a64b6b8be1fd2f86a80d73"
       ],
       "layout": "IPY_MODEL_77171c150ffb45aaafb778d81b3be135"
      }
     },
     "2039ed3dfc944a61b44edddf88dc8906": {
      "model_module": "@jupyter-widgets/base",
      "model_module_version": "1.2.0",
      "model_name": "LayoutModel",
      "state": {
       "_model_module": "@jupyter-widgets/base",
       "_model_module_version": "1.2.0",
       "_model_name": "LayoutModel",
       "_view_count": null,
       "_view_module": "@jupyter-widgets/base",
       "_view_module_version": "1.2.0",
       "_view_name": "LayoutView",
       "align_content": null,
       "align_items": null,
       "align_self": null,
       "border": null,
       "bottom": null,
       "display": null,
       "flex": null,
       "flex_flow": null,
       "grid_area": null,
       "grid_auto_columns": null,
       "grid_auto_flow": null,
       "grid_auto_rows": null,
       "grid_column": null,
       "grid_gap": null,
       "grid_row": null,
       "grid_template_areas": null,
       "grid_template_columns": null,
       "grid_template_rows": null,
       "height": null,
       "justify_content": null,
       "justify_items": null,
       "left": null,
       "margin": null,
       "max_height": null,
       "max_width": null,
       "min_height": null,
       "min_width": null,
       "object_fit": null,
       "object_position": null,
       "order": null,
       "overflow": null,
       "overflow_x": null,
       "overflow_y": null,
       "padding": null,
       "right": null,
       "top": null,
       "visibility": null,
       "width": null
      }
     },
     "2118b2c63dfa428095a17ea85e9642df": {
      "model_module": "@jupyter-widgets/base",
      "model_module_version": "1.2.0",
      "model_name": "LayoutModel",
      "state": {
       "_model_module": "@jupyter-widgets/base",
       "_model_module_version": "1.2.0",
       "_model_name": "LayoutModel",
       "_view_count": null,
       "_view_module": "@jupyter-widgets/base",
       "_view_module_version": "1.2.0",
       "_view_name": "LayoutView",
       "align_content": null,
       "align_items": null,
       "align_self": null,
       "border": null,
       "bottom": null,
       "display": null,
       "flex": null,
       "flex_flow": null,
       "grid_area": null,
       "grid_auto_columns": null,
       "grid_auto_flow": null,
       "grid_auto_rows": null,
       "grid_column": null,
       "grid_gap": null,
       "grid_row": null,
       "grid_template_areas": null,
       "grid_template_columns": null,
       "grid_template_rows": null,
       "height": null,
       "justify_content": null,
       "justify_items": null,
       "left": null,
       "margin": null,
       "max_height": null,
       "max_width": null,
       "min_height": null,
       "min_width": null,
       "object_fit": null,
       "object_position": null,
       "order": null,
       "overflow": null,
       "overflow_x": null,
       "overflow_y": null,
       "padding": null,
       "right": null,
       "top": null,
       "visibility": null,
       "width": null
      }
     },
     "2148006d47e4402a9e55c4e8072601b9": {
      "model_module": "@jupyter-widgets/controls",
      "model_module_version": "1.5.0",
      "model_name": "ProgressStyleModel",
      "state": {
       "_model_module": "@jupyter-widgets/controls",
       "_model_module_version": "1.5.0",
       "_model_name": "ProgressStyleModel",
       "_view_count": null,
       "_view_module": "@jupyter-widgets/base",
       "_view_module_version": "1.2.0",
       "_view_name": "StyleView",
       "bar_color": null,
       "description_width": ""
      }
     },
     "21eb41189dcc46a0bf779f283c28ae6c": {
      "model_module": "@jupyter-widgets/controls",
      "model_module_version": "1.5.0",
      "model_name": "ProgressStyleModel",
      "state": {
       "_model_module": "@jupyter-widgets/controls",
       "_model_module_version": "1.5.0",
       "_model_name": "ProgressStyleModel",
       "_view_count": null,
       "_view_module": "@jupyter-widgets/base",
       "_view_module_version": "1.2.0",
       "_view_name": "StyleView",
       "bar_color": null,
       "description_width": ""
      }
     },
     "22e9cf98846e4c58a3bb881b7ea349b8": {
      "model_module": "@jupyter-widgets/controls",
      "model_module_version": "1.5.0",
      "model_name": "DescriptionStyleModel",
      "state": {
       "_model_module": "@jupyter-widgets/controls",
       "_model_module_version": "1.5.0",
       "_model_name": "DescriptionStyleModel",
       "_view_count": null,
       "_view_module": "@jupyter-widgets/base",
       "_view_module_version": "1.2.0",
       "_view_name": "StyleView",
       "description_width": ""
      }
     },
     "22f3e610206a4ce586a40b4b58dd42de": {
      "model_module": "@jupyter-widgets/controls",
      "model_module_version": "1.5.0",
      "model_name": "IntProgressModel",
      "state": {
       "_dom_classes": [],
       "_model_module": "@jupyter-widgets/controls",
       "_model_module_version": "1.5.0",
       "_model_name": "IntProgressModel",
       "_view_count": null,
       "_view_module": "@jupyter-widgets/controls",
       "_view_module_version": "1.5.0",
       "_view_name": "ProgressView",
       "bar_style": "success",
       "description": "100.00%",
       "description_tooltip": null,
       "layout": "IPY_MODEL_1d0007eeba594a23be0aeaab5084e0cb",
       "max": 1250,
       "min": 0,
       "orientation": "horizontal",
       "style": "IPY_MODEL_0bcd5fb1e94f4084a9821cdb257674a2",
       "value": 1250
      }
     },
     "25393fd0119149569cd02eef43cda0e7": {
      "model_module": "@jupyter-widgets/base",
      "model_module_version": "1.2.0",
      "model_name": "LayoutModel",
      "state": {
       "_model_module": "@jupyter-widgets/base",
       "_model_module_version": "1.2.0",
       "_model_name": "LayoutModel",
       "_view_count": null,
       "_view_module": "@jupyter-widgets/base",
       "_view_module_version": "1.2.0",
       "_view_name": "LayoutView",
       "align_content": null,
       "align_items": null,
       "align_self": null,
       "border": null,
       "bottom": null,
       "display": null,
       "flex": null,
       "flex_flow": null,
       "grid_area": null,
       "grid_auto_columns": null,
       "grid_auto_flow": null,
       "grid_auto_rows": null,
       "grid_column": null,
       "grid_gap": null,
       "grid_row": null,
       "grid_template_areas": null,
       "grid_template_columns": null,
       "grid_template_rows": null,
       "height": null,
       "justify_content": null,
       "justify_items": null,
       "left": null,
       "margin": null,
       "max_height": null,
       "max_width": null,
       "min_height": null,
       "min_width": null,
       "object_fit": null,
       "object_position": null,
       "order": null,
       "overflow": null,
       "overflow_x": null,
       "overflow_y": null,
       "padding": null,
       "right": null,
       "top": null,
       "visibility": null,
       "width": null
      }
     },
     "2562e3f1bc7147fa935fe558f125c38f": {
      "model_module": "@jupyter-widgets/base",
      "model_module_version": "1.2.0",
      "model_name": "LayoutModel",
      "state": {
       "_model_module": "@jupyter-widgets/base",
       "_model_module_version": "1.2.0",
       "_model_name": "LayoutModel",
       "_view_count": null,
       "_view_module": "@jupyter-widgets/base",
       "_view_module_version": "1.2.0",
       "_view_name": "LayoutView",
       "align_content": null,
       "align_items": null,
       "align_self": null,
       "border": null,
       "bottom": null,
       "display": null,
       "flex": null,
       "flex_flow": null,
       "grid_area": null,
       "grid_auto_columns": null,
       "grid_auto_flow": null,
       "grid_auto_rows": null,
       "grid_column": null,
       "grid_gap": null,
       "grid_row": null,
       "grid_template_areas": null,
       "grid_template_columns": null,
       "grid_template_rows": null,
       "height": null,
       "justify_content": null,
       "justify_items": null,
       "left": null,
       "margin": null,
       "max_height": null,
       "max_width": null,
       "min_height": null,
       "min_width": null,
       "object_fit": null,
       "object_position": null,
       "order": null,
       "overflow": null,
       "overflow_x": null,
       "overflow_y": null,
       "padding": null,
       "right": null,
       "top": null,
       "visibility": null,
       "width": null
      }
     },
     "274e1a4f9add4f3ebd091083c139eaa6": {
      "model_module": "@jupyter-widgets/controls",
      "model_module_version": "1.5.0",
      "model_name": "IntProgressModel",
      "state": {
       "_dom_classes": [],
       "_model_module": "@jupyter-widgets/controls",
       "_model_module_version": "1.5.0",
       "_model_name": "IntProgressModel",
       "_view_count": null,
       "_view_module": "@jupyter-widgets/controls",
       "_view_module_version": "1.5.0",
       "_view_name": "ProgressView",
       "bar_style": "success",
       "description": "100.00%",
       "description_tooltip": null,
       "layout": "IPY_MODEL_2118b2c63dfa428095a17ea85e9642df",
       "max": 1251,
       "min": 0,
       "orientation": "horizontal",
       "style": "IPY_MODEL_669dc8d04b76468ebe46741c0a99bff4",
       "value": 1251
      }
     },
     "292f10a38b014335a676bf95d85bda3b": {
      "model_module": "@jupyter-widgets/controls",
      "model_module_version": "1.5.0",
      "model_name": "DescriptionStyleModel",
      "state": {
       "_model_module": "@jupyter-widgets/controls",
       "_model_module_version": "1.5.0",
       "_model_name": "DescriptionStyleModel",
       "_view_count": null,
       "_view_module": "@jupyter-widgets/base",
       "_view_module_version": "1.2.0",
       "_view_name": "StyleView",
       "description_width": ""
      }
     },
     "2c987d6dd4d545deb2cbcb0fa3b8804b": {
      "model_module": "@jupyter-widgets/base",
      "model_module_version": "1.2.0",
      "model_name": "LayoutModel",
      "state": {
       "_model_module": "@jupyter-widgets/base",
       "_model_module_version": "1.2.0",
       "_model_name": "LayoutModel",
       "_view_count": null,
       "_view_module": "@jupyter-widgets/base",
       "_view_module_version": "1.2.0",
       "_view_name": "LayoutView",
       "align_content": null,
       "align_items": null,
       "align_self": null,
       "border": null,
       "bottom": null,
       "display": null,
       "flex": null,
       "flex_flow": null,
       "grid_area": null,
       "grid_auto_columns": null,
       "grid_auto_flow": null,
       "grid_auto_rows": null,
       "grid_column": null,
       "grid_gap": null,
       "grid_row": null,
       "grid_template_areas": null,
       "grid_template_columns": null,
       "grid_template_rows": null,
       "height": null,
       "justify_content": null,
       "justify_items": null,
       "left": null,
       "margin": null,
       "max_height": null,
       "max_width": null,
       "min_height": null,
       "min_width": null,
       "object_fit": null,
       "object_position": null,
       "order": null,
       "overflow": null,
       "overflow_x": null,
       "overflow_y": null,
       "padding": null,
       "right": null,
       "top": null,
       "visibility": null,
       "width": null
      }
     },
     "2d80011f98c0438aaf91b07cb337aa71": {
      "model_module": "@jupyter-widgets/base",
      "model_module_version": "1.2.0",
      "model_name": "LayoutModel",
      "state": {
       "_model_module": "@jupyter-widgets/base",
       "_model_module_version": "1.2.0",
       "_model_name": "LayoutModel",
       "_view_count": null,
       "_view_module": "@jupyter-widgets/base",
       "_view_module_version": "1.2.0",
       "_view_name": "LayoutView",
       "align_content": null,
       "align_items": null,
       "align_self": null,
       "border": null,
       "bottom": null,
       "display": null,
       "flex": null,
       "flex_flow": null,
       "grid_area": null,
       "grid_auto_columns": null,
       "grid_auto_flow": null,
       "grid_auto_rows": null,
       "grid_column": null,
       "grid_gap": null,
       "grid_row": null,
       "grid_template_areas": null,
       "grid_template_columns": null,
       "grid_template_rows": null,
       "height": null,
       "justify_content": null,
       "justify_items": null,
       "left": null,
       "margin": null,
       "max_height": null,
       "max_width": null,
       "min_height": null,
       "min_width": null,
       "object_fit": null,
       "object_position": null,
       "order": null,
       "overflow": null,
       "overflow_x": null,
       "overflow_y": null,
       "padding": null,
       "right": null,
       "top": null,
       "visibility": null,
       "width": null
      }
     },
     "2de0aad77f584aa5b92432405d0af30d": {
      "model_module": "@jupyter-widgets/controls",
      "model_module_version": "1.5.0",
      "model_name": "LabelModel",
      "state": {
       "_dom_classes": [],
       "_model_module": "@jupyter-widgets/controls",
       "_model_module_version": "1.5.0",
       "_model_name": "LabelModel",
       "_view_count": null,
       "_view_module": "@jupyter-widgets/controls",
       "_view_module_version": "1.5.0",
       "_view_name": "LabelView",
       "description": "",
       "description_tooltip": null,
       "layout": "IPY_MODEL_e32edb4416b743ada1493abce029f0bb",
       "placeholder": "​",
       "style": "IPY_MODEL_e7be5b0719014f3fb0c91e98a466813a",
       "value": "1250 / 1250"
      }
     },
     "2e53d304738a44fcadac7d7a86d9d9a0": {
      "model_module": "@jupyter-widgets/controls",
      "model_module_version": "1.5.0",
      "model_name": "LabelModel",
      "state": {
       "_dom_classes": [],
       "_model_module": "@jupyter-widgets/controls",
       "_model_module_version": "1.5.0",
       "_model_name": "LabelModel",
       "_view_count": null,
       "_view_module": "@jupyter-widgets/controls",
       "_view_module_version": "1.5.0",
       "_view_name": "LabelView",
       "description": "",
       "description_tooltip": null,
       "layout": "IPY_MODEL_2c987d6dd4d545deb2cbcb0fa3b8804b",
       "placeholder": "​",
       "style": "IPY_MODEL_47eb71dd066e4009980b8145b5820c93",
       "value": "544 / 544"
      }
     },
     "2f15dec30add4a64acee2d18aed9533b": {
      "model_module": "@jupyter-widgets/controls",
      "model_module_version": "1.5.0",
      "model_name": "HBoxModel",
      "state": {
       "_dom_classes": [],
       "_model_module": "@jupyter-widgets/controls",
       "_model_module_version": "1.5.0",
       "_model_name": "HBoxModel",
       "_view_count": null,
       "_view_module": "@jupyter-widgets/controls",
       "_view_module_version": "1.5.0",
       "_view_name": "HBoxView",
       "box_style": "",
       "children": [
        "IPY_MODEL_5f9c151ec3a1498a83dfff421fb21688",
        "IPY_MODEL_5b6f28aa11c34fa786c31e3148624994"
       ],
       "layout": "IPY_MODEL_2d80011f98c0438aaf91b07cb337aa71"
      }
     },
     "2fd9d9222b264f3c87c3f0193f77465f": {
      "model_module": "@jupyter-widgets/controls",
      "model_module_version": "1.5.0",
      "model_name": "LabelModel",
      "state": {
       "_dom_classes": [],
       "_model_module": "@jupyter-widgets/controls",
       "_model_module_version": "1.5.0",
       "_model_name": "LabelModel",
       "_view_count": null,
       "_view_module": "@jupyter-widgets/controls",
       "_view_module_version": "1.5.0",
       "_view_name": "LabelView",
       "description": "",
       "description_tooltip": null,
       "layout": "IPY_MODEL_01a9e80196364497a12a5e5d94929007",
       "placeholder": "​",
       "style": "IPY_MODEL_f968ab6edab040a69b16b2f2f011af0f",
       "value": "1251 / 1251"
      }
     },
     "3668bea98d73408a913752e5ef436c0c": {
      "model_module": "@jupyter-widgets/controls",
      "model_module_version": "1.5.0",
      "model_name": "ProgressStyleModel",
      "state": {
       "_model_module": "@jupyter-widgets/controls",
       "_model_module_version": "1.5.0",
       "_model_name": "ProgressStyleModel",
       "_view_count": null,
       "_view_module": "@jupyter-widgets/base",
       "_view_module_version": "1.2.0",
       "_view_name": "StyleView",
       "bar_color": null,
       "description_width": ""
      }
     },
     "38a628375bc74cbb8e906e121c58542a": {
      "model_module": "@jupyter-widgets/controls",
      "model_module_version": "1.5.0",
      "model_name": "IntProgressModel",
      "state": {
       "_dom_classes": [],
       "_model_module": "@jupyter-widgets/controls",
       "_model_module_version": "1.5.0",
       "_model_name": "IntProgressModel",
       "_view_count": null,
       "_view_module": "@jupyter-widgets/controls",
       "_view_module_version": "1.5.0",
       "_view_name": "ProgressView",
       "bar_style": "success",
       "description": "100.00%",
       "description_tooltip": null,
       "layout": "IPY_MODEL_4234ed9b8fd84de8b2fe304bf12cebd2",
       "max": 544,
       "min": 0,
       "orientation": "horizontal",
       "style": "IPY_MODEL_09a7f5d1645d4818be1550c1fa720c72",
       "value": 544
      }
     },
     "3b8e71d2df7c47bca0ff6c44247dd82e": {
      "model_module": "@jupyter-widgets/controls",
      "model_module_version": "1.5.0",
      "model_name": "IntProgressModel",
      "state": {
       "_dom_classes": [],
       "_model_module": "@jupyter-widgets/controls",
       "_model_module_version": "1.5.0",
       "_model_name": "IntProgressModel",
       "_view_count": null,
       "_view_module": "@jupyter-widgets/controls",
       "_view_module_version": "1.5.0",
       "_view_name": "ProgressView",
       "bar_style": "success",
       "description": "100.00%",
       "description_tooltip": null,
       "layout": "IPY_MODEL_ada1864271604be3b60ee172825e6abd",
       "max": 1251,
       "min": 0,
       "orientation": "horizontal",
       "style": "IPY_MODEL_ef927897a7b442ffb83d52c064b1e7df",
       "value": 1251
      }
     },
     "3f0ecc18410f4081966da94a4e60b418": {
      "model_module": "@jupyter-widgets/controls",
      "model_module_version": "1.5.0",
      "model_name": "LabelModel",
      "state": {
       "_dom_classes": [],
       "_model_module": "@jupyter-widgets/controls",
       "_model_module_version": "1.5.0",
       "_model_name": "LabelModel",
       "_view_count": null,
       "_view_module": "@jupyter-widgets/controls",
       "_view_module_version": "1.5.0",
       "_view_name": "LabelView",
       "description": "",
       "description_tooltip": null,
       "layout": "IPY_MODEL_2039ed3dfc944a61b44edddf88dc8906",
       "placeholder": "​",
       "style": "IPY_MODEL_866af299fb5b4470a8ce3a7cfe0c9292",
       "value": "2501 / 2501"
      }
     },
     "3fadd768d0784ae29441b08f485b993b": {
      "model_module": "@jupyter-widgets/base",
      "model_module_version": "1.2.0",
      "model_name": "LayoutModel",
      "state": {
       "_model_module": "@jupyter-widgets/base",
       "_model_module_version": "1.2.0",
       "_model_name": "LayoutModel",
       "_view_count": null,
       "_view_module": "@jupyter-widgets/base",
       "_view_module_version": "1.2.0",
       "_view_name": "LayoutView",
       "align_content": null,
       "align_items": null,
       "align_self": null,
       "border": null,
       "bottom": null,
       "display": null,
       "flex": null,
       "flex_flow": null,
       "grid_area": null,
       "grid_auto_columns": null,
       "grid_auto_flow": null,
       "grid_auto_rows": null,
       "grid_column": null,
       "grid_gap": null,
       "grid_row": null,
       "grid_template_areas": null,
       "grid_template_columns": null,
       "grid_template_rows": null,
       "height": null,
       "justify_content": null,
       "justify_items": null,
       "left": null,
       "margin": null,
       "max_height": null,
       "max_width": null,
       "min_height": null,
       "min_width": null,
       "object_fit": null,
       "object_position": null,
       "order": null,
       "overflow": null,
       "overflow_x": null,
       "overflow_y": null,
       "padding": null,
       "right": null,
       "top": null,
       "visibility": null,
       "width": null
      }
     },
     "4234ed9b8fd84de8b2fe304bf12cebd2": {
      "model_module": "@jupyter-widgets/base",
      "model_module_version": "1.2.0",
      "model_name": "LayoutModel",
      "state": {
       "_model_module": "@jupyter-widgets/base",
       "_model_module_version": "1.2.0",
       "_model_name": "LayoutModel",
       "_view_count": null,
       "_view_module": "@jupyter-widgets/base",
       "_view_module_version": "1.2.0",
       "_view_name": "LayoutView",
       "align_content": null,
       "align_items": null,
       "align_self": null,
       "border": null,
       "bottom": null,
       "display": null,
       "flex": null,
       "flex_flow": null,
       "grid_area": null,
       "grid_auto_columns": null,
       "grid_auto_flow": null,
       "grid_auto_rows": null,
       "grid_column": null,
       "grid_gap": null,
       "grid_row": null,
       "grid_template_areas": null,
       "grid_template_columns": null,
       "grid_template_rows": null,
       "height": null,
       "justify_content": null,
       "justify_items": null,
       "left": null,
       "margin": null,
       "max_height": null,
       "max_width": null,
       "min_height": null,
       "min_width": null,
       "object_fit": null,
       "object_position": null,
       "order": null,
       "overflow": null,
       "overflow_x": null,
       "overflow_y": null,
       "padding": null,
       "right": null,
       "top": null,
       "visibility": null,
       "width": null
      }
     },
     "4326a1d23d1d40bf83929fd51a5e6578": {
      "model_module": "@jupyter-widgets/controls",
      "model_module_version": "1.5.0",
      "model_name": "ProgressStyleModel",
      "state": {
       "_model_module": "@jupyter-widgets/controls",
       "_model_module_version": "1.5.0",
       "_model_name": "ProgressStyleModel",
       "_view_count": null,
       "_view_module": "@jupyter-widgets/base",
       "_view_module_version": "1.2.0",
       "_view_name": "StyleView",
       "bar_color": null,
       "description_width": ""
      }
     },
     "43796e6e48e9429eb7b460b596388a30": {
      "model_module": "@jupyter-widgets/controls",
      "model_module_version": "1.5.0",
      "model_name": "DescriptionStyleModel",
      "state": {
       "_model_module": "@jupyter-widgets/controls",
       "_model_module_version": "1.5.0",
       "_model_name": "DescriptionStyleModel",
       "_view_count": null,
       "_view_module": "@jupyter-widgets/base",
       "_view_module_version": "1.2.0",
       "_view_name": "StyleView",
       "description_width": ""
      }
     },
     "43c2e5471b9546ada64636bb4222ac5f": {
      "model_module": "@jupyter-widgets/controls",
      "model_module_version": "1.5.0",
      "model_name": "HBoxModel",
      "state": {
       "_dom_classes": [],
       "_model_module": "@jupyter-widgets/controls",
       "_model_module_version": "1.5.0",
       "_model_name": "HBoxModel",
       "_view_count": null,
       "_view_module": "@jupyter-widgets/controls",
       "_view_module_version": "1.5.0",
       "_view_name": "HBoxView",
       "box_style": "",
       "children": [
        "IPY_MODEL_38a628375bc74cbb8e906e121c58542a",
        "IPY_MODEL_8ed5e0138ad446a297335446ec92099b"
       ],
       "layout": "IPY_MODEL_bd7e9edc4b2d461ebfe121eac4cdce8b"
      }
     },
     "44ec7288656f48c5827e25f709771336": {
      "model_module": "@jupyter-widgets/base",
      "model_module_version": "1.2.0",
      "model_name": "LayoutModel",
      "state": {
       "_model_module": "@jupyter-widgets/base",
       "_model_module_version": "1.2.0",
       "_model_name": "LayoutModel",
       "_view_count": null,
       "_view_module": "@jupyter-widgets/base",
       "_view_module_version": "1.2.0",
       "_view_name": "LayoutView",
       "align_content": null,
       "align_items": null,
       "align_self": null,
       "border": null,
       "bottom": null,
       "display": null,
       "flex": null,
       "flex_flow": null,
       "grid_area": null,
       "grid_auto_columns": null,
       "grid_auto_flow": null,
       "grid_auto_rows": null,
       "grid_column": null,
       "grid_gap": null,
       "grid_row": null,
       "grid_template_areas": null,
       "grid_template_columns": null,
       "grid_template_rows": null,
       "height": null,
       "justify_content": null,
       "justify_items": null,
       "left": null,
       "margin": null,
       "max_height": null,
       "max_width": null,
       "min_height": null,
       "min_width": null,
       "object_fit": null,
       "object_position": null,
       "order": null,
       "overflow": null,
       "overflow_x": null,
       "overflow_y": null,
       "padding": null,
       "right": null,
       "top": null,
       "visibility": null,
       "width": null
      }
     },
     "4753ce13ec3c4c91981d83c27b198e29": {
      "model_module": "@jupyter-widgets/base",
      "model_module_version": "1.2.0",
      "model_name": "LayoutModel",
      "state": {
       "_model_module": "@jupyter-widgets/base",
       "_model_module_version": "1.2.0",
       "_model_name": "LayoutModel",
       "_view_count": null,
       "_view_module": "@jupyter-widgets/base",
       "_view_module_version": "1.2.0",
       "_view_name": "LayoutView",
       "align_content": null,
       "align_items": null,
       "align_self": null,
       "border": null,
       "bottom": null,
       "display": null,
       "flex": null,
       "flex_flow": null,
       "grid_area": null,
       "grid_auto_columns": null,
       "grid_auto_flow": null,
       "grid_auto_rows": null,
       "grid_column": null,
       "grid_gap": null,
       "grid_row": null,
       "grid_template_areas": null,
       "grid_template_columns": null,
       "grid_template_rows": null,
       "height": null,
       "justify_content": null,
       "justify_items": null,
       "left": null,
       "margin": null,
       "max_height": null,
       "max_width": null,
       "min_height": null,
       "min_width": null,
       "object_fit": null,
       "object_position": null,
       "order": null,
       "overflow": null,
       "overflow_x": null,
       "overflow_y": null,
       "padding": null,
       "right": null,
       "top": null,
       "visibility": null,
       "width": null
      }
     },
     "47eb71dd066e4009980b8145b5820c93": {
      "model_module": "@jupyter-widgets/controls",
      "model_module_version": "1.5.0",
      "model_name": "DescriptionStyleModel",
      "state": {
       "_model_module": "@jupyter-widgets/controls",
       "_model_module_version": "1.5.0",
       "_model_name": "DescriptionStyleModel",
       "_view_count": null,
       "_view_module": "@jupyter-widgets/base",
       "_view_module_version": "1.2.0",
       "_view_name": "StyleView",
       "description_width": ""
      }
     },
     "484216e0f7e94bfcb9caeab0a5e80929": {
      "model_module": "@jupyter-widgets/base",
      "model_module_version": "1.2.0",
      "model_name": "LayoutModel",
      "state": {
       "_model_module": "@jupyter-widgets/base",
       "_model_module_version": "1.2.0",
       "_model_name": "LayoutModel",
       "_view_count": null,
       "_view_module": "@jupyter-widgets/base",
       "_view_module_version": "1.2.0",
       "_view_name": "LayoutView",
       "align_content": null,
       "align_items": null,
       "align_self": null,
       "border": null,
       "bottom": null,
       "display": null,
       "flex": null,
       "flex_flow": null,
       "grid_area": null,
       "grid_auto_columns": null,
       "grid_auto_flow": null,
       "grid_auto_rows": null,
       "grid_column": null,
       "grid_gap": null,
       "grid_row": null,
       "grid_template_areas": null,
       "grid_template_columns": null,
       "grid_template_rows": null,
       "height": null,
       "justify_content": null,
       "justify_items": null,
       "left": null,
       "margin": null,
       "max_height": null,
       "max_width": null,
       "min_height": null,
       "min_width": null,
       "object_fit": null,
       "object_position": null,
       "order": null,
       "overflow": null,
       "overflow_x": null,
       "overflow_y": null,
       "padding": null,
       "right": null,
       "top": null,
       "visibility": null,
       "width": null
      }
     },
     "48caa9b566ac4379bea1bb041e62793a": {
      "model_module": "@jupyter-widgets/controls",
      "model_module_version": "1.5.0",
      "model_name": "LabelModel",
      "state": {
       "_dom_classes": [],
       "_model_module": "@jupyter-widgets/controls",
       "_model_module_version": "1.5.0",
       "_model_name": "LabelModel",
       "_view_count": null,
       "_view_module": "@jupyter-widgets/controls",
       "_view_module_version": "1.5.0",
       "_view_name": "LabelView",
       "description": "",
       "description_tooltip": null,
       "layout": "IPY_MODEL_83f2775b870549fcb64b524705f2d4f9",
       "placeholder": "​",
       "style": "IPY_MODEL_9f2b5696e62f43e699e85bf333860e4d",
       "value": "544 / 544"
      }
     },
     "4bc9ed6adee747de8e7696d75538059a": {
      "model_module": "@jupyter-widgets/controls",
      "model_module_version": "1.5.0",
      "model_name": "DescriptionStyleModel",
      "state": {
       "_model_module": "@jupyter-widgets/controls",
       "_model_module_version": "1.5.0",
       "_model_name": "DescriptionStyleModel",
       "_view_count": null,
       "_view_module": "@jupyter-widgets/base",
       "_view_module_version": "1.2.0",
       "_view_name": "StyleView",
       "description_width": ""
      }
     },
     "4f9542ba4109481e9548a7c84a58e981": {
      "model_module": "@jupyter-widgets/base",
      "model_module_version": "1.2.0",
      "model_name": "LayoutModel",
      "state": {
       "_model_module": "@jupyter-widgets/base",
       "_model_module_version": "1.2.0",
       "_model_name": "LayoutModel",
       "_view_count": null,
       "_view_module": "@jupyter-widgets/base",
       "_view_module_version": "1.2.0",
       "_view_name": "LayoutView",
       "align_content": null,
       "align_items": null,
       "align_self": null,
       "border": null,
       "bottom": null,
       "display": null,
       "flex": null,
       "flex_flow": null,
       "grid_area": null,
       "grid_auto_columns": null,
       "grid_auto_flow": null,
       "grid_auto_rows": null,
       "grid_column": null,
       "grid_gap": null,
       "grid_row": null,
       "grid_template_areas": null,
       "grid_template_columns": null,
       "grid_template_rows": null,
       "height": null,
       "justify_content": null,
       "justify_items": null,
       "left": null,
       "margin": null,
       "max_height": null,
       "max_width": null,
       "min_height": null,
       "min_width": null,
       "object_fit": null,
       "object_position": null,
       "order": null,
       "overflow": null,
       "overflow_x": null,
       "overflow_y": null,
       "padding": null,
       "right": null,
       "top": null,
       "visibility": null,
       "width": null
      }
     },
     "5166b9d5d1c04dcabab176485024c48c": {
      "model_module": "@jupyter-widgets/controls",
      "model_module_version": "1.5.0",
      "model_name": "IntProgressModel",
      "state": {
       "_dom_classes": [],
       "_model_module": "@jupyter-widgets/controls",
       "_model_module_version": "1.5.0",
       "_model_name": "IntProgressModel",
       "_view_count": null,
       "_view_module": "@jupyter-widgets/controls",
       "_view_module_version": "1.5.0",
       "_view_name": "ProgressView",
       "bar_style": "success",
       "description": "100.00%",
       "description_tooltip": null,
       "layout": "IPY_MODEL_484216e0f7e94bfcb9caeab0a5e80929",
       "max": 2501,
       "min": 0,
       "orientation": "horizontal",
       "style": "IPY_MODEL_db5650c6b0d74903aa419b78ca8f7b36",
       "value": 2501
      }
     },
     "532896cd8f1e4d839788980f8fc3b34f": {
      "model_module": "@jupyter-widgets/controls",
      "model_module_version": "1.5.0",
      "model_name": "HBoxModel",
      "state": {
       "_dom_classes": [],
       "_model_module": "@jupyter-widgets/controls",
       "_model_module_version": "1.5.0",
       "_model_name": "HBoxModel",
       "_view_count": null,
       "_view_module": "@jupyter-widgets/controls",
       "_view_module_version": "1.5.0",
       "_view_name": "HBoxView",
       "box_style": "",
       "children": [
        "IPY_MODEL_c53ba606e1c24d6eb12d2f99342f4543",
        "IPY_MODEL_6501f58cd78c43f78ee43d112e1af10b"
       ],
       "layout": "IPY_MODEL_a9129e414173403f96822894e000af5c"
      }
     },
     "54794389dbce4d0cb984510b66a72199": {
      "model_module": "@jupyter-widgets/base",
      "model_module_version": "1.2.0",
      "model_name": "LayoutModel",
      "state": {
       "_model_module": "@jupyter-widgets/base",
       "_model_module_version": "1.2.0",
       "_model_name": "LayoutModel",
       "_view_count": null,
       "_view_module": "@jupyter-widgets/base",
       "_view_module_version": "1.2.0",
       "_view_name": "LayoutView",
       "align_content": null,
       "align_items": null,
       "align_self": null,
       "border": null,
       "bottom": null,
       "display": null,
       "flex": null,
       "flex_flow": null,
       "grid_area": null,
       "grid_auto_columns": null,
       "grid_auto_flow": null,
       "grid_auto_rows": null,
       "grid_column": null,
       "grid_gap": null,
       "grid_row": null,
       "grid_template_areas": null,
       "grid_template_columns": null,
       "grid_template_rows": null,
       "height": null,
       "justify_content": null,
       "justify_items": null,
       "left": null,
       "margin": null,
       "max_height": null,
       "max_width": null,
       "min_height": null,
       "min_width": null,
       "object_fit": null,
       "object_position": null,
       "order": null,
       "overflow": null,
       "overflow_x": null,
       "overflow_y": null,
       "padding": null,
       "right": null,
       "top": null,
       "visibility": null,
       "width": null
      }
     },
     "588ffe5f2e514d54a98b2e80512ae1e7": {
      "model_module": "@jupyter-widgets/controls",
      "model_module_version": "1.5.0",
      "model_name": "VBoxModel",
      "state": {
       "_dom_classes": [],
       "_model_module": "@jupyter-widgets/controls",
       "_model_module_version": "1.5.0",
       "_model_name": "VBoxModel",
       "_view_count": null,
       "_view_module": "@jupyter-widgets/controls",
       "_view_module_version": "1.5.0",
       "_view_name": "VBoxView",
       "box_style": "",
       "children": [
        "IPY_MODEL_ed3bc1789f1f41c489394867d3118844",
        "IPY_MODEL_9568ae5845ed4ec08d9d29a2877ace79",
        "IPY_MODEL_0b1a70a433044f5ebffc3109b04e52e4",
        "IPY_MODEL_9a854fe95e0f42b88eff6dd6401147e4",
        "IPY_MODEL_157e8d20bc4f4f11a9d2c335ae05096f",
        "IPY_MODEL_ea56f4c66bd047c4bb008451427e7360"
       ],
       "layout": "IPY_MODEL_44ec7288656f48c5827e25f709771336"
      }
     },
     "5b39e3598a68440c8dc3edf2a9ced232": {
      "model_module": "@jupyter-widgets/controls",
      "model_module_version": "1.5.0",
      "model_name": "IntProgressModel",
      "state": {
       "_dom_classes": [],
       "_model_module": "@jupyter-widgets/controls",
       "_model_module_version": "1.5.0",
       "_model_name": "IntProgressModel",
       "_view_count": null,
       "_view_module": "@jupyter-widgets/controls",
       "_view_module_version": "1.5.0",
       "_view_name": "ProgressView",
       "bar_style": "success",
       "description": "100.00%",
       "description_tooltip": null,
       "layout": "IPY_MODEL_4f9542ba4109481e9548a7c84a58e981",
       "max": 543,
       "min": 0,
       "orientation": "horizontal",
       "style": "IPY_MODEL_b185eab9c7e4427c9c636d6c53f6a181",
       "value": 543
      }
     },
     "5b6f28aa11c34fa786c31e3148624994": {
      "model_module": "@jupyter-widgets/controls",
      "model_module_version": "1.5.0",
      "model_name": "LabelModel",
      "state": {
       "_dom_classes": [],
       "_model_module": "@jupyter-widgets/controls",
       "_model_module_version": "1.5.0",
       "_model_name": "LabelModel",
       "_view_count": null,
       "_view_module": "@jupyter-widgets/controls",
       "_view_module_version": "1.5.0",
       "_view_name": "LabelView",
       "description": "",
       "description_tooltip": null,
       "layout": "IPY_MODEL_feea18a692e64a9bbadb31f0bcfc7bb9",
       "placeholder": "​",
       "style": "IPY_MODEL_5f69fb61f660441283f3a9b5a8fdfb01",
       "value": "2501 / 2501"
      }
     },
     "5f69fb61f660441283f3a9b5a8fdfb01": {
      "model_module": "@jupyter-widgets/controls",
      "model_module_version": "1.5.0",
      "model_name": "DescriptionStyleModel",
      "state": {
       "_model_module": "@jupyter-widgets/controls",
       "_model_module_version": "1.5.0",
       "_model_name": "DescriptionStyleModel",
       "_view_count": null,
       "_view_module": "@jupyter-widgets/base",
       "_view_module_version": "1.2.0",
       "_view_name": "StyleView",
       "description_width": ""
      }
     },
     "5f9c151ec3a1498a83dfff421fb21688": {
      "model_module": "@jupyter-widgets/controls",
      "model_module_version": "1.5.0",
      "model_name": "IntProgressModel",
      "state": {
       "_dom_classes": [],
       "_model_module": "@jupyter-widgets/controls",
       "_model_module_version": "1.5.0",
       "_model_name": "IntProgressModel",
       "_view_count": null,
       "_view_module": "@jupyter-widgets/controls",
       "_view_module_version": "1.5.0",
       "_view_name": "ProgressView",
       "bar_style": "success",
       "description": "100.00%",
       "description_tooltip": null,
       "layout": "IPY_MODEL_ae8f599a2e514b61b66117d6bad0f5d7",
       "max": 2501,
       "min": 0,
       "orientation": "horizontal",
       "style": "IPY_MODEL_f239ae0db68343178ae6eab3d141bc41",
       "value": 2501
      }
     },
     "60753eb0a9934fc3be8e671f03888f9d": {
      "model_module": "@jupyter-widgets/controls",
      "model_module_version": "1.5.0",
      "model_name": "HBoxModel",
      "state": {
       "_dom_classes": [],
       "_model_module": "@jupyter-widgets/controls",
       "_model_module_version": "1.5.0",
       "_model_name": "HBoxModel",
       "_view_count": null,
       "_view_module": "@jupyter-widgets/controls",
       "_view_module_version": "1.5.0",
       "_view_name": "HBoxView",
       "box_style": "",
       "children": [
        "IPY_MODEL_7bd00d4ec8b541a08806accd0d327497",
        "IPY_MODEL_ed783c6f74a147c6b9ec67e17e2be359"
       ],
       "layout": "IPY_MODEL_82397e2f2bb24e4f9a80a0e889ffb7ad"
      }
     },
     "60b66af09477467692a485d80bac45da": {
      "model_module": "@jupyter-widgets/base",
      "model_module_version": "1.2.0",
      "model_name": "LayoutModel",
      "state": {
       "_model_module": "@jupyter-widgets/base",
       "_model_module_version": "1.2.0",
       "_model_name": "LayoutModel",
       "_view_count": null,
       "_view_module": "@jupyter-widgets/base",
       "_view_module_version": "1.2.0",
       "_view_name": "LayoutView",
       "align_content": null,
       "align_items": null,
       "align_self": null,
       "border": null,
       "bottom": null,
       "display": null,
       "flex": null,
       "flex_flow": null,
       "grid_area": null,
       "grid_auto_columns": null,
       "grid_auto_flow": null,
       "grid_auto_rows": null,
       "grid_column": null,
       "grid_gap": null,
       "grid_row": null,
       "grid_template_areas": null,
       "grid_template_columns": null,
       "grid_template_rows": null,
       "height": null,
       "justify_content": null,
       "justify_items": null,
       "left": null,
       "margin": null,
       "max_height": null,
       "max_width": null,
       "min_height": null,
       "min_width": null,
       "object_fit": null,
       "object_position": null,
       "order": null,
       "overflow": null,
       "overflow_x": null,
       "overflow_y": null,
       "padding": null,
       "right": null,
       "top": null,
       "visibility": null,
       "width": null
      }
     },
     "60be08efbcb74c35a1e04e1905a531fc": {
      "model_module": "@jupyter-widgets/controls",
      "model_module_version": "1.5.0",
      "model_name": "ProgressStyleModel",
      "state": {
       "_model_module": "@jupyter-widgets/controls",
       "_model_module_version": "1.5.0",
       "_model_name": "ProgressStyleModel",
       "_view_count": null,
       "_view_module": "@jupyter-widgets/base",
       "_view_module_version": "1.2.0",
       "_view_name": "StyleView",
       "bar_color": null,
       "description_width": ""
      }
     },
     "61ce7a1fa8564b19a90a90daa1c8ffa6": {
      "model_module": "@jupyter-widgets/base",
      "model_module_version": "1.2.0",
      "model_name": "LayoutModel",
      "state": {
       "_model_module": "@jupyter-widgets/base",
       "_model_module_version": "1.2.0",
       "_model_name": "LayoutModel",
       "_view_count": null,
       "_view_module": "@jupyter-widgets/base",
       "_view_module_version": "1.2.0",
       "_view_name": "LayoutView",
       "align_content": null,
       "align_items": null,
       "align_self": null,
       "border": null,
       "bottom": null,
       "display": null,
       "flex": null,
       "flex_flow": null,
       "grid_area": null,
       "grid_auto_columns": null,
       "grid_auto_flow": null,
       "grid_auto_rows": null,
       "grid_column": null,
       "grid_gap": null,
       "grid_row": null,
       "grid_template_areas": null,
       "grid_template_columns": null,
       "grid_template_rows": null,
       "height": null,
       "justify_content": null,
       "justify_items": null,
       "left": null,
       "margin": null,
       "max_height": null,
       "max_width": null,
       "min_height": null,
       "min_width": null,
       "object_fit": null,
       "object_position": null,
       "order": null,
       "overflow": null,
       "overflow_x": null,
       "overflow_y": null,
       "padding": null,
       "right": null,
       "top": null,
       "visibility": null,
       "width": null
      }
     },
     "62084b2d562f4ec5b31bebddd7ce888b": {
      "model_module": "@jupyter-widgets/controls",
      "model_module_version": "1.5.0",
      "model_name": "IntProgressModel",
      "state": {
       "_dom_classes": [],
       "_model_module": "@jupyter-widgets/controls",
       "_model_module_version": "1.5.0",
       "_model_name": "IntProgressModel",
       "_view_count": null,
       "_view_module": "@jupyter-widgets/controls",
       "_view_module_version": "1.5.0",
       "_view_name": "ProgressView",
       "bar_style": "success",
       "description": "100.00%",
       "description_tooltip": null,
       "layout": "IPY_MODEL_1936751f66e941ef8e3d4373d643e7a6",
       "max": 1250,
       "min": 0,
       "orientation": "horizontal",
       "style": "IPY_MODEL_de71c7bb544443d89815271aba675acd",
       "value": 1250
      }
     },
     "6501f58cd78c43f78ee43d112e1af10b": {
      "model_module": "@jupyter-widgets/controls",
      "model_module_version": "1.5.0",
      "model_name": "LabelModel",
      "state": {
       "_dom_classes": [],
       "_model_module": "@jupyter-widgets/controls",
       "_model_module_version": "1.5.0",
       "_model_name": "LabelModel",
       "_view_count": null,
       "_view_module": "@jupyter-widgets/controls",
       "_view_module_version": "1.5.0",
       "_view_name": "LabelView",
       "description": "",
       "description_tooltip": null,
       "layout": "IPY_MODEL_81fa48d3b67149ce838051a761072236",
       "placeholder": "​",
       "style": "IPY_MODEL_736837765c754893bd7458a32b18d6d9",
       "value": "2501 / 2501"
      }
     },
     "6686a188c9ec4d4e971862e5d0de70b4": {
      "model_module": "@jupyter-widgets/base",
      "model_module_version": "1.2.0",
      "model_name": "LayoutModel",
      "state": {
       "_model_module": "@jupyter-widgets/base",
       "_model_module_version": "1.2.0",
       "_model_name": "LayoutModel",
       "_view_count": null,
       "_view_module": "@jupyter-widgets/base",
       "_view_module_version": "1.2.0",
       "_view_name": "LayoutView",
       "align_content": null,
       "align_items": null,
       "align_self": null,
       "border": null,
       "bottom": null,
       "display": null,
       "flex": null,
       "flex_flow": null,
       "grid_area": null,
       "grid_auto_columns": null,
       "grid_auto_flow": null,
       "grid_auto_rows": null,
       "grid_column": null,
       "grid_gap": null,
       "grid_row": null,
       "grid_template_areas": null,
       "grid_template_columns": null,
       "grid_template_rows": null,
       "height": null,
       "justify_content": null,
       "justify_items": null,
       "left": null,
       "margin": null,
       "max_height": null,
       "max_width": null,
       "min_height": null,
       "min_width": null,
       "object_fit": null,
       "object_position": null,
       "order": null,
       "overflow": null,
       "overflow_x": null,
       "overflow_y": null,
       "padding": null,
       "right": null,
       "top": null,
       "visibility": null,
       "width": null
      }
     },
     "669dc8d04b76468ebe46741c0a99bff4": {
      "model_module": "@jupyter-widgets/controls",
      "model_module_version": "1.5.0",
      "model_name": "ProgressStyleModel",
      "state": {
       "_model_module": "@jupyter-widgets/controls",
       "_model_module_version": "1.5.0",
       "_model_name": "ProgressStyleModel",
       "_view_count": null,
       "_view_module": "@jupyter-widgets/base",
       "_view_module_version": "1.2.0",
       "_view_name": "StyleView",
       "bar_color": null,
       "description_width": ""
      }
     },
     "6eab411c720f4623bc656524b2a8995e": {
      "model_module": "@jupyter-widgets/base",
      "model_module_version": "1.2.0",
      "model_name": "LayoutModel",
      "state": {
       "_model_module": "@jupyter-widgets/base",
       "_model_module_version": "1.2.0",
       "_model_name": "LayoutModel",
       "_view_count": null,
       "_view_module": "@jupyter-widgets/base",
       "_view_module_version": "1.2.0",
       "_view_name": "LayoutView",
       "align_content": null,
       "align_items": null,
       "align_self": null,
       "border": null,
       "bottom": null,
       "display": null,
       "flex": null,
       "flex_flow": null,
       "grid_area": null,
       "grid_auto_columns": null,
       "grid_auto_flow": null,
       "grid_auto_rows": null,
       "grid_column": null,
       "grid_gap": null,
       "grid_row": null,
       "grid_template_areas": null,
       "grid_template_columns": null,
       "grid_template_rows": null,
       "height": null,
       "justify_content": null,
       "justify_items": null,
       "left": null,
       "margin": null,
       "max_height": null,
       "max_width": null,
       "min_height": null,
       "min_width": null,
       "object_fit": null,
       "object_position": null,
       "order": null,
       "overflow": null,
       "overflow_x": null,
       "overflow_y": null,
       "padding": null,
       "right": null,
       "top": null,
       "visibility": null,
       "width": null
      }
     },
     "701bbeaa38a749129e80c99ce0ae7fdc": {
      "model_module": "@jupyter-widgets/base",
      "model_module_version": "1.2.0",
      "model_name": "LayoutModel",
      "state": {
       "_model_module": "@jupyter-widgets/base",
       "_model_module_version": "1.2.0",
       "_model_name": "LayoutModel",
       "_view_count": null,
       "_view_module": "@jupyter-widgets/base",
       "_view_module_version": "1.2.0",
       "_view_name": "LayoutView",
       "align_content": null,
       "align_items": null,
       "align_self": null,
       "border": null,
       "bottom": null,
       "display": null,
       "flex": null,
       "flex_flow": null,
       "grid_area": null,
       "grid_auto_columns": null,
       "grid_auto_flow": null,
       "grid_auto_rows": null,
       "grid_column": null,
       "grid_gap": null,
       "grid_row": null,
       "grid_template_areas": null,
       "grid_template_columns": null,
       "grid_template_rows": null,
       "height": null,
       "justify_content": null,
       "justify_items": null,
       "left": null,
       "margin": null,
       "max_height": null,
       "max_width": null,
       "min_height": null,
       "min_width": null,
       "object_fit": null,
       "object_position": null,
       "order": null,
       "overflow": null,
       "overflow_x": null,
       "overflow_y": null,
       "padding": null,
       "right": null,
       "top": null,
       "visibility": null,
       "width": null
      }
     },
     "70491b0a82564b75ab8583efbd46a173": {
      "model_module": "@jupyter-widgets/base",
      "model_module_version": "1.2.0",
      "model_name": "LayoutModel",
      "state": {
       "_model_module": "@jupyter-widgets/base",
       "_model_module_version": "1.2.0",
       "_model_name": "LayoutModel",
       "_view_count": null,
       "_view_module": "@jupyter-widgets/base",
       "_view_module_version": "1.2.0",
       "_view_name": "LayoutView",
       "align_content": null,
       "align_items": null,
       "align_self": null,
       "border": null,
       "bottom": null,
       "display": null,
       "flex": null,
       "flex_flow": null,
       "grid_area": null,
       "grid_auto_columns": null,
       "grid_auto_flow": null,
       "grid_auto_rows": null,
       "grid_column": null,
       "grid_gap": null,
       "grid_row": null,
       "grid_template_areas": null,
       "grid_template_columns": null,
       "grid_template_rows": null,
       "height": null,
       "justify_content": null,
       "justify_items": null,
       "left": null,
       "margin": null,
       "max_height": null,
       "max_width": null,
       "min_height": null,
       "min_width": null,
       "object_fit": null,
       "object_position": null,
       "order": null,
       "overflow": null,
       "overflow_x": null,
       "overflow_y": null,
       "padding": null,
       "right": null,
       "top": null,
       "visibility": null,
       "width": null
      }
     },
     "70ac26a3ffec44e1bd4d71b6241f3d76": {
      "model_module": "@jupyter-widgets/base",
      "model_module_version": "1.2.0",
      "model_name": "LayoutModel",
      "state": {
       "_model_module": "@jupyter-widgets/base",
       "_model_module_version": "1.2.0",
       "_model_name": "LayoutModel",
       "_view_count": null,
       "_view_module": "@jupyter-widgets/base",
       "_view_module_version": "1.2.0",
       "_view_name": "LayoutView",
       "align_content": null,
       "align_items": null,
       "align_self": null,
       "border": null,
       "bottom": null,
       "display": null,
       "flex": null,
       "flex_flow": null,
       "grid_area": null,
       "grid_auto_columns": null,
       "grid_auto_flow": null,
       "grid_auto_rows": null,
       "grid_column": null,
       "grid_gap": null,
       "grid_row": null,
       "grid_template_areas": null,
       "grid_template_columns": null,
       "grid_template_rows": null,
       "height": null,
       "justify_content": null,
       "justify_items": null,
       "left": null,
       "margin": null,
       "max_height": null,
       "max_width": null,
       "min_height": null,
       "min_width": null,
       "object_fit": null,
       "object_position": null,
       "order": null,
       "overflow": null,
       "overflow_x": null,
       "overflow_y": null,
       "padding": null,
       "right": null,
       "top": null,
       "visibility": null,
       "width": null
      }
     },
     "714e7f3a95b64ca99571c635595bd6c9": {
      "model_module": "@jupyter-widgets/controls",
      "model_module_version": "1.5.0",
      "model_name": "LabelModel",
      "state": {
       "_dom_classes": [],
       "_model_module": "@jupyter-widgets/controls",
       "_model_module_version": "1.5.0",
       "_model_name": "LabelModel",
       "_view_count": null,
       "_view_module": "@jupyter-widgets/controls",
       "_view_module_version": "1.5.0",
       "_view_name": "LabelView",
       "description": "",
       "description_tooltip": null,
       "layout": "IPY_MODEL_61ce7a1fa8564b19a90a90daa1c8ffa6",
       "placeholder": "​",
       "style": "IPY_MODEL_292f10a38b014335a676bf95d85bda3b",
       "value": "1251 / 1251"
      }
     },
     "72317e15c4624af289b040e28181da84": {
      "model_module": "@jupyter-widgets/base",
      "model_module_version": "1.2.0",
      "model_name": "LayoutModel",
      "state": {
       "_model_module": "@jupyter-widgets/base",
       "_model_module_version": "1.2.0",
       "_model_name": "LayoutModel",
       "_view_count": null,
       "_view_module": "@jupyter-widgets/base",
       "_view_module_version": "1.2.0",
       "_view_name": "LayoutView",
       "align_content": null,
       "align_items": null,
       "align_self": null,
       "border": null,
       "bottom": null,
       "display": null,
       "flex": null,
       "flex_flow": null,
       "grid_area": null,
       "grid_auto_columns": null,
       "grid_auto_flow": null,
       "grid_auto_rows": null,
       "grid_column": null,
       "grid_gap": null,
       "grid_row": null,
       "grid_template_areas": null,
       "grid_template_columns": null,
       "grid_template_rows": null,
       "height": null,
       "justify_content": null,
       "justify_items": null,
       "left": null,
       "margin": null,
       "max_height": null,
       "max_width": null,
       "min_height": null,
       "min_width": null,
       "object_fit": null,
       "object_position": null,
       "order": null,
       "overflow": null,
       "overflow_x": null,
       "overflow_y": null,
       "padding": null,
       "right": null,
       "top": null,
       "visibility": null,
       "width": null
      }
     },
     "736837765c754893bd7458a32b18d6d9": {
      "model_module": "@jupyter-widgets/controls",
      "model_module_version": "1.5.0",
      "model_name": "DescriptionStyleModel",
      "state": {
       "_model_module": "@jupyter-widgets/controls",
       "_model_module_version": "1.5.0",
       "_model_name": "DescriptionStyleModel",
       "_view_count": null,
       "_view_module": "@jupyter-widgets/base",
       "_view_module_version": "1.2.0",
       "_view_name": "StyleView",
       "description_width": ""
      }
     },
     "74889f10ee86453791cf2ef2871c9716": {
      "model_module": "@jupyter-widgets/controls",
      "model_module_version": "1.5.0",
      "model_name": "LabelModel",
      "state": {
       "_dom_classes": [],
       "_model_module": "@jupyter-widgets/controls",
       "_model_module_version": "1.5.0",
       "_model_name": "LabelModel",
       "_view_count": null,
       "_view_module": "@jupyter-widgets/controls",
       "_view_module_version": "1.5.0",
       "_view_name": "LabelView",
       "description": "",
       "description_tooltip": null,
       "layout": "IPY_MODEL_e69af2da0d8c43f3916448c3c85050e7",
       "placeholder": "​",
       "style": "IPY_MODEL_bdcc8cbb21dc463e99ef4581887035c0",
       "value": "2501 / 2501"
      }
     },
     "77171c150ffb45aaafb778d81b3be135": {
      "model_module": "@jupyter-widgets/base",
      "model_module_version": "1.2.0",
      "model_name": "LayoutModel",
      "state": {
       "_model_module": "@jupyter-widgets/base",
       "_model_module_version": "1.2.0",
       "_model_name": "LayoutModel",
       "_view_count": null,
       "_view_module": "@jupyter-widgets/base",
       "_view_module_version": "1.2.0",
       "_view_name": "LayoutView",
       "align_content": null,
       "align_items": null,
       "align_self": null,
       "border": null,
       "bottom": null,
       "display": null,
       "flex": null,
       "flex_flow": null,
       "grid_area": null,
       "grid_auto_columns": null,
       "grid_auto_flow": null,
       "grid_auto_rows": null,
       "grid_column": null,
       "grid_gap": null,
       "grid_row": null,
       "grid_template_areas": null,
       "grid_template_columns": null,
       "grid_template_rows": null,
       "height": null,
       "justify_content": null,
       "justify_items": null,
       "left": null,
       "margin": null,
       "max_height": null,
       "max_width": null,
       "min_height": null,
       "min_width": null,
       "object_fit": null,
       "object_position": null,
       "order": null,
       "overflow": null,
       "overflow_x": null,
       "overflow_y": null,
       "padding": null,
       "right": null,
       "top": null,
       "visibility": null,
       "width": null
      }
     },
     "788c2de5132c4e1b9c0544afbedec69f": {
      "model_module": "@jupyter-widgets/controls",
      "model_module_version": "1.5.0",
      "model_name": "ProgressStyleModel",
      "state": {
       "_model_module": "@jupyter-widgets/controls",
       "_model_module_version": "1.5.0",
       "_model_name": "ProgressStyleModel",
       "_view_count": null,
       "_view_module": "@jupyter-widgets/base",
       "_view_module_version": "1.2.0",
       "_view_name": "StyleView",
       "bar_color": null,
       "description_width": ""
      }
     },
     "798cbd052eb8415796fc0c96ba461aca": {
      "model_module": "@jupyter-widgets/controls",
      "model_module_version": "1.5.0",
      "model_name": "IntProgressModel",
      "state": {
       "_dom_classes": [],
       "_model_module": "@jupyter-widgets/controls",
       "_model_module_version": "1.5.0",
       "_model_name": "IntProgressModel",
       "_view_count": null,
       "_view_module": "@jupyter-widgets/controls",
       "_view_module_version": "1.5.0",
       "_view_name": "ProgressView",
       "bar_style": "success",
       "description": "100.00%",
       "description_tooltip": null,
       "layout": "IPY_MODEL_0c6330ba91554a89b5d654e903d37a4a",
       "max": 2501,
       "min": 0,
       "orientation": "horizontal",
       "style": "IPY_MODEL_788c2de5132c4e1b9c0544afbedec69f",
       "value": 2501
      }
     },
     "7bd00d4ec8b541a08806accd0d327497": {
      "model_module": "@jupyter-widgets/controls",
      "model_module_version": "1.5.0",
      "model_name": "IntProgressModel",
      "state": {
       "_dom_classes": [],
       "_model_module": "@jupyter-widgets/controls",
       "_model_module_version": "1.5.0",
       "_model_name": "IntProgressModel",
       "_view_count": null,
       "_view_module": "@jupyter-widgets/controls",
       "_view_module_version": "1.5.0",
       "_view_name": "ProgressView",
       "bar_style": "success",
       "description": "100.00%",
       "description_tooltip": null,
       "layout": "IPY_MODEL_ad48d068471348eabdd76c796cddad97",
       "max": 544,
       "min": 0,
       "orientation": "horizontal",
       "style": "IPY_MODEL_21eb41189dcc46a0bf779f283c28ae6c",
       "value": 544
      }
     },
     "7d03eeecd4db4db889f48fe0da151781": {
      "model_module": "@jupyter-widgets/controls",
      "model_module_version": "1.5.0",
      "model_name": "HBoxModel",
      "state": {
       "_dom_classes": [],
       "_model_module": "@jupyter-widgets/controls",
       "_model_module_version": "1.5.0",
       "_model_name": "HBoxModel",
       "_view_count": null,
       "_view_module": "@jupyter-widgets/controls",
       "_view_module_version": "1.5.0",
       "_view_name": "HBoxView",
       "box_style": "",
       "children": [
        "IPY_MODEL_7e212ee615554bf2b67244ba1c0e2232",
        "IPY_MODEL_2e53d304738a44fcadac7d7a86d9d9a0"
       ],
       "layout": "IPY_MODEL_e171325cd1b64c58bd9424d93eb30293"
      }
     },
     "7d3702fbab4048da9dcb5cf7d1b9d671": {
      "model_module": "@jupyter-widgets/controls",
      "model_module_version": "1.5.0",
      "model_name": "DescriptionStyleModel",
      "state": {
       "_model_module": "@jupyter-widgets/controls",
       "_model_module_version": "1.5.0",
       "_model_name": "DescriptionStyleModel",
       "_view_count": null,
       "_view_module": "@jupyter-widgets/base",
       "_view_module_version": "1.2.0",
       "_view_name": "StyleView",
       "description_width": ""
      }
     },
     "7e212ee615554bf2b67244ba1c0e2232": {
      "model_module": "@jupyter-widgets/controls",
      "model_module_version": "1.5.0",
      "model_name": "IntProgressModel",
      "state": {
       "_dom_classes": [],
       "_model_module": "@jupyter-widgets/controls",
       "_model_module_version": "1.5.0",
       "_model_name": "IntProgressModel",
       "_view_count": null,
       "_view_module": "@jupyter-widgets/controls",
       "_view_module_version": "1.5.0",
       "_view_name": "ProgressView",
       "bar_style": "success",
       "description": "100.00%",
       "description_tooltip": null,
       "layout": "IPY_MODEL_bfd0358b05de437da92849df9e87589b",
       "max": 544,
       "min": 0,
       "orientation": "horizontal",
       "style": "IPY_MODEL_60be08efbcb74c35a1e04e1905a531fc",
       "value": 544
      }
     },
     "80e21a69fba144f58c1c6d58afcef692": {
      "model_module": "@jupyter-widgets/base",
      "model_module_version": "1.2.0",
      "model_name": "LayoutModel",
      "state": {
       "_model_module": "@jupyter-widgets/base",
       "_model_module_version": "1.2.0",
       "_model_name": "LayoutModel",
       "_view_count": null,
       "_view_module": "@jupyter-widgets/base",
       "_view_module_version": "1.2.0",
       "_view_name": "LayoutView",
       "align_content": null,
       "align_items": null,
       "align_self": null,
       "border": null,
       "bottom": null,
       "display": null,
       "flex": null,
       "flex_flow": null,
       "grid_area": null,
       "grid_auto_columns": null,
       "grid_auto_flow": null,
       "grid_auto_rows": null,
       "grid_column": null,
       "grid_gap": null,
       "grid_row": null,
       "grid_template_areas": null,
       "grid_template_columns": null,
       "grid_template_rows": null,
       "height": null,
       "justify_content": null,
       "justify_items": null,
       "left": null,
       "margin": null,
       "max_height": null,
       "max_width": null,
       "min_height": null,
       "min_width": null,
       "object_fit": null,
       "object_position": null,
       "order": null,
       "overflow": null,
       "overflow_x": null,
       "overflow_y": null,
       "padding": null,
       "right": null,
       "top": null,
       "visibility": null,
       "width": null
      }
     },
     "81fa48d3b67149ce838051a761072236": {
      "model_module": "@jupyter-widgets/base",
      "model_module_version": "1.2.0",
      "model_name": "LayoutModel",
      "state": {
       "_model_module": "@jupyter-widgets/base",
       "_model_module_version": "1.2.0",
       "_model_name": "LayoutModel",
       "_view_count": null,
       "_view_module": "@jupyter-widgets/base",
       "_view_module_version": "1.2.0",
       "_view_name": "LayoutView",
       "align_content": null,
       "align_items": null,
       "align_self": null,
       "border": null,
       "bottom": null,
       "display": null,
       "flex": null,
       "flex_flow": null,
       "grid_area": null,
       "grid_auto_columns": null,
       "grid_auto_flow": null,
       "grid_auto_rows": null,
       "grid_column": null,
       "grid_gap": null,
       "grid_row": null,
       "grid_template_areas": null,
       "grid_template_columns": null,
       "grid_template_rows": null,
       "height": null,
       "justify_content": null,
       "justify_items": null,
       "left": null,
       "margin": null,
       "max_height": null,
       "max_width": null,
       "min_height": null,
       "min_width": null,
       "object_fit": null,
       "object_position": null,
       "order": null,
       "overflow": null,
       "overflow_x": null,
       "overflow_y": null,
       "padding": null,
       "right": null,
       "top": null,
       "visibility": null,
       "width": null
      }
     },
     "82397e2f2bb24e4f9a80a0e889ffb7ad": {
      "model_module": "@jupyter-widgets/base",
      "model_module_version": "1.2.0",
      "model_name": "LayoutModel",
      "state": {
       "_model_module": "@jupyter-widgets/base",
       "_model_module_version": "1.2.0",
       "_model_name": "LayoutModel",
       "_view_count": null,
       "_view_module": "@jupyter-widgets/base",
       "_view_module_version": "1.2.0",
       "_view_name": "LayoutView",
       "align_content": null,
       "align_items": null,
       "align_self": null,
       "border": null,
       "bottom": null,
       "display": null,
       "flex": null,
       "flex_flow": null,
       "grid_area": null,
       "grid_auto_columns": null,
       "grid_auto_flow": null,
       "grid_auto_rows": null,
       "grid_column": null,
       "grid_gap": null,
       "grid_row": null,
       "grid_template_areas": null,
       "grid_template_columns": null,
       "grid_template_rows": null,
       "height": null,
       "justify_content": null,
       "justify_items": null,
       "left": null,
       "margin": null,
       "max_height": null,
       "max_width": null,
       "min_height": null,
       "min_width": null,
       "object_fit": null,
       "object_position": null,
       "order": null,
       "overflow": null,
       "overflow_x": null,
       "overflow_y": null,
       "padding": null,
       "right": null,
       "top": null,
       "visibility": null,
       "width": null
      }
     },
     "83f2775b870549fcb64b524705f2d4f9": {
      "model_module": "@jupyter-widgets/base",
      "model_module_version": "1.2.0",
      "model_name": "LayoutModel",
      "state": {
       "_model_module": "@jupyter-widgets/base",
       "_model_module_version": "1.2.0",
       "_model_name": "LayoutModel",
       "_view_count": null,
       "_view_module": "@jupyter-widgets/base",
       "_view_module_version": "1.2.0",
       "_view_name": "LayoutView",
       "align_content": null,
       "align_items": null,
       "align_self": null,
       "border": null,
       "bottom": null,
       "display": null,
       "flex": null,
       "flex_flow": null,
       "grid_area": null,
       "grid_auto_columns": null,
       "grid_auto_flow": null,
       "grid_auto_rows": null,
       "grid_column": null,
       "grid_gap": null,
       "grid_row": null,
       "grid_template_areas": null,
       "grid_template_columns": null,
       "grid_template_rows": null,
       "height": null,
       "justify_content": null,
       "justify_items": null,
       "left": null,
       "margin": null,
       "max_height": null,
       "max_width": null,
       "min_height": null,
       "min_width": null,
       "object_fit": null,
       "object_position": null,
       "order": null,
       "overflow": null,
       "overflow_x": null,
       "overflow_y": null,
       "padding": null,
       "right": null,
       "top": null,
       "visibility": null,
       "width": null
      }
     },
     "866af299fb5b4470a8ce3a7cfe0c9292": {
      "model_module": "@jupyter-widgets/controls",
      "model_module_version": "1.5.0",
      "model_name": "DescriptionStyleModel",
      "state": {
       "_model_module": "@jupyter-widgets/controls",
       "_model_module_version": "1.5.0",
       "_model_name": "DescriptionStyleModel",
       "_view_count": null,
       "_view_module": "@jupyter-widgets/base",
       "_view_module_version": "1.2.0",
       "_view_name": "StyleView",
       "description_width": ""
      }
     },
     "8a426764df06427fa76d65a742b6e4c9": {
      "model_module": "@jupyter-widgets/base",
      "model_module_version": "1.2.0",
      "model_name": "LayoutModel",
      "state": {
       "_model_module": "@jupyter-widgets/base",
       "_model_module_version": "1.2.0",
       "_model_name": "LayoutModel",
       "_view_count": null,
       "_view_module": "@jupyter-widgets/base",
       "_view_module_version": "1.2.0",
       "_view_name": "LayoutView",
       "align_content": null,
       "align_items": null,
       "align_self": null,
       "border": null,
       "bottom": null,
       "display": null,
       "flex": null,
       "flex_flow": null,
       "grid_area": null,
       "grid_auto_columns": null,
       "grid_auto_flow": null,
       "grid_auto_rows": null,
       "grid_column": null,
       "grid_gap": null,
       "grid_row": null,
       "grid_template_areas": null,
       "grid_template_columns": null,
       "grid_template_rows": null,
       "height": null,
       "justify_content": null,
       "justify_items": null,
       "left": null,
       "margin": null,
       "max_height": null,
       "max_width": null,
       "min_height": null,
       "min_width": null,
       "object_fit": null,
       "object_position": null,
       "order": null,
       "overflow": null,
       "overflow_x": null,
       "overflow_y": null,
       "padding": null,
       "right": null,
       "top": null,
       "visibility": null,
       "width": null
      }
     },
     "8ed5e0138ad446a297335446ec92099b": {
      "model_module": "@jupyter-widgets/controls",
      "model_module_version": "1.5.0",
      "model_name": "LabelModel",
      "state": {
       "_dom_classes": [],
       "_model_module": "@jupyter-widgets/controls",
       "_model_module_version": "1.5.0",
       "_model_name": "LabelModel",
       "_view_count": null,
       "_view_module": "@jupyter-widgets/controls",
       "_view_module_version": "1.5.0",
       "_view_name": "LabelView",
       "description": "",
       "description_tooltip": null,
       "layout": "IPY_MODEL_a7977e2d90e346a2a79e03997fa87804",
       "placeholder": "​",
       "style": "IPY_MODEL_22e9cf98846e4c58a3bb881b7ea349b8",
       "value": "544 / 544"
      }
     },
     "8fa7fc3d26fa47db8a4916ff2e71e159": {
      "model_module": "@jupyter-widgets/controls",
      "model_module_version": "1.5.0",
      "model_name": "VBoxModel",
      "state": {
       "_dom_classes": [],
       "_model_module": "@jupyter-widgets/controls",
       "_model_module_version": "1.5.0",
       "_model_name": "VBoxModel",
       "_view_count": null,
       "_view_module": "@jupyter-widgets/controls",
       "_view_module_version": "1.5.0",
       "_view_name": "VBoxView",
       "box_style": "",
       "children": [
        "IPY_MODEL_43c2e5471b9546ada64636bb4222ac5f",
        "IPY_MODEL_1e5460f197a84bceb60a3122308a7af9",
        "IPY_MODEL_19b6c9ea64bc4be0bc57987fdd4024f4",
        "IPY_MODEL_60753eb0a9934fc3be8e671f03888f9d",
        "IPY_MODEL_7d03eeecd4db4db889f48fe0da151781",
        "IPY_MODEL_e8a8ceab77fc4bf9a59a8aaee1b117cd"
       ],
       "layout": "IPY_MODEL_f3e5daba105242b59204886b04174037"
      }
     },
     "8fd8da9a26ac4ae397b6e7476ab7061b": {
      "model_module": "@jupyter-widgets/controls",
      "model_module_version": "1.5.0",
      "model_name": "HBoxModel",
      "state": {
       "_dom_classes": [],
       "_model_module": "@jupyter-widgets/controls",
       "_model_module_version": "1.5.0",
       "_model_name": "HBoxModel",
       "_view_count": null,
       "_view_module": "@jupyter-widgets/controls",
       "_view_module_version": "1.5.0",
       "_view_name": "HBoxView",
       "box_style": "",
       "children": [
        "IPY_MODEL_5166b9d5d1c04dcabab176485024c48c",
        "IPY_MODEL_bfb5db1fc3e74fceb2483c071185a3bc"
       ],
       "layout": "IPY_MODEL_91582d86ad164b42a3b57e557d925416"
      }
     },
     "90c30be5a9f54cfcb88c972688b9173f": {
      "model_module": "@jupyter-widgets/controls",
      "model_module_version": "1.5.0",
      "model_name": "LabelModel",
      "state": {
       "_dom_classes": [],
       "_model_module": "@jupyter-widgets/controls",
       "_model_module_version": "1.5.0",
       "_model_name": "LabelModel",
       "_view_count": null,
       "_view_module": "@jupyter-widgets/controls",
       "_view_module_version": "1.5.0",
       "_view_name": "LabelView",
       "description": "",
       "description_tooltip": null,
       "layout": "IPY_MODEL_72317e15c4624af289b040e28181da84",
       "placeholder": "​",
       "style": "IPY_MODEL_4bc9ed6adee747de8e7696d75538059a",
       "value": "1250 / 1250"
      }
     },
     "91582d86ad164b42a3b57e557d925416": {
      "model_module": "@jupyter-widgets/base",
      "model_module_version": "1.2.0",
      "model_name": "LayoutModel",
      "state": {
       "_model_module": "@jupyter-widgets/base",
       "_model_module_version": "1.2.0",
       "_model_name": "LayoutModel",
       "_view_count": null,
       "_view_module": "@jupyter-widgets/base",
       "_view_module_version": "1.2.0",
       "_view_name": "LayoutView",
       "align_content": null,
       "align_items": null,
       "align_self": null,
       "border": null,
       "bottom": null,
       "display": null,
       "flex": null,
       "flex_flow": null,
       "grid_area": null,
       "grid_auto_columns": null,
       "grid_auto_flow": null,
       "grid_auto_rows": null,
       "grid_column": null,
       "grid_gap": null,
       "grid_row": null,
       "grid_template_areas": null,
       "grid_template_columns": null,
       "grid_template_rows": null,
       "height": null,
       "justify_content": null,
       "justify_items": null,
       "left": null,
       "margin": null,
       "max_height": null,
       "max_width": null,
       "min_height": null,
       "min_width": null,
       "object_fit": null,
       "object_position": null,
       "order": null,
       "overflow": null,
       "overflow_x": null,
       "overflow_y": null,
       "padding": null,
       "right": null,
       "top": null,
       "visibility": null,
       "width": null
      }
     },
     "927171a897be4fa3806876e1ca938105": {
      "model_module": "@jupyter-widgets/controls",
      "model_module_version": "1.5.0",
      "model_name": "HBoxModel",
      "state": {
       "_dom_classes": [],
       "_model_module": "@jupyter-widgets/controls",
       "_model_module_version": "1.5.0",
       "_model_name": "HBoxModel",
       "_view_count": null,
       "_view_module": "@jupyter-widgets/controls",
       "_view_module_version": "1.5.0",
       "_view_name": "HBoxView",
       "box_style": "",
       "children": [
        "IPY_MODEL_798cbd052eb8415796fc0c96ba461aca",
        "IPY_MODEL_3f0ecc18410f4081966da94a4e60b418"
       ],
       "layout": "IPY_MODEL_60b66af09477467692a485d80bac45da"
      }
     },
     "94d72795eb2c44368f02c4005d61f0c8": {
      "model_module": "@jupyter-widgets/controls",
      "model_module_version": "1.5.0",
      "model_name": "ProgressStyleModel",
      "state": {
       "_model_module": "@jupyter-widgets/controls",
       "_model_module_version": "1.5.0",
       "_model_name": "ProgressStyleModel",
       "_view_count": null,
       "_view_module": "@jupyter-widgets/base",
       "_view_module_version": "1.2.0",
       "_view_name": "StyleView",
       "bar_color": null,
       "description_width": ""
      }
     },
     "9568ae5845ed4ec08d9d29a2877ace79": {
      "model_module": "@jupyter-widgets/controls",
      "model_module_version": "1.5.0",
      "model_name": "HBoxModel",
      "state": {
       "_dom_classes": [],
       "_model_module": "@jupyter-widgets/controls",
       "_model_module_version": "1.5.0",
       "_model_name": "HBoxModel",
       "_view_count": null,
       "_view_module": "@jupyter-widgets/controls",
       "_view_module_version": "1.5.0",
       "_view_name": "HBoxView",
       "box_style": "",
       "children": [
        "IPY_MODEL_3b8e71d2df7c47bca0ff6c44247dd82e",
        "IPY_MODEL_714e7f3a95b64ca99571c635595bd6c9"
       ],
       "layout": "IPY_MODEL_a3dce15284e346ba9f5a320d333606b7"
      }
     },
     "97a59cb5f72f4b39bc46a90da17dc176": {
      "model_module": "@jupyter-widgets/controls",
      "model_module_version": "1.5.0",
      "model_name": "ProgressStyleModel",
      "state": {
       "_model_module": "@jupyter-widgets/controls",
       "_model_module_version": "1.5.0",
       "_model_name": "ProgressStyleModel",
       "_view_count": null,
       "_view_module": "@jupyter-widgets/base",
       "_view_module_version": "1.2.0",
       "_view_name": "StyleView",
       "bar_color": null,
       "description_width": ""
      }
     },
     "9a854fe95e0f42b88eff6dd6401147e4": {
      "model_module": "@jupyter-widgets/controls",
      "model_module_version": "1.5.0",
      "model_name": "HBoxModel",
      "state": {
       "_dom_classes": [],
       "_model_module": "@jupyter-widgets/controls",
       "_model_module_version": "1.5.0",
       "_model_name": "HBoxModel",
       "_view_count": null,
       "_view_module": "@jupyter-widgets/controls",
       "_view_module_version": "1.5.0",
       "_view_name": "HBoxView",
       "box_style": "",
       "children": [
        "IPY_MODEL_00dac0386bfa423c94935198638c0c91",
        "IPY_MODEL_b5261560a20647f7b8199e43f9d893f8"
       ],
       "layout": "IPY_MODEL_148f2897ee0d488b8b55a3e1f715dee3"
      }
     },
     "9f2b5696e62f43e699e85bf333860e4d": {
      "model_module": "@jupyter-widgets/controls",
      "model_module_version": "1.5.0",
      "model_name": "DescriptionStyleModel",
      "state": {
       "_model_module": "@jupyter-widgets/controls",
       "_model_module_version": "1.5.0",
       "_model_name": "DescriptionStyleModel",
       "_view_count": null,
       "_view_module": "@jupyter-widgets/base",
       "_view_module_version": "1.2.0",
       "_view_name": "StyleView",
       "description_width": ""
      }
     },
     "a2598bb99f854697821e1f2353782bc2": {
      "model_module": "@jupyter-widgets/controls",
      "model_module_version": "1.5.0",
      "model_name": "IntProgressModel",
      "state": {
       "_dom_classes": [],
       "_model_module": "@jupyter-widgets/controls",
       "_model_module_version": "1.5.0",
       "_model_name": "IntProgressModel",
       "_view_count": null,
       "_view_module": "@jupyter-widgets/controls",
       "_view_module_version": "1.5.0",
       "_view_name": "ProgressView",
       "bar_style": "success",
       "description": "100.00%",
       "description_tooltip": null,
       "layout": "IPY_MODEL_54794389dbce4d0cb984510b66a72199",
       "max": 2501,
       "min": 0,
       "orientation": "horizontal",
       "style": "IPY_MODEL_94d72795eb2c44368f02c4005d61f0c8",
       "value": 2501
      }
     },
     "a26896058ee14dfd959c462ae02b7dba": {
      "model_module": "@jupyter-widgets/controls",
      "model_module_version": "1.5.0",
      "model_name": "DescriptionStyleModel",
      "state": {
       "_model_module": "@jupyter-widgets/controls",
       "_model_module_version": "1.5.0",
       "_model_name": "DescriptionStyleModel",
       "_view_count": null,
       "_view_module": "@jupyter-widgets/base",
       "_view_module_version": "1.2.0",
       "_view_name": "StyleView",
       "description_width": ""
      }
     },
     "a3dce15284e346ba9f5a320d333606b7": {
      "model_module": "@jupyter-widgets/base",
      "model_module_version": "1.2.0",
      "model_name": "LayoutModel",
      "state": {
       "_model_module": "@jupyter-widgets/base",
       "_model_module_version": "1.2.0",
       "_model_name": "LayoutModel",
       "_view_count": null,
       "_view_module": "@jupyter-widgets/base",
       "_view_module_version": "1.2.0",
       "_view_name": "LayoutView",
       "align_content": null,
       "align_items": null,
       "align_self": null,
       "border": null,
       "bottom": null,
       "display": null,
       "flex": null,
       "flex_flow": null,
       "grid_area": null,
       "grid_auto_columns": null,
       "grid_auto_flow": null,
       "grid_auto_rows": null,
       "grid_column": null,
       "grid_gap": null,
       "grid_row": null,
       "grid_template_areas": null,
       "grid_template_columns": null,
       "grid_template_rows": null,
       "height": null,
       "justify_content": null,
       "justify_items": null,
       "left": null,
       "margin": null,
       "max_height": null,
       "max_width": null,
       "min_height": null,
       "min_width": null,
       "object_fit": null,
       "object_position": null,
       "order": null,
       "overflow": null,
       "overflow_x": null,
       "overflow_y": null,
       "padding": null,
       "right": null,
       "top": null,
       "visibility": null,
       "width": null
      }
     },
     "a7977e2d90e346a2a79e03997fa87804": {
      "model_module": "@jupyter-widgets/base",
      "model_module_version": "1.2.0",
      "model_name": "LayoutModel",
      "state": {
       "_model_module": "@jupyter-widgets/base",
       "_model_module_version": "1.2.0",
       "_model_name": "LayoutModel",
       "_view_count": null,
       "_view_module": "@jupyter-widgets/base",
       "_view_module_version": "1.2.0",
       "_view_name": "LayoutView",
       "align_content": null,
       "align_items": null,
       "align_self": null,
       "border": null,
       "bottom": null,
       "display": null,
       "flex": null,
       "flex_flow": null,
       "grid_area": null,
       "grid_auto_columns": null,
       "grid_auto_flow": null,
       "grid_auto_rows": null,
       "grid_column": null,
       "grid_gap": null,
       "grid_row": null,
       "grid_template_areas": null,
       "grid_template_columns": null,
       "grid_template_rows": null,
       "height": null,
       "justify_content": null,
       "justify_items": null,
       "left": null,
       "margin": null,
       "max_height": null,
       "max_width": null,
       "min_height": null,
       "min_width": null,
       "object_fit": null,
       "object_position": null,
       "order": null,
       "overflow": null,
       "overflow_x": null,
       "overflow_y": null,
       "padding": null,
       "right": null,
       "top": null,
       "visibility": null,
       "width": null
      }
     },
     "a9129e414173403f96822894e000af5c": {
      "model_module": "@jupyter-widgets/base",
      "model_module_version": "1.2.0",
      "model_name": "LayoutModel",
      "state": {
       "_model_module": "@jupyter-widgets/base",
       "_model_module_version": "1.2.0",
       "_model_name": "LayoutModel",
       "_view_count": null,
       "_view_module": "@jupyter-widgets/base",
       "_view_module_version": "1.2.0",
       "_view_name": "LayoutView",
       "align_content": null,
       "align_items": null,
       "align_self": null,
       "border": null,
       "bottom": null,
       "display": null,
       "flex": null,
       "flex_flow": null,
       "grid_area": null,
       "grid_auto_columns": null,
       "grid_auto_flow": null,
       "grid_auto_rows": null,
       "grid_column": null,
       "grid_gap": null,
       "grid_row": null,
       "grid_template_areas": null,
       "grid_template_columns": null,
       "grid_template_rows": null,
       "height": null,
       "justify_content": null,
       "justify_items": null,
       "left": null,
       "margin": null,
       "max_height": null,
       "max_width": null,
       "min_height": null,
       "min_width": null,
       "object_fit": null,
       "object_position": null,
       "order": null,
       "overflow": null,
       "overflow_x": null,
       "overflow_y": null,
       "padding": null,
       "right": null,
       "top": null,
       "visibility": null,
       "width": null
      }
     },
     "a9b8d5c505be48328918291c51ac0b63": {
      "model_module": "@jupyter-widgets/base",
      "model_module_version": "1.2.0",
      "model_name": "LayoutModel",
      "state": {
       "_model_module": "@jupyter-widgets/base",
       "_model_module_version": "1.2.0",
       "_model_name": "LayoutModel",
       "_view_count": null,
       "_view_module": "@jupyter-widgets/base",
       "_view_module_version": "1.2.0",
       "_view_name": "LayoutView",
       "align_content": null,
       "align_items": null,
       "align_self": null,
       "border": null,
       "bottom": null,
       "display": null,
       "flex": null,
       "flex_flow": null,
       "grid_area": null,
       "grid_auto_columns": null,
       "grid_auto_flow": null,
       "grid_auto_rows": null,
       "grid_column": null,
       "grid_gap": null,
       "grid_row": null,
       "grid_template_areas": null,
       "grid_template_columns": null,
       "grid_template_rows": null,
       "height": null,
       "justify_content": null,
       "justify_items": null,
       "left": null,
       "margin": null,
       "max_height": null,
       "max_width": null,
       "min_height": null,
       "min_width": null,
       "object_fit": null,
       "object_position": null,
       "order": null,
       "overflow": null,
       "overflow_x": null,
       "overflow_y": null,
       "padding": null,
       "right": null,
       "top": null,
       "visibility": null,
       "width": null
      }
     },
     "ad48d068471348eabdd76c796cddad97": {
      "model_module": "@jupyter-widgets/base",
      "model_module_version": "1.2.0",
      "model_name": "LayoutModel",
      "state": {
       "_model_module": "@jupyter-widgets/base",
       "_model_module_version": "1.2.0",
       "_model_name": "LayoutModel",
       "_view_count": null,
       "_view_module": "@jupyter-widgets/base",
       "_view_module_version": "1.2.0",
       "_view_name": "LayoutView",
       "align_content": null,
       "align_items": null,
       "align_self": null,
       "border": null,
       "bottom": null,
       "display": null,
       "flex": null,
       "flex_flow": null,
       "grid_area": null,
       "grid_auto_columns": null,
       "grid_auto_flow": null,
       "grid_auto_rows": null,
       "grid_column": null,
       "grid_gap": null,
       "grid_row": null,
       "grid_template_areas": null,
       "grid_template_columns": null,
       "grid_template_rows": null,
       "height": null,
       "justify_content": null,
       "justify_items": null,
       "left": null,
       "margin": null,
       "max_height": null,
       "max_width": null,
       "min_height": null,
       "min_width": null,
       "object_fit": null,
       "object_position": null,
       "order": null,
       "overflow": null,
       "overflow_x": null,
       "overflow_y": null,
       "padding": null,
       "right": null,
       "top": null,
       "visibility": null,
       "width": null
      }
     },
     "ada1864271604be3b60ee172825e6abd": {
      "model_module": "@jupyter-widgets/base",
      "model_module_version": "1.2.0",
      "model_name": "LayoutModel",
      "state": {
       "_model_module": "@jupyter-widgets/base",
       "_model_module_version": "1.2.0",
       "_model_name": "LayoutModel",
       "_view_count": null,
       "_view_module": "@jupyter-widgets/base",
       "_view_module_version": "1.2.0",
       "_view_name": "LayoutView",
       "align_content": null,
       "align_items": null,
       "align_self": null,
       "border": null,
       "bottom": null,
       "display": null,
       "flex": null,
       "flex_flow": null,
       "grid_area": null,
       "grid_auto_columns": null,
       "grid_auto_flow": null,
       "grid_auto_rows": null,
       "grid_column": null,
       "grid_gap": null,
       "grid_row": null,
       "grid_template_areas": null,
       "grid_template_columns": null,
       "grid_template_rows": null,
       "height": null,
       "justify_content": null,
       "justify_items": null,
       "left": null,
       "margin": null,
       "max_height": null,
       "max_width": null,
       "min_height": null,
       "min_width": null,
       "object_fit": null,
       "object_position": null,
       "order": null,
       "overflow": null,
       "overflow_x": null,
       "overflow_y": null,
       "padding": null,
       "right": null,
       "top": null,
       "visibility": null,
       "width": null
      }
     },
     "ae8f599a2e514b61b66117d6bad0f5d7": {
      "model_module": "@jupyter-widgets/base",
      "model_module_version": "1.2.0",
      "model_name": "LayoutModel",
      "state": {
       "_model_module": "@jupyter-widgets/base",
       "_model_module_version": "1.2.0",
       "_model_name": "LayoutModel",
       "_view_count": null,
       "_view_module": "@jupyter-widgets/base",
       "_view_module_version": "1.2.0",
       "_view_name": "LayoutView",
       "align_content": null,
       "align_items": null,
       "align_self": null,
       "border": null,
       "bottom": null,
       "display": null,
       "flex": null,
       "flex_flow": null,
       "grid_area": null,
       "grid_auto_columns": null,
       "grid_auto_flow": null,
       "grid_auto_rows": null,
       "grid_column": null,
       "grid_gap": null,
       "grid_row": null,
       "grid_template_areas": null,
       "grid_template_columns": null,
       "grid_template_rows": null,
       "height": null,
       "justify_content": null,
       "justify_items": null,
       "left": null,
       "margin": null,
       "max_height": null,
       "max_width": null,
       "min_height": null,
       "min_width": null,
       "object_fit": null,
       "object_position": null,
       "order": null,
       "overflow": null,
       "overflow_x": null,
       "overflow_y": null,
       "padding": null,
       "right": null,
       "top": null,
       "visibility": null,
       "width": null
      }
     },
     "b1479b0920a94a06a3a275bf76dd168d": {
      "model_module": "@jupyter-widgets/controls",
      "model_module_version": "1.5.0",
      "model_name": "DescriptionStyleModel",
      "state": {
       "_model_module": "@jupyter-widgets/controls",
       "_model_module_version": "1.5.0",
       "_model_name": "DescriptionStyleModel",
       "_view_count": null,
       "_view_module": "@jupyter-widgets/base",
       "_view_module_version": "1.2.0",
       "_view_name": "StyleView",
       "description_width": ""
      }
     },
     "b185eab9c7e4427c9c636d6c53f6a181": {
      "model_module": "@jupyter-widgets/controls",
      "model_module_version": "1.5.0",
      "model_name": "ProgressStyleModel",
      "state": {
       "_model_module": "@jupyter-widgets/controls",
       "_model_module_version": "1.5.0",
       "_model_name": "ProgressStyleModel",
       "_view_count": null,
       "_view_module": "@jupyter-widgets/base",
       "_view_module_version": "1.2.0",
       "_view_name": "StyleView",
       "bar_color": null,
       "description_width": ""
      }
     },
     "b5261560a20647f7b8199e43f9d893f8": {
      "model_module": "@jupyter-widgets/controls",
      "model_module_version": "1.5.0",
      "model_name": "LabelModel",
      "state": {
       "_dom_classes": [],
       "_model_module": "@jupyter-widgets/controls",
       "_model_module_version": "1.5.0",
       "_model_name": "LabelModel",
       "_view_count": null,
       "_view_module": "@jupyter-widgets/controls",
       "_view_module_version": "1.5.0",
       "_view_name": "LabelView",
       "description": "",
       "description_tooltip": null,
       "layout": "IPY_MODEL_ec8c8ede4c0143fbaef90db42ebf592d",
       "placeholder": "​",
       "style": "IPY_MODEL_b1479b0920a94a06a3a275bf76dd168d",
       "value": "1250 / 1250"
      }
     },
     "bb92b23d3067404da123e04271290473": {
      "model_module": "@jupyter-widgets/controls",
      "model_module_version": "1.5.0",
      "model_name": "IntProgressModel",
      "state": {
       "_dom_classes": [],
       "_model_module": "@jupyter-widgets/controls",
       "_model_module_version": "1.5.0",
       "_model_name": "IntProgressModel",
       "_view_count": null,
       "_view_module": "@jupyter-widgets/controls",
       "_view_module_version": "1.5.0",
       "_view_name": "ProgressView",
       "bar_style": "success",
       "description": "100.00%",
       "description_tooltip": null,
       "layout": "IPY_MODEL_8a426764df06427fa76d65a742b6e4c9",
       "max": 544,
       "min": 0,
       "orientation": "horizontal",
       "style": "IPY_MODEL_4326a1d23d1d40bf83929fd51a5e6578",
       "value": 544
      }
     },
     "bbab505040d04fcdaa672c412ff3506b": {
      "model_module": "@jupyter-widgets/controls",
      "model_module_version": "1.5.0",
      "model_name": "DescriptionStyleModel",
      "state": {
       "_model_module": "@jupyter-widgets/controls",
       "_model_module_version": "1.5.0",
       "_model_name": "DescriptionStyleModel",
       "_view_count": null,
       "_view_module": "@jupyter-widgets/base",
       "_view_module_version": "1.2.0",
       "_view_name": "StyleView",
       "description_width": ""
      }
     },
     "bd4eb8976f8b4e5290213f3830f438ca": {
      "model_module": "@jupyter-widgets/controls",
      "model_module_version": "1.5.0",
      "model_name": "DescriptionStyleModel",
      "state": {
       "_model_module": "@jupyter-widgets/controls",
       "_model_module_version": "1.5.0",
       "_model_name": "DescriptionStyleModel",
       "_view_count": null,
       "_view_module": "@jupyter-widgets/base",
       "_view_module_version": "1.2.0",
       "_view_name": "StyleView",
       "description_width": ""
      }
     },
     "bd7e9edc4b2d461ebfe121eac4cdce8b": {
      "model_module": "@jupyter-widgets/base",
      "model_module_version": "1.2.0",
      "model_name": "LayoutModel",
      "state": {
       "_model_module": "@jupyter-widgets/base",
       "_model_module_version": "1.2.0",
       "_model_name": "LayoutModel",
       "_view_count": null,
       "_view_module": "@jupyter-widgets/base",
       "_view_module_version": "1.2.0",
       "_view_name": "LayoutView",
       "align_content": null,
       "align_items": null,
       "align_self": null,
       "border": null,
       "bottom": null,
       "display": null,
       "flex": null,
       "flex_flow": null,
       "grid_area": null,
       "grid_auto_columns": null,
       "grid_auto_flow": null,
       "grid_auto_rows": null,
       "grid_column": null,
       "grid_gap": null,
       "grid_row": null,
       "grid_template_areas": null,
       "grid_template_columns": null,
       "grid_template_rows": null,
       "height": null,
       "justify_content": null,
       "justify_items": null,
       "left": null,
       "margin": null,
       "max_height": null,
       "max_width": null,
       "min_height": null,
       "min_width": null,
       "object_fit": null,
       "object_position": null,
       "order": null,
       "overflow": null,
       "overflow_x": null,
       "overflow_y": null,
       "padding": null,
       "right": null,
       "top": null,
       "visibility": null,
       "width": null
      }
     },
     "bdcc8cbb21dc463e99ef4581887035c0": {
      "model_module": "@jupyter-widgets/controls",
      "model_module_version": "1.5.0",
      "model_name": "DescriptionStyleModel",
      "state": {
       "_model_module": "@jupyter-widgets/controls",
       "_model_module_version": "1.5.0",
       "_model_name": "DescriptionStyleModel",
       "_view_count": null,
       "_view_module": "@jupyter-widgets/base",
       "_view_module_version": "1.2.0",
       "_view_name": "StyleView",
       "description_width": ""
      }
     },
     "bee45d557cec4572ba271ca253f4ba1c": {
      "model_module": "@jupyter-widgets/controls",
      "model_module_version": "1.5.0",
      "model_name": "LabelModel",
      "state": {
       "_dom_classes": [],
       "_model_module": "@jupyter-widgets/controls",
       "_model_module_version": "1.5.0",
       "_model_name": "LabelModel",
       "_view_count": null,
       "_view_module": "@jupyter-widgets/controls",
       "_view_module_version": "1.5.0",
       "_view_name": "LabelView",
       "description": "",
       "description_tooltip": null,
       "layout": "IPY_MODEL_6eab411c720f4623bc656524b2a8995e",
       "placeholder": "​",
       "style": "IPY_MODEL_c79616fc743c44b6a058057832a8e924",
       "value": "2501 / 2501"
      }
     },
     "bfb5db1fc3e74fceb2483c071185a3bc": {
      "model_module": "@jupyter-widgets/controls",
      "model_module_version": "1.5.0",
      "model_name": "LabelModel",
      "state": {
       "_dom_classes": [],
       "_model_module": "@jupyter-widgets/controls",
       "_model_module_version": "1.5.0",
       "_model_name": "LabelModel",
       "_view_count": null,
       "_view_module": "@jupyter-widgets/controls",
       "_view_module_version": "1.5.0",
       "_view_name": "LabelView",
       "description": "",
       "description_tooltip": null,
       "layout": "IPY_MODEL_4753ce13ec3c4c91981d83c27b198e29",
       "placeholder": "​",
       "style": "IPY_MODEL_a26896058ee14dfd959c462ae02b7dba",
       "value": "2501 / 2501"
      }
     },
     "bfd0358b05de437da92849df9e87589b": {
      "model_module": "@jupyter-widgets/base",
      "model_module_version": "1.2.0",
      "model_name": "LayoutModel",
      "state": {
       "_model_module": "@jupyter-widgets/base",
       "_model_module_version": "1.2.0",
       "_model_name": "LayoutModel",
       "_view_count": null,
       "_view_module": "@jupyter-widgets/base",
       "_view_module_version": "1.2.0",
       "_view_name": "LayoutView",
       "align_content": null,
       "align_items": null,
       "align_self": null,
       "border": null,
       "bottom": null,
       "display": null,
       "flex": null,
       "flex_flow": null,
       "grid_area": null,
       "grid_auto_columns": null,
       "grid_auto_flow": null,
       "grid_auto_rows": null,
       "grid_column": null,
       "grid_gap": null,
       "grid_row": null,
       "grid_template_areas": null,
       "grid_template_columns": null,
       "grid_template_rows": null,
       "height": null,
       "justify_content": null,
       "justify_items": null,
       "left": null,
       "margin": null,
       "max_height": null,
       "max_width": null,
       "min_height": null,
       "min_width": null,
       "object_fit": null,
       "object_position": null,
       "order": null,
       "overflow": null,
       "overflow_x": null,
       "overflow_y": null,
       "padding": null,
       "right": null,
       "top": null,
       "visibility": null,
       "width": null
      }
     },
     "c4b7d62315ae4eaa9d1e9bda691a66b4": {
      "model_module": "@jupyter-widgets/base",
      "model_module_version": "1.2.0",
      "model_name": "LayoutModel",
      "state": {
       "_model_module": "@jupyter-widgets/base",
       "_model_module_version": "1.2.0",
       "_model_name": "LayoutModel",
       "_view_count": null,
       "_view_module": "@jupyter-widgets/base",
       "_view_module_version": "1.2.0",
       "_view_name": "LayoutView",
       "align_content": null,
       "align_items": null,
       "align_self": null,
       "border": null,
       "bottom": null,
       "display": null,
       "flex": null,
       "flex_flow": null,
       "grid_area": null,
       "grid_auto_columns": null,
       "grid_auto_flow": null,
       "grid_auto_rows": null,
       "grid_column": null,
       "grid_gap": null,
       "grid_row": null,
       "grid_template_areas": null,
       "grid_template_columns": null,
       "grid_template_rows": null,
       "height": null,
       "justify_content": null,
       "justify_items": null,
       "left": null,
       "margin": null,
       "max_height": null,
       "max_width": null,
       "min_height": null,
       "min_width": null,
       "object_fit": null,
       "object_position": null,
       "order": null,
       "overflow": null,
       "overflow_x": null,
       "overflow_y": null,
       "padding": null,
       "right": null,
       "top": null,
       "visibility": null,
       "width": null
      }
     },
     "c53ba606e1c24d6eb12d2f99342f4543": {
      "model_module": "@jupyter-widgets/controls",
      "model_module_version": "1.5.0",
      "model_name": "IntProgressModel",
      "state": {
       "_dom_classes": [],
       "_model_module": "@jupyter-widgets/controls",
       "_model_module_version": "1.5.0",
       "_model_name": "IntProgressModel",
       "_view_count": null,
       "_view_module": "@jupyter-widgets/controls",
       "_view_module_version": "1.5.0",
       "_view_name": "ProgressView",
       "bar_style": "success",
       "description": "100.00%",
       "description_tooltip": null,
       "layout": "IPY_MODEL_701bbeaa38a749129e80c99ce0ae7fdc",
       "max": 2501,
       "min": 0,
       "orientation": "horizontal",
       "style": "IPY_MODEL_3668bea98d73408a913752e5ef436c0c",
       "value": 2501
      }
     },
     "c79616fc743c44b6a058057832a8e924": {
      "model_module": "@jupyter-widgets/controls",
      "model_module_version": "1.5.0",
      "model_name": "DescriptionStyleModel",
      "state": {
       "_model_module": "@jupyter-widgets/controls",
       "_model_module_version": "1.5.0",
       "_model_name": "DescriptionStyleModel",
       "_view_count": null,
       "_view_module": "@jupyter-widgets/base",
       "_view_module_version": "1.2.0",
       "_view_name": "StyleView",
       "description_width": ""
      }
     },
     "c9f5735d16f44ccdbdf20349997f0df5": {
      "model_module": "@jupyter-widgets/base",
      "model_module_version": "1.2.0",
      "model_name": "LayoutModel",
      "state": {
       "_model_module": "@jupyter-widgets/base",
       "_model_module_version": "1.2.0",
       "_model_name": "LayoutModel",
       "_view_count": null,
       "_view_module": "@jupyter-widgets/base",
       "_view_module_version": "1.2.0",
       "_view_name": "LayoutView",
       "align_content": null,
       "align_items": null,
       "align_self": null,
       "border": null,
       "bottom": null,
       "display": null,
       "flex": null,
       "flex_flow": null,
       "grid_area": null,
       "grid_auto_columns": null,
       "grid_auto_flow": null,
       "grid_auto_rows": null,
       "grid_column": null,
       "grid_gap": null,
       "grid_row": null,
       "grid_template_areas": null,
       "grid_template_columns": null,
       "grid_template_rows": null,
       "height": null,
       "justify_content": null,
       "justify_items": null,
       "left": null,
       "margin": null,
       "max_height": null,
       "max_width": null,
       "min_height": null,
       "min_width": null,
       "object_fit": null,
       "object_position": null,
       "order": null,
       "overflow": null,
       "overflow_x": null,
       "overflow_y": null,
       "padding": null,
       "right": null,
       "top": null,
       "visibility": null,
       "width": null
      }
     },
     "cc1e3013258049b0a644dc8fc3824118": {
      "model_module": "@jupyter-widgets/base",
      "model_module_version": "1.2.0",
      "model_name": "LayoutModel",
      "state": {
       "_model_module": "@jupyter-widgets/base",
       "_model_module_version": "1.2.0",
       "_model_name": "LayoutModel",
       "_view_count": null,
       "_view_module": "@jupyter-widgets/base",
       "_view_module_version": "1.2.0",
       "_view_name": "LayoutView",
       "align_content": null,
       "align_items": null,
       "align_self": null,
       "border": null,
       "bottom": null,
       "display": null,
       "flex": null,
       "flex_flow": null,
       "grid_area": null,
       "grid_auto_columns": null,
       "grid_auto_flow": null,
       "grid_auto_rows": null,
       "grid_column": null,
       "grid_gap": null,
       "grid_row": null,
       "grid_template_areas": null,
       "grid_template_columns": null,
       "grid_template_rows": null,
       "height": null,
       "justify_content": null,
       "justify_items": null,
       "left": null,
       "margin": null,
       "max_height": null,
       "max_width": null,
       "min_height": null,
       "min_width": null,
       "object_fit": null,
       "object_position": null,
       "order": null,
       "overflow": null,
       "overflow_x": null,
       "overflow_y": null,
       "padding": null,
       "right": null,
       "top": null,
       "visibility": null,
       "width": null
      }
     },
     "d02f577da786468e8da5961b152e7f6c": {
      "model_module": "@jupyter-widgets/controls",
      "model_module_version": "1.5.0",
      "model_name": "LabelModel",
      "state": {
       "_dom_classes": [],
       "_model_module": "@jupyter-widgets/controls",
       "_model_module_version": "1.5.0",
       "_model_name": "LabelModel",
       "_view_count": null,
       "_view_module": "@jupyter-widgets/controls",
       "_view_module_version": "1.5.0",
       "_view_name": "LabelView",
       "description": "",
       "description_tooltip": null,
       "layout": "IPY_MODEL_c9f5735d16f44ccdbdf20349997f0df5",
       "placeholder": "​",
       "style": "IPY_MODEL_7d3702fbab4048da9dcb5cf7d1b9d671",
       "value": "543 / 543"
      }
     },
     "d1c194da7bf6474aae771a5a68163640": {
      "model_module": "@jupyter-widgets/base",
      "model_module_version": "1.2.0",
      "model_name": "LayoutModel",
      "state": {
       "_model_module": "@jupyter-widgets/base",
       "_model_module_version": "1.2.0",
       "_model_name": "LayoutModel",
       "_view_count": null,
       "_view_module": "@jupyter-widgets/base",
       "_view_module_version": "1.2.0",
       "_view_name": "LayoutView",
       "align_content": null,
       "align_items": null,
       "align_self": null,
       "border": null,
       "bottom": null,
       "display": null,
       "flex": null,
       "flex_flow": null,
       "grid_area": null,
       "grid_auto_columns": null,
       "grid_auto_flow": null,
       "grid_auto_rows": null,
       "grid_column": null,
       "grid_gap": null,
       "grid_row": null,
       "grid_template_areas": null,
       "grid_template_columns": null,
       "grid_template_rows": null,
       "height": null,
       "justify_content": null,
       "justify_items": null,
       "left": null,
       "margin": null,
       "max_height": null,
       "max_width": null,
       "min_height": null,
       "min_width": null,
       "object_fit": null,
       "object_position": null,
       "order": null,
       "overflow": null,
       "overflow_x": null,
       "overflow_y": null,
       "padding": null,
       "right": null,
       "top": null,
       "visibility": null,
       "width": null
      }
     },
     "d47c282be2b54fe0998938eab8c9946b": {
      "model_module": "@jupyter-widgets/controls",
      "model_module_version": "1.5.0",
      "model_name": "ProgressStyleModel",
      "state": {
       "_model_module": "@jupyter-widgets/controls",
       "_model_module_version": "1.5.0",
       "_model_name": "ProgressStyleModel",
       "_view_count": null,
       "_view_module": "@jupyter-widgets/base",
       "_view_module_version": "1.2.0",
       "_view_name": "StyleView",
       "bar_color": null,
       "description_width": ""
      }
     },
     "d994cdbee4a64b6b8be1fd2f86a80d73": {
      "model_module": "@jupyter-widgets/controls",
      "model_module_version": "1.5.0",
      "model_name": "LabelModel",
      "state": {
       "_dom_classes": [],
       "_model_module": "@jupyter-widgets/controls",
       "_model_module_version": "1.5.0",
       "_model_name": "LabelModel",
       "_view_count": null,
       "_view_module": "@jupyter-widgets/controls",
       "_view_module_version": "1.5.0",
       "_view_name": "LabelView",
       "description": "",
       "description_tooltip": null,
       "layout": "IPY_MODEL_25393fd0119149569cd02eef43cda0e7",
       "placeholder": "​",
       "style": "IPY_MODEL_bd4eb8976f8b4e5290213f3830f438ca",
       "value": "544 / 544"
      }
     },
     "db5650c6b0d74903aa419b78ca8f7b36": {
      "model_module": "@jupyter-widgets/controls",
      "model_module_version": "1.5.0",
      "model_name": "ProgressStyleModel",
      "state": {
       "_model_module": "@jupyter-widgets/controls",
       "_model_module_version": "1.5.0",
       "_model_name": "ProgressStyleModel",
       "_view_count": null,
       "_view_module": "@jupyter-widgets/base",
       "_view_module_version": "1.2.0",
       "_view_name": "StyleView",
       "bar_color": null,
       "description_width": ""
      }
     },
     "dc55437ee3e54ce799e16692aec1c0e7": {
      "model_module": "@jupyter-widgets/controls",
      "model_module_version": "1.5.0",
      "model_name": "LabelModel",
      "state": {
       "_dom_classes": [],
       "_model_module": "@jupyter-widgets/controls",
       "_model_module_version": "1.5.0",
       "_model_name": "LabelModel",
       "_view_count": null,
       "_view_module": "@jupyter-widgets/controls",
       "_view_module_version": "1.5.0",
       "_view_name": "LabelView",
       "description": "",
       "description_tooltip": null,
       "layout": "IPY_MODEL_0116cdefcc734266a3876181abd6bf5c",
       "placeholder": "​",
       "style": "IPY_MODEL_bbab505040d04fcdaa672c412ff3506b",
       "value": "1251 / 1251"
      }
     },
     "de71c7bb544443d89815271aba675acd": {
      "model_module": "@jupyter-widgets/controls",
      "model_module_version": "1.5.0",
      "model_name": "ProgressStyleModel",
      "state": {
       "_model_module": "@jupyter-widgets/controls",
       "_model_module_version": "1.5.0",
       "_model_name": "ProgressStyleModel",
       "_view_count": null,
       "_view_module": "@jupyter-widgets/base",
       "_view_module_version": "1.2.0",
       "_view_name": "StyleView",
       "bar_color": null,
       "description_width": ""
      }
     },
     "e171325cd1b64c58bd9424d93eb30293": {
      "model_module": "@jupyter-widgets/base",
      "model_module_version": "1.2.0",
      "model_name": "LayoutModel",
      "state": {
       "_model_module": "@jupyter-widgets/base",
       "_model_module_version": "1.2.0",
       "_model_name": "LayoutModel",
       "_view_count": null,
       "_view_module": "@jupyter-widgets/base",
       "_view_module_version": "1.2.0",
       "_view_name": "LayoutView",
       "align_content": null,
       "align_items": null,
       "align_self": null,
       "border": null,
       "bottom": null,
       "display": null,
       "flex": null,
       "flex_flow": null,
       "grid_area": null,
       "grid_auto_columns": null,
       "grid_auto_flow": null,
       "grid_auto_rows": null,
       "grid_column": null,
       "grid_gap": null,
       "grid_row": null,
       "grid_template_areas": null,
       "grid_template_columns": null,
       "grid_template_rows": null,
       "height": null,
       "justify_content": null,
       "justify_items": null,
       "left": null,
       "margin": null,
       "max_height": null,
       "max_width": null,
       "min_height": null,
       "min_width": null,
       "object_fit": null,
       "object_position": null,
       "order": null,
       "overflow": null,
       "overflow_x": null,
       "overflow_y": null,
       "padding": null,
       "right": null,
       "top": null,
       "visibility": null,
       "width": null
      }
     },
     "e32edb4416b743ada1493abce029f0bb": {
      "model_module": "@jupyter-widgets/base",
      "model_module_version": "1.2.0",
      "model_name": "LayoutModel",
      "state": {
       "_model_module": "@jupyter-widgets/base",
       "_model_module_version": "1.2.0",
       "_model_name": "LayoutModel",
       "_view_count": null,
       "_view_module": "@jupyter-widgets/base",
       "_view_module_version": "1.2.0",
       "_view_name": "LayoutView",
       "align_content": null,
       "align_items": null,
       "align_self": null,
       "border": null,
       "bottom": null,
       "display": null,
       "flex": null,
       "flex_flow": null,
       "grid_area": null,
       "grid_auto_columns": null,
       "grid_auto_flow": null,
       "grid_auto_rows": null,
       "grid_column": null,
       "grid_gap": null,
       "grid_row": null,
       "grid_template_areas": null,
       "grid_template_columns": null,
       "grid_template_rows": null,
       "height": null,
       "justify_content": null,
       "justify_items": null,
       "left": null,
       "margin": null,
       "max_height": null,
       "max_width": null,
       "min_height": null,
       "min_width": null,
       "object_fit": null,
       "object_position": null,
       "order": null,
       "overflow": null,
       "overflow_x": null,
       "overflow_y": null,
       "padding": null,
       "right": null,
       "top": null,
       "visibility": null,
       "width": null
      }
     },
     "e69af2da0d8c43f3916448c3c85050e7": {
      "model_module": "@jupyter-widgets/base",
      "model_module_version": "1.2.0",
      "model_name": "LayoutModel",
      "state": {
       "_model_module": "@jupyter-widgets/base",
       "_model_module_version": "1.2.0",
       "_model_name": "LayoutModel",
       "_view_count": null,
       "_view_module": "@jupyter-widgets/base",
       "_view_module_version": "1.2.0",
       "_view_name": "LayoutView",
       "align_content": null,
       "align_items": null,
       "align_self": null,
       "border": null,
       "bottom": null,
       "display": null,
       "flex": null,
       "flex_flow": null,
       "grid_area": null,
       "grid_auto_columns": null,
       "grid_auto_flow": null,
       "grid_auto_rows": null,
       "grid_column": null,
       "grid_gap": null,
       "grid_row": null,
       "grid_template_areas": null,
       "grid_template_columns": null,
       "grid_template_rows": null,
       "height": null,
       "justify_content": null,
       "justify_items": null,
       "left": null,
       "margin": null,
       "max_height": null,
       "max_width": null,
       "min_height": null,
       "min_width": null,
       "object_fit": null,
       "object_position": null,
       "order": null,
       "overflow": null,
       "overflow_x": null,
       "overflow_y": null,
       "padding": null,
       "right": null,
       "top": null,
       "visibility": null,
       "width": null
      }
     },
     "e78019db084d41f6ac31db5ba1d373e9": {
      "model_module": "@jupyter-widgets/base",
      "model_module_version": "1.2.0",
      "model_name": "LayoutModel",
      "state": {
       "_model_module": "@jupyter-widgets/base",
       "_model_module_version": "1.2.0",
       "_model_name": "LayoutModel",
       "_view_count": null,
       "_view_module": "@jupyter-widgets/base",
       "_view_module_version": "1.2.0",
       "_view_name": "LayoutView",
       "align_content": null,
       "align_items": null,
       "align_self": null,
       "border": null,
       "bottom": null,
       "display": null,
       "flex": null,
       "flex_flow": null,
       "grid_area": null,
       "grid_auto_columns": null,
       "grid_auto_flow": null,
       "grid_auto_rows": null,
       "grid_column": null,
       "grid_gap": null,
       "grid_row": null,
       "grid_template_areas": null,
       "grid_template_columns": null,
       "grid_template_rows": null,
       "height": null,
       "justify_content": null,
       "justify_items": null,
       "left": null,
       "margin": null,
       "max_height": null,
       "max_width": null,
       "min_height": null,
       "min_width": null,
       "object_fit": null,
       "object_position": null,
       "order": null,
       "overflow": null,
       "overflow_x": null,
       "overflow_y": null,
       "padding": null,
       "right": null,
       "top": null,
       "visibility": null,
       "width": null
      }
     },
     "e7be5b0719014f3fb0c91e98a466813a": {
      "model_module": "@jupyter-widgets/controls",
      "model_module_version": "1.5.0",
      "model_name": "DescriptionStyleModel",
      "state": {
       "_model_module": "@jupyter-widgets/controls",
       "_model_module_version": "1.5.0",
       "_model_name": "DescriptionStyleModel",
       "_view_count": null,
       "_view_module": "@jupyter-widgets/base",
       "_view_module_version": "1.2.0",
       "_view_name": "StyleView",
       "description_width": ""
      }
     },
     "e8a8ceab77fc4bf9a59a8aaee1b117cd": {
      "model_module": "@jupyter-widgets/controls",
      "model_module_version": "1.5.0",
      "model_name": "HBoxModel",
      "state": {
       "_dom_classes": [],
       "_model_module": "@jupyter-widgets/controls",
       "_model_module_version": "1.5.0",
       "_model_name": "HBoxModel",
       "_view_count": null,
       "_view_module": "@jupyter-widgets/controls",
       "_view_module_version": "1.5.0",
       "_view_name": "HBoxView",
       "box_style": "",
       "children": [
        "IPY_MODEL_5b39e3598a68440c8dc3edf2a9ced232",
        "IPY_MODEL_d02f577da786468e8da5961b152e7f6c"
       ],
       "layout": "IPY_MODEL_f8f5ae9d27c64bafa2b61b7f9e4e3893"
      }
     },
     "ea56f4c66bd047c4bb008451427e7360": {
      "model_module": "@jupyter-widgets/controls",
      "model_module_version": "1.5.0",
      "model_name": "HBoxModel",
      "state": {
       "_dom_classes": [],
       "_model_module": "@jupyter-widgets/controls",
       "_model_module_version": "1.5.0",
       "_model_name": "HBoxModel",
       "_view_count": null,
       "_view_module": "@jupyter-widgets/controls",
       "_view_module_version": "1.5.0",
       "_view_name": "HBoxView",
       "box_style": "",
       "children": [
        "IPY_MODEL_62084b2d562f4ec5b31bebddd7ce888b",
        "IPY_MODEL_90c30be5a9f54cfcb88c972688b9173f"
       ],
       "layout": "IPY_MODEL_c4b7d62315ae4eaa9d1e9bda691a66b4"
      }
     },
     "eb7eabae1d634dfb975e8f458459e489": {
      "model_module": "@jupyter-widgets/controls",
      "model_module_version": "1.5.0",
      "model_name": "HBoxModel",
      "state": {
       "_dom_classes": [],
       "_model_module": "@jupyter-widgets/controls",
       "_model_module_version": "1.5.0",
       "_model_name": "HBoxModel",
       "_view_count": null,
       "_view_module": "@jupyter-widgets/controls",
       "_view_module_version": "1.5.0",
       "_view_name": "HBoxView",
       "box_style": "",
       "children": [
        "IPY_MODEL_0dcb63ce1681405d98b9446bbfba32bb",
        "IPY_MODEL_bee45d557cec4572ba271ca253f4ba1c"
       ],
       "layout": "IPY_MODEL_d1c194da7bf6474aae771a5a68163640"
      }
     },
     "ebf9bc38730849d69b69b892f83e825a": {
      "model_module": "@jupyter-widgets/controls",
      "model_module_version": "1.5.0",
      "model_name": "HBoxModel",
      "state": {
       "_dom_classes": [],
       "_model_module": "@jupyter-widgets/controls",
       "_model_module_version": "1.5.0",
       "_model_name": "HBoxModel",
       "_view_count": null,
       "_view_module": "@jupyter-widgets/controls",
       "_view_module_version": "1.5.0",
       "_view_name": "HBoxView",
       "box_style": "",
       "children": [
        "IPY_MODEL_a2598bb99f854697821e1f2353782bc2",
        "IPY_MODEL_74889f10ee86453791cf2ef2871c9716"
       ],
       "layout": "IPY_MODEL_07afce3b5760475d9a5886e1621a2c92"
      }
     },
     "ec61404044a548e2b9ad5d70e31c05d9": {
      "model_module": "@jupyter-widgets/controls",
      "model_module_version": "1.5.0",
      "model_name": "VBoxModel",
      "state": {
       "_dom_classes": [],
       "_model_module": "@jupyter-widgets/controls",
       "_model_module_version": "1.5.0",
       "_model_name": "VBoxModel",
       "_view_count": null,
       "_view_module": "@jupyter-widgets/controls",
       "_view_module_version": "1.5.0",
       "_view_name": "VBoxView",
       "box_style": "",
       "children": [
        "IPY_MODEL_8fd8da9a26ac4ae397b6e7476ab7061b",
        "IPY_MODEL_2f15dec30add4a64acee2d18aed9533b",
        "IPY_MODEL_ebf9bc38730849d69b69b892f83e825a",
        "IPY_MODEL_532896cd8f1e4d839788980f8fc3b34f",
        "IPY_MODEL_927171a897be4fa3806876e1ca938105",
        "IPY_MODEL_eb7eabae1d634dfb975e8f458459e489"
       ],
       "layout": "IPY_MODEL_a9b8d5c505be48328918291c51ac0b63"
      }
     },
     "ec8c8ede4c0143fbaef90db42ebf592d": {
      "model_module": "@jupyter-widgets/base",
      "model_module_version": "1.2.0",
      "model_name": "LayoutModel",
      "state": {
       "_model_module": "@jupyter-widgets/base",
       "_model_module_version": "1.2.0",
       "_model_name": "LayoutModel",
       "_view_count": null,
       "_view_module": "@jupyter-widgets/base",
       "_view_module_version": "1.2.0",
       "_view_name": "LayoutView",
       "align_content": null,
       "align_items": null,
       "align_self": null,
       "border": null,
       "bottom": null,
       "display": null,
       "flex": null,
       "flex_flow": null,
       "grid_area": null,
       "grid_auto_columns": null,
       "grid_auto_flow": null,
       "grid_auto_rows": null,
       "grid_column": null,
       "grid_gap": null,
       "grid_row": null,
       "grid_template_areas": null,
       "grid_template_columns": null,
       "grid_template_rows": null,
       "height": null,
       "justify_content": null,
       "justify_items": null,
       "left": null,
       "margin": null,
       "max_height": null,
       "max_width": null,
       "min_height": null,
       "min_width": null,
       "object_fit": null,
       "object_position": null,
       "order": null,
       "overflow": null,
       "overflow_x": null,
       "overflow_y": null,
       "padding": null,
       "right": null,
       "top": null,
       "visibility": null,
       "width": null
      }
     },
     "ed3bc1789f1f41c489394867d3118844": {
      "model_module": "@jupyter-widgets/controls",
      "model_module_version": "1.5.0",
      "model_name": "HBoxModel",
      "state": {
       "_dom_classes": [],
       "_model_module": "@jupyter-widgets/controls",
       "_model_module_version": "1.5.0",
       "_model_name": "HBoxModel",
       "_view_count": null,
       "_view_module": "@jupyter-widgets/controls",
       "_view_module_version": "1.5.0",
       "_view_name": "HBoxView",
       "box_style": "",
       "children": [
        "IPY_MODEL_274e1a4f9add4f3ebd091083c139eaa6",
        "IPY_MODEL_dc55437ee3e54ce799e16692aec1c0e7"
       ],
       "layout": "IPY_MODEL_2562e3f1bc7147fa935fe558f125c38f"
      }
     },
     "ed783c6f74a147c6b9ec67e17e2be359": {
      "model_module": "@jupyter-widgets/controls",
      "model_module_version": "1.5.0",
      "model_name": "LabelModel",
      "state": {
       "_dom_classes": [],
       "_model_module": "@jupyter-widgets/controls",
       "_model_module_version": "1.5.0",
       "_model_name": "LabelModel",
       "_view_count": null,
       "_view_module": "@jupyter-widgets/controls",
       "_view_module_version": "1.5.0",
       "_view_name": "LabelView",
       "description": "",
       "description_tooltip": null,
       "layout": "IPY_MODEL_80e21a69fba144f58c1c6d58afcef692",
       "placeholder": "​",
       "style": "IPY_MODEL_43796e6e48e9429eb7b460b596388a30",
       "value": "544 / 544"
      }
     },
     "ef927897a7b442ffb83d52c064b1e7df": {
      "model_module": "@jupyter-widgets/controls",
      "model_module_version": "1.5.0",
      "model_name": "ProgressStyleModel",
      "state": {
       "_model_module": "@jupyter-widgets/controls",
       "_model_module_version": "1.5.0",
       "_model_name": "ProgressStyleModel",
       "_view_count": null,
       "_view_module": "@jupyter-widgets/base",
       "_view_module_version": "1.2.0",
       "_view_name": "StyleView",
       "bar_color": null,
       "description_width": ""
      }
     },
     "f239ae0db68343178ae6eab3d141bc41": {
      "model_module": "@jupyter-widgets/controls",
      "model_module_version": "1.5.0",
      "model_name": "ProgressStyleModel",
      "state": {
       "_model_module": "@jupyter-widgets/controls",
       "_model_module_version": "1.5.0",
       "_model_name": "ProgressStyleModel",
       "_view_count": null,
       "_view_module": "@jupyter-widgets/base",
       "_view_module_version": "1.2.0",
       "_view_name": "StyleView",
       "bar_color": null,
       "description_width": ""
      }
     },
     "f3e5daba105242b59204886b04174037": {
      "model_module": "@jupyter-widgets/base",
      "model_module_version": "1.2.0",
      "model_name": "LayoutModel",
      "state": {
       "_model_module": "@jupyter-widgets/base",
       "_model_module_version": "1.2.0",
       "_model_name": "LayoutModel",
       "_view_count": null,
       "_view_module": "@jupyter-widgets/base",
       "_view_module_version": "1.2.0",
       "_view_name": "LayoutView",
       "align_content": null,
       "align_items": null,
       "align_self": null,
       "border": null,
       "bottom": null,
       "display": null,
       "flex": null,
       "flex_flow": null,
       "grid_area": null,
       "grid_auto_columns": null,
       "grid_auto_flow": null,
       "grid_auto_rows": null,
       "grid_column": null,
       "grid_gap": null,
       "grid_row": null,
       "grid_template_areas": null,
       "grid_template_columns": null,
       "grid_template_rows": null,
       "height": null,
       "justify_content": null,
       "justify_items": null,
       "left": null,
       "margin": null,
       "max_height": null,
       "max_width": null,
       "min_height": null,
       "min_width": null,
       "object_fit": null,
       "object_position": null,
       "order": null,
       "overflow": null,
       "overflow_x": null,
       "overflow_y": null,
       "padding": null,
       "right": null,
       "top": null,
       "visibility": null,
       "width": null
      }
     },
     "f4978f10e74d4a10a55ce3c45529bbeb": {
      "model_module": "@jupyter-widgets/controls",
      "model_module_version": "1.5.0",
      "model_name": "IntProgressModel",
      "state": {
       "_dom_classes": [],
       "_model_module": "@jupyter-widgets/controls",
       "_model_module_version": "1.5.0",
       "_model_name": "IntProgressModel",
       "_view_count": null,
       "_view_module": "@jupyter-widgets/controls",
       "_view_module_version": "1.5.0",
       "_view_name": "ProgressView",
       "bar_style": "success",
       "description": "100.00%",
       "description_tooltip": null,
       "layout": "IPY_MODEL_1254aa3008ee4cb4a3deea2e47295539",
       "max": 1251,
       "min": 0,
       "orientation": "horizontal",
       "style": "IPY_MODEL_97a59cb5f72f4b39bc46a90da17dc176",
       "value": 1251
      }
     },
     "f8f5ae9d27c64bafa2b61b7f9e4e3893": {
      "model_module": "@jupyter-widgets/base",
      "model_module_version": "1.2.0",
      "model_name": "LayoutModel",
      "state": {
       "_model_module": "@jupyter-widgets/base",
       "_model_module_version": "1.2.0",
       "_model_name": "LayoutModel",
       "_view_count": null,
       "_view_module": "@jupyter-widgets/base",
       "_view_module_version": "1.2.0",
       "_view_name": "LayoutView",
       "align_content": null,
       "align_items": null,
       "align_self": null,
       "border": null,
       "bottom": null,
       "display": null,
       "flex": null,
       "flex_flow": null,
       "grid_area": null,
       "grid_auto_columns": null,
       "grid_auto_flow": null,
       "grid_auto_rows": null,
       "grid_column": null,
       "grid_gap": null,
       "grid_row": null,
       "grid_template_areas": null,
       "grid_template_columns": null,
       "grid_template_rows": null,
       "height": null,
       "justify_content": null,
       "justify_items": null,
       "left": null,
       "margin": null,
       "max_height": null,
       "max_width": null,
       "min_height": null,
       "min_width": null,
       "object_fit": null,
       "object_position": null,
       "order": null,
       "overflow": null,
       "overflow_x": null,
       "overflow_y": null,
       "padding": null,
       "right": null,
       "top": null,
       "visibility": null,
       "width": null
      }
     },
     "f968ab6edab040a69b16b2f2f011af0f": {
      "model_module": "@jupyter-widgets/controls",
      "model_module_version": "1.5.0",
      "model_name": "DescriptionStyleModel",
      "state": {
       "_model_module": "@jupyter-widgets/controls",
       "_model_module_version": "1.5.0",
       "_model_name": "DescriptionStyleModel",
       "_view_count": null,
       "_view_module": "@jupyter-widgets/base",
       "_view_module_version": "1.2.0",
       "_view_name": "StyleView",
       "description_width": ""
      }
     },
     "feea18a692e64a9bbadb31f0bcfc7bb9": {
      "model_module": "@jupyter-widgets/base",
      "model_module_version": "1.2.0",
      "model_name": "LayoutModel",
      "state": {
       "_model_module": "@jupyter-widgets/base",
       "_model_module_version": "1.2.0",
       "_model_name": "LayoutModel",
       "_view_count": null,
       "_view_module": "@jupyter-widgets/base",
       "_view_module_version": "1.2.0",
       "_view_name": "LayoutView",
       "align_content": null,
       "align_items": null,
       "align_self": null,
       "border": null,
       "bottom": null,
       "display": null,
       "flex": null,
       "flex_flow": null,
       "grid_area": null,
       "grid_auto_columns": null,
       "grid_auto_flow": null,
       "grid_auto_rows": null,
       "grid_column": null,
       "grid_gap": null,
       "grid_row": null,
       "grid_template_areas": null,
       "grid_template_columns": null,
       "grid_template_rows": null,
       "height": null,
       "justify_content": null,
       "justify_items": null,
       "left": null,
       "margin": null,
       "max_height": null,
       "max_width": null,
       "min_height": null,
       "min_width": null,
       "object_fit": null,
       "object_position": null,
       "order": null,
       "overflow": null,
       "overflow_x": null,
       "overflow_y": null,
       "padding": null,
       "right": null,
       "top": null,
       "visibility": null,
       "width": null
      }
     },
     "ff6676cdb96e441c9bebe960627bb264": {
      "model_module": "@jupyter-widgets/controls",
      "model_module_version": "1.5.0",
      "model_name": "ProgressStyleModel",
      "state": {
       "_model_module": "@jupyter-widgets/controls",
       "_model_module_version": "1.5.0",
       "_model_name": "ProgressStyleModel",
       "_view_count": null,
       "_view_module": "@jupyter-widgets/base",
       "_view_module_version": "1.2.0",
       "_view_name": "StyleView",
       "bar_color": null,
       "description_width": ""
      }
     }
    },
    "version_major": 2,
    "version_minor": 0
   }
  }
 },
 "nbformat": 4,
 "nbformat_minor": 5
}
